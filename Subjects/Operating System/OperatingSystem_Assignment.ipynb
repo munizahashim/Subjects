{
 "cells": [
  {
   "cell_type": "markdown",
   "id": "cbb52732",
   "metadata": {},
   "source": [
    "# Operating System assignment \n",
    "Write a program that creates two child processes using the fork() system \n",
    "call. The first child process should print \"Hello from first child process\" to \n",
    "the console, and the second child process should print \"Hello from second \n",
    "child process\". The parent process should wait for both child processes to \n",
    "complete before exiting."
   ]
  },
  {
   "cell_type": "code",
   "execution_count": 1,
   "id": "b48fb1b5",
   "metadata": {},
   "outputs": [
    {
     "ename": "AttributeError",
     "evalue": "module 'os' has no attribute 'fork'",
     "output_type": "error",
     "traceback": [
      "\u001b[1;31m---------------------------------------------------------------------------\u001b[0m",
      "\u001b[1;31mAttributeError\u001b[0m                            Traceback (most recent call last)",
      "Cell \u001b[1;32mIn[1], line 9\u001b[0m\n\u001b[0;32m      6\u001b[0m     \u001b[38;5;28;01melif\u001b[39;00m num \u001b[38;5;241m==\u001b[39m \u001b[38;5;241m2\u001b[39m:\n\u001b[0;32m      7\u001b[0m         \u001b[38;5;28mprint\u001b[39m(\u001b[38;5;124m\"\u001b[39m\u001b[38;5;124mHello from second child process\u001b[39m\u001b[38;5;124m\"\u001b[39m)\n\u001b[1;32m----> 9\u001b[0m pid1 \u001b[38;5;241m=\u001b[39m \u001b[43mos\u001b[49m\u001b[38;5;241;43m.\u001b[39;49m\u001b[43mfork\u001b[49m()  \u001b[38;5;66;03m# create first child process\u001b[39;00m\n\u001b[0;32m     10\u001b[0m \u001b[38;5;28;01mif\u001b[39;00m pid1 \u001b[38;5;241m==\u001b[39m \u001b[38;5;241m0\u001b[39m:  \u001b[38;5;66;03m# if we're in the first child process\u001b[39;00m\n\u001b[0;32m     11\u001b[0m     child_process(\u001b[38;5;241m1\u001b[39m)\n",
      "\u001b[1;31mAttributeError\u001b[0m: module 'os' has no attribute 'fork'"
     ]
    }
   ],
   "source": [
    "import os\n",
    "\n",
    "def child_process(num):\n",
    "    if num == 1:\n",
    "        print(\"Hello from first child process\")\n",
    "    elif num == 2:\n",
    "        print(\"Hello from second child process\")\n",
    "\n",
    "pid1 = os.fork()  # create first child process\n",
    "if pid1 == 0:  # if we're in the first child process\n",
    "    child_process(1)\n",
    "    exit(0)  # exit child process\n",
    "\n",
    "pid2 = os.fork()  # create second child process\n",
    "if pid2 == 0:  # if we're in the second child process\n",
    "    child_process(2)\n",
    "    exit(0)  # exit child process\n",
    "\n",
    "# wait for both child processes to complete\n",
    "os.waitpid(pid1, 0)\n",
    "os.waitpid(pid2, 0)\n",
    "\n",
    "print(\"Parent process is exiting\")\n"
   ]
  },
  {
   "cell_type": "markdown",
   "id": "c6b06178",
   "metadata": {},
   "source": [
    "# Checking os.fork() availability "
   ]
  },
  {
   "cell_type": "code",
   "execution_count": 5,
   "id": "135bada0",
   "metadata": {},
   "outputs": [
    {
     "name": "stdout",
     "output_type": "stream",
     "text": [
      "os.fork() is not available\n"
     ]
    }
   ],
   "source": [
    "import os\n",
    "\n",
    "if hasattr(os, \"fork\"):\n",
    "    print(\"os.fork() is available\")\n",
    "else:\n",
    "    print(\"os.fork() is not available\")\n"
   ]
  },
  {
   "cell_type": "markdown",
   "id": "0a1c5825",
   "metadata": {},
   "source": [
    "# Multiprocessing \n",
    "I wanted to use Fork( ) system call to creates two child processes but os.fork() is not available on my system as shown below in the code:\n",
    "Reason : I am using a non-Unix-based operating system, such as Windows, then the fork() system call is not available. This is because fork() is specific to Unix-based operating systems, such as Linux, macOS, and other Unix-like systems.\n",
    "\n",
    "\n",
    "Multiprocessing: On Windows, we can use the multiprocessing module in Python to create child processes. This module provides an API for spawning new processes using a range of methods, including fork(). However, under the hood, multiprocessing uses different mechanisms on Windows, such as creating new processes using the subprocess module, as fork() is not available."
   ]
  },
  {
   "cell_type": "code",
   "execution_count": 6,
   "id": "45d242d2",
   "metadata": {},
   "outputs": [
    {
     "name": "stdout",
     "output_type": "stream",
     "text": [
      "Parent process is exiting\n"
     ]
    }
   ],
   "source": [
    "import multiprocessing\n",
    "\n",
    "def child_process(num):\n",
    "    if num == 1:\n",
    "        print(\"Hello from first child process\")\n",
    "    elif num == 2:\n",
    "        print(\"Hello from second child process\")\n",
    "\n",
    "p1 = multiprocessing.Process(target=child_process, args=(1,))\n",
    "p2 = multiprocessing.Process(target=child_process, args=(2,))\n",
    "p1.start()\n",
    "p2.start()\n",
    "p1.join()\n",
    "p2.join()\n",
    "\n",
    "print(\"Parent process is exiting\")\n"
   ]
  },
  {
   "cell_type": "markdown",
   "id": "121d6d10",
   "metadata": {},
   "source": [
    "# producer-consumer problem \n",
    "Write a program that implements the producer-consumer problem with a \n",
    "single producer and a single consumer. The program should create a shared \n",
    "buffer of size N and use condition variables to ensure that the buffer is \n",
    "accessed safely and efficiently by the producer and consumer.\n",
    "The producer should generate random integers between 1 and 100 and add them\n",
    "to the buffer until the buffer is full. The consumer should retrieve integers from \n",
    "the buffer and print them to the console until the buffer is empty. The program \n",
    "should terminate after a fixed number of integers have been produced and \n",
    "consumed.\n",
    "Here are some additional requirements and constraints:\n",
    "The program should use a fixed buffer size of N (<70).\n",
    "The program should use a fixed number of integers to be produced and \n",
    "consumed.\n",
    "The program should handle error conditions such as buffer overflow, buffer \n",
    "underflow, and invalid command-line arguments or configuration values.\n",
    "The program should be well-documented and well-structured, with clear \n",
    "separation of concerns between the producer and consumer threads, and proper \n",
    "error handling and synchronization mechanisms"
   ]
  },
  {
   "cell_type": "code",
   "execution_count": 7,
   "id": "e9e654a3",
   "metadata": {},
   "outputs": [
    {
     "name": "stdout",
     "output_type": "stream",
     "text": [
      "Produced item 70\n",
      "Produced item 81\n",
      "Produced item 98\n",
      "Produced item 91\n",
      "Produced item 51\n",
      "Produced item 11\n",
      "Produced item 78\n",
      "Produced item 67\n",
      "Produced item 70\n",
      "Produced item 47\n",
      "Consumed item 70\n",
      "Consumed item 81\n",
      "Consumed item 98\n",
      "Consumed item 91\n",
      "Consumed item 51\n",
      "Consumed item 11\n",
      "Consumed item 78\n",
      "Consumed item 67\n",
      "Consumed item 70\n",
      "Consumed item 47\n",
      "Produced item 86\n",
      "Produced item 61\n",
      "Produced item 54\n",
      "Produced item 69\n",
      "Produced item 66\n",
      "Produced item 40\n",
      "Produced item 92\n",
      "Produced item 81\n",
      "Produced item 26\n",
      "Produced item 74\n",
      "Consumed item 86\n",
      "Consumed item 61\n",
      "Consumed item 54\n",
      "Consumed item 69\n",
      "Consumed item 66\n",
      "Consumed item 40\n",
      "Consumed item 92\n",
      "Consumed item 81\n",
      "Consumed item 26\n",
      "Consumed item 74\n",
      "Program complete.\n"
     ]
    }
   ],
   "source": [
    "import threading\n",
    "import random\n",
    "import time\n",
    "import queue\n",
    "\n",
    "# Define the buffer size and number of items\n",
    "BUFFER_SIZE < 70\n",
    "NUM_ITEMS = 20\n",
    "\n",
    "# Create the buffer and event objects\n",
    "buffer = queue.Queue(BUFFER_SIZE)\n",
    "producer_done = threading.Event()\n",
    "\n",
    "# Define the producer function to add items to the buffer\n",
    "def producer():\n",
    "    # Loop through the specified number of items\n",
    "    for i in range(NUM_ITEMS):\n",
    "        # Generate a random item\n",
    "        item = random.randint(1, 100)\n",
    "        \n",
    "        # Wait until there is space in the buffer\n",
    "        while buffer.full():\n",
    "            time.sleep(0.1)\n",
    "        \n",
    "        # Add the item to the buffer\n",
    "        buffer.put(item)\n",
    "        \n",
    "        # Print the item that has been produced\n",
    "        print(f\"Produced item {item}\")\n",
    "    \n",
    "    # Signal that the producer is done\n",
    "    producer_done.set()\n",
    "\n",
    "# Define the consumer function to remove items from the buffer\n",
    "def consumer():\n",
    "    # Loop until the producer is done and the buffer is empty\n",
    "    while not producer_done.is_set() or not buffer.empty():\n",
    "        try:\n",
    "            # Get an item from the buffer with a timeout of 0.1 seconds\n",
    "            item = buffer.get(timeout=0.1)\n",
    "            \n",
    "            # Print the item that has been consumed\n",
    "            print(f\"Consumed item {item}\")\n",
    "        \n",
    "        # If the buffer is empty, wait a bit and try again\n",
    "        except queue.Empty:\n",
    "            pass\n",
    "\n",
    "# Create the producer and consumer threads\n",
    "producer_thread = threading.Thread(target=producer)\n",
    "consumer_thread = threading.Thread(target=consumer)\n",
    "\n",
    "# Start the threads\n",
    "producer_thread.start()\n",
    "consumer_thread.start()\n",
    "\n",
    "# Wait for the threads to finish\n",
    "producer_thread.join()\n",
    "consumer_thread.join()\n",
    "\n",
    "# Print a message indicating that the program is complete\n",
    "print(\"Program complete.\")\n"
   ]
  },
  {
   "cell_type": "code",
   "execution_count": null,
   "id": "f8407bcc",
   "metadata": {},
   "outputs": [],
   "source": []
  }
 ],
 "metadata": {
  "kernelspec": {
   "display_name": "Python 3 (ipykernel)",
   "language": "python",
   "name": "python3"
  },
  "language_info": {
   "codemirror_mode": {
    "name": "ipython",
    "version": 3
   },
   "file_extension": ".py",
   "mimetype": "text/x-python",
   "name": "python",
   "nbconvert_exporter": "python",
   "pygments_lexer": "ipython3",
   "version": "3.10.9"
  }
 },
 "nbformat": 4,
 "nbformat_minor": 5
}
