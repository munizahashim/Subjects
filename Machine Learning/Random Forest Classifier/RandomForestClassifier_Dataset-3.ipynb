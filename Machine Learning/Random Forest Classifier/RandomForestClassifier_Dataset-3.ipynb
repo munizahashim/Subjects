{
 "cells": [
  {
   "cell_type": "code",
   "execution_count": 1,
   "id": "23d685a9",
   "metadata": {},
   "outputs": [
    {
     "data": {
      "text/html": [
       "<div>\n",
       "<style scoped>\n",
       "    .dataframe tbody tr th:only-of-type {\n",
       "        vertical-align: middle;\n",
       "    }\n",
       "\n",
       "    .dataframe tbody tr th {\n",
       "        vertical-align: top;\n",
       "    }\n",
       "\n",
       "    .dataframe thead th {\n",
       "        text-align: right;\n",
       "    }\n",
       "</style>\n",
       "<table border=\"1\" class=\"dataframe\">\n",
       "  <thead>\n",
       "    <tr style=\"text-align: right;\">\n",
       "      <th></th>\n",
       "      <th>Mean1</th>\n",
       "      <th>Variance1</th>\n",
       "      <th>Skewness1</th>\n",
       "      <th>Kurtosis1</th>\n",
       "      <th>Contrast1</th>\n",
       "      <th>Entropy1</th>\n",
       "      <th>Energy1</th>\n",
       "      <th>Homo1</th>\n",
       "      <th>Corre1</th>\n",
       "      <th>Mean2</th>\n",
       "      <th>...</th>\n",
       "      <th>Mean3</th>\n",
       "      <th>Variance3</th>\n",
       "      <th>Skewness3</th>\n",
       "      <th>Kurtosis3</th>\n",
       "      <th>Contrast3</th>\n",
       "      <th>Entropy3</th>\n",
       "      <th>Energy3</th>\n",
       "      <th>Homo13</th>\n",
       "      <th>Corre3</th>\n",
       "      <th>Class</th>\n",
       "    </tr>\n",
       "  </thead>\n",
       "  <tbody>\n",
       "    <tr>\n",
       "      <th>0</th>\n",
       "      <td>42.309998</td>\n",
       "      <td>83.484414</td>\n",
       "      <td>1.818016</td>\n",
       "      <td>1.807846</td>\n",
       "      <td>1.467045</td>\n",
       "      <td>3731.006605</td>\n",
       "      <td>0.703142</td>\n",
       "      <td>0.870627</td>\n",
       "      <td>0.732727</td>\n",
       "      <td>32.688538</td>\n",
       "      <td>...</td>\n",
       "      <td>165.165817</td>\n",
       "      <td>93.981039</td>\n",
       "      <td>-1.134481</td>\n",
       "      <td>-0.590945</td>\n",
       "      <td>1.652185</td>\n",
       "      <td>5565.156755</td>\n",
       "      <td>0.644235</td>\n",
       "      <td>0.883303</td>\n",
       "      <td>0.685422</td>\n",
       "      <td>1</td>\n",
       "    </tr>\n",
       "    <tr>\n",
       "      <th>1</th>\n",
       "      <td>39.366226</td>\n",
       "      <td>82.120006</td>\n",
       "      <td>1.939550</td>\n",
       "      <td>2.232114</td>\n",
       "      <td>1.401411</td>\n",
       "      <td>3436.584393</td>\n",
       "      <td>0.730720</td>\n",
       "      <td>0.890305</td>\n",
       "      <td>0.745583</td>\n",
       "      <td>32.111114</td>\n",
       "      <td>...</td>\n",
       "      <td>173.271973</td>\n",
       "      <td>91.703587</td>\n",
       "      <td>-1.318133</td>\n",
       "      <td>-0.169259</td>\n",
       "      <td>1.606052</td>\n",
       "      <td>4818.707161</td>\n",
       "      <td>0.676147</td>\n",
       "      <td>0.896975</td>\n",
       "      <td>0.713930</td>\n",
       "      <td>1</td>\n",
       "    </tr>\n",
       "    <tr>\n",
       "      <th>2</th>\n",
       "      <td>37.898514</td>\n",
       "      <td>84.257568</td>\n",
       "      <td>2.053724</td>\n",
       "      <td>2.472865</td>\n",
       "      <td>1.373625</td>\n",
       "      <td>10382.321200</td>\n",
       "      <td>0.666713</td>\n",
       "      <td>0.710450</td>\n",
       "      <td>0.271062</td>\n",
       "      <td>55.942551</td>\n",
       "      <td>...</td>\n",
       "      <td>162.537750</td>\n",
       "      <td>82.835883</td>\n",
       "      <td>-1.117115</td>\n",
       "      <td>-0.054858</td>\n",
       "      <td>2.162610</td>\n",
       "      <td>12243.344090</td>\n",
       "      <td>0.560580</td>\n",
       "      <td>0.695629</td>\n",
       "      <td>0.111088</td>\n",
       "      <td>1</td>\n",
       "    </tr>\n",
       "    <tr>\n",
       "      <th>3</th>\n",
       "      <td>38.373337</td>\n",
       "      <td>82.488351</td>\n",
       "      <td>2.026605</td>\n",
       "      <td>2.479962</td>\n",
       "      <td>1.485618</td>\n",
       "      <td>9399.336734</td>\n",
       "      <td>0.649457</td>\n",
       "      <td>0.695477</td>\n",
       "      <td>0.311426</td>\n",
       "      <td>54.772614</td>\n",
       "      <td>...</td>\n",
       "      <td>161.510162</td>\n",
       "      <td>82.691970</td>\n",
       "      <td>-1.137138</td>\n",
       "      <td>-0.034112</td>\n",
       "      <td>2.125591</td>\n",
       "      <td>11964.657400</td>\n",
       "      <td>0.557702</td>\n",
       "      <td>0.691261</td>\n",
       "      <td>0.128169</td>\n",
       "      <td>1</td>\n",
       "    </tr>\n",
       "    <tr>\n",
       "      <th>4</th>\n",
       "      <td>39.092346</td>\n",
       "      <td>80.643568</td>\n",
       "      <td>1.973096</td>\n",
       "      <td>2.389773</td>\n",
       "      <td>1.664926</td>\n",
       "      <td>8257.256189</td>\n",
       "      <td>0.640832</td>\n",
       "      <td>0.689191</td>\n",
       "      <td>0.367061</td>\n",
       "      <td>48.296722</td>\n",
       "      <td>...</td>\n",
       "      <td>162.340897</td>\n",
       "      <td>81.835853</td>\n",
       "      <td>-1.258373</td>\n",
       "      <td>0.122907</td>\n",
       "      <td>2.121965</td>\n",
       "      <td>11100.566650</td>\n",
       "      <td>0.573414</td>\n",
       "      <td>0.694173</td>\n",
       "      <td>0.174132</td>\n",
       "      <td>1</td>\n",
       "    </tr>\n",
       "  </tbody>\n",
       "</table>\n",
       "<p>5 rows × 28 columns</p>\n",
       "</div>"
      ],
      "text/plain": [
       "       Mean1  Variance1  Skewness1  Kurtosis1  Contrast1      Entropy1  \\\n",
       "0  42.309998  83.484414   1.818016   1.807846   1.467045   3731.006605   \n",
       "1  39.366226  82.120006   1.939550   2.232114   1.401411   3436.584393   \n",
       "2  37.898514  84.257568   2.053724   2.472865   1.373625  10382.321200   \n",
       "3  38.373337  82.488351   2.026605   2.479962   1.485618   9399.336734   \n",
       "4  39.092346  80.643568   1.973096   2.389773   1.664926   8257.256189   \n",
       "\n",
       "    Energy1     Homo1    Corre1      Mean2  ...       Mean3  Variance3  \\\n",
       "0  0.703142  0.870627  0.732727  32.688538  ...  165.165817  93.981039   \n",
       "1  0.730720  0.890305  0.745583  32.111114  ...  173.271973  91.703587   \n",
       "2  0.666713  0.710450  0.271062  55.942551  ...  162.537750  82.835883   \n",
       "3  0.649457  0.695477  0.311426  54.772614  ...  161.510162  82.691970   \n",
       "4  0.640832  0.689191  0.367061  48.296722  ...  162.340897  81.835853   \n",
       "\n",
       "   Skewness3  Kurtosis3  Contrast3      Entropy3   Energy3    Homo13  \\\n",
       "0  -1.134481  -0.590945   1.652185   5565.156755  0.644235  0.883303   \n",
       "1  -1.318133  -0.169259   1.606052   4818.707161  0.676147  0.896975   \n",
       "2  -1.117115  -0.054858   2.162610  12243.344090  0.560580  0.695629   \n",
       "3  -1.137138  -0.034112   2.125591  11964.657400  0.557702  0.691261   \n",
       "4  -1.258373   0.122907   2.121965  11100.566650  0.573414  0.694173   \n",
       "\n",
       "     Corre3  Class  \n",
       "0  0.685422      1  \n",
       "1  0.713930      1  \n",
       "2  0.111088      1  \n",
       "3  0.128169      1  \n",
       "4  0.174132      1  \n",
       "\n",
       "[5 rows x 28 columns]"
      ]
     },
     "execution_count": 1,
     "metadata": {},
     "output_type": "execute_result"
    }
   ],
   "source": [
    "# importing the pandas module\n",
    "import pandas as pd\n",
    "\n",
    "# importing the data set\n",
    "data = pd.read_csv('Dataset-3.csv')\n",
    "\n",
    "# printing the fist few data set\n",
    "data.head()"
   ]
  },
  {
   "cell_type": "code",
   "execution_count": 2,
   "id": "6a5f5091",
   "metadata": {},
   "outputs": [
    {
     "name": "stdout",
     "output_type": "stream",
     "text": [
      "<class 'pandas.core.frame.DataFrame'>\n",
      "RangeIndex: 140 entries, 0 to 139\n",
      "Data columns (total 28 columns):\n",
      " #   Column     Non-Null Count  Dtype  \n",
      "---  ------     --------------  -----  \n",
      " 0   Mean1      140 non-null    float64\n",
      " 1   Variance1  140 non-null    float64\n",
      " 2   Skewness1  140 non-null    float64\n",
      " 3   Kurtosis1  140 non-null    float64\n",
      " 4   Contrast1  140 non-null    float64\n",
      " 5   Entropy1   140 non-null    float64\n",
      " 6   Energy1    140 non-null    float64\n",
      " 7   Homo1      140 non-null    float64\n",
      " 8   Corre1     140 non-null    float64\n",
      " 9   Mean2      140 non-null    float64\n",
      " 10  Variance2  140 non-null    float64\n",
      " 11  Skewness2  140 non-null    float64\n",
      " 12  Kurtosis2  140 non-null    float64\n",
      " 13  Contrast2  140 non-null    float64\n",
      " 14  Entropy2   140 non-null    float64\n",
      " 15  Energy2    140 non-null    float64\n",
      " 16  Homo2      140 non-null    float64\n",
      " 17  Corre2     140 non-null    float64\n",
      " 18  Mean3      140 non-null    float64\n",
      " 19  Variance3  140 non-null    float64\n",
      " 20  Skewness3  140 non-null    float64\n",
      " 21  Kurtosis3  140 non-null    float64\n",
      " 22  Contrast3  140 non-null    float64\n",
      " 23  Entropy3   140 non-null    float64\n",
      " 24  Energy3    140 non-null    float64\n",
      " 25  Homo13     140 non-null    float64\n",
      " 26  Corre3     140 non-null    float64\n",
      " 27  Class      140 non-null    int64  \n",
      "dtypes: float64(27), int64(1)\n",
      "memory usage: 30.8 KB\n"
     ]
    }
   ],
   "source": [
    "# getting the information about dataset\n",
    "data.info()"
   ]
  },
  {
   "cell_type": "code",
   "execution_count": 3,
   "id": "a862d482",
   "metadata": {},
   "outputs": [],
   "source": [
    "# dividint the dataset into inputs and outputs\n",
    "# storing the input values in the X variable\n",
    "import numpy as np\n",
    "# split the data into inputs and outputs\n",
    "X = data.iloc[:, : -1].values     #all the columns except the last column, dropping the last columm\n",
    "y = np.array(data.iloc[:, -1].values)    #droping all the columns and taking the last column as output"
   ]
  },
  {
   "cell_type": "code",
   "execution_count": 4,
   "id": "c44d1a64",
   "metadata": {},
   "outputs": [],
   "source": [
    "# importing the train_test_split method from sklearn\n",
    "from sklearn.model_selection import train_test_split\n",
    "# splitting the data \n",
    "X_train, X_test, y_train, y_test =train_test_split(X,y,test_size=0.30, random_state=0)"
   ]
  },
  {
   "cell_type": "code",
   "execution_count": 5,
   "id": "e0241507",
   "metadata": {},
   "outputs": [
    {
     "name": "stdout",
     "output_type": "stream",
     "text": [
      "[0 1 1 0 0 0 0 0 0 1 0 1 0 1 0 0 0 0 0 0 0 1 0 1 1 0 1 1 1 1 0 0 1 0 0 0 0\n",
      " 0 0 1 0 0]\n"
     ]
    }
   ],
   "source": [
    "# import Random Forest classifier\n",
    "from sklearn.ensemble import RandomForestClassifier\n",
    "\n",
    "# instantiate the classifier \n",
    "classifier = RandomForestClassifier()\n",
    "\n",
    "# fit the model\n",
    "classifier.fit(X_train, y_train)\n",
    "# predicting the outcome\n",
    "\n",
    "y_pred= classifier.predict(X_test)\n",
    "\n",
    "# printing the output\n",
    "print(y_pred)\n"
   ]
  },
  {
   "cell_type": "code",
   "execution_count": 6,
   "id": "84cd8007",
   "metadata": {},
   "outputs": [
    {
     "name": "stdout",
     "output_type": "stream",
     "text": [
      "0.8333333333333334\n"
     ]
    }
   ],
   "source": [
    "# importing accuracy_score\n",
    "from sklearn.metrics import accuracy_score\n",
    "# printing accuracy\n",
    "print(accuracy_score(y_test,y_pred))"
   ]
  },
  {
   "cell_type": "code",
   "execution_count": 7,
   "id": "74f20866",
   "metadata": {},
   "outputs": [
    {
     "data": {
      "text/plain": [
       "<matplotlib.legend.Legend at 0x190a6c1e8f0>"
      ]
     },
     "execution_count": 7,
     "metadata": {},
     "output_type": "execute_result"
    },
    {
     "data": {
      "image/png": "[encoded data removed]",
      "text/plain": [
       "<Figure size 640x480 with 1 Axes>"
      ]
     },
     "metadata": {},
     "output_type": "display_data"
    }
   ],
   "source": [
    "import matplotlib.pyplot as plt\n",
    "error1= []\n",
    "error2= []\n",
    "# for loop \n",
    "for k in range(1,15):\n",
    "    RFc = RandomForestClassifier()\n",
    "    RFc.fit(X_train, y_train)\n",
    "    y_pred1 = RFc.predict(X_train)\n",
    "    error1.append(np.mean(y_train != y_pred1))\n",
    "    y_pred2 = RFc.predict(X_test)\n",
    "    error2.append(np.mean(y_test != y_pred2))\n",
    "\n",
    "# plotting the graphs for testing and training \n",
    "plt.plot(range(1,15), error1, label=\"train\")\n",
    "plt.plot(range(1,15), error2, label=\"test\")\n",
    "plt.xlabel('k Value')\n",
    "plt.ylabel('Error')\n",
    "plt.legend()\n"
   ]
  },
  {
   "cell_type": "code",
   "execution_count": 9,
   "id": "115f3030",
   "metadata": {},
   "outputs": [
    {
     "name": "stdout",
     "output_type": "stream",
     "text": [
      "              precision    recall  f1-score   support\n",
      "\n",
      "           0       0.93      0.84      0.88        31\n",
      "           1       0.64      0.82      0.72        11\n",
      "\n",
      "    accuracy                           0.83        42\n",
      "   macro avg       0.79      0.83      0.80        42\n",
      "weighted avg       0.85      0.83      0.84        42\n",
      "\n"
     ]
    }
   ],
   "source": [
    "# Importing classification report\n",
    "from sklearn.metrics import classification_report\n",
    "\n",
    "# printing the report\n",
    "print(classification_report(y_test, y_pred))\n",
    "\n"
   ]
  },
  {
   "cell_type": "code",
   "execution_count": null,
   "id": "c9c6abef",
   "metadata": {},
   "outputs": [],
   "source": []
  }
 ],
 "metadata": {
  "kernelspec": {
   "display_name": "Python 3 (ipykernel)",
   "language": "python",
   "name": "python3"
  },
  "language_info": {
   "codemirror_mode": {
    "name": "ipython",
    "version": 3
   },
   "file_extension": ".py",
   "mimetype": "text/x-python",
   "name": "python",
   "nbconvert_exporter": "python",
   "pygments_lexer": "ipython3",
   "version": "3.10.9"
  }
 },
 "nbformat": 4,
 "nbformat_minor": 5
}
