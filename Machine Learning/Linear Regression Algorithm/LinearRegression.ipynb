{
 "cells": [
  {
   "cell_type": "code",
   "execution_count": 2,
   "id": "6b149c95",
   "metadata": {},
   "outputs": [],
   "source": [
    "# Importing the required modules for linear regression using python\n",
    "import matplotlib.pyplot as plt\n",
    "import pandas as pd\n"
   ]
  },
  {
   "cell_type": "code",
   "execution_count": 3,
   "id": "155dabb9",
   "metadata": {},
   "outputs": [],
   "source": [
    "# Importing the dataset\n",
    "import numpy as np\n",
    "import pandas as pd\n",
    "dataset = pd.read_csv('Dataset-1.csv')\n"
   ]
  },
  {
   "cell_type": "code",
   "execution_count": 4,
   "id": "7186f7b6",
   "metadata": {},
   "outputs": [
    {
     "data": {
      "text/html": [
       "<div>\n",
       "<style scoped>\n",
       "    .dataframe tbody tr th:only-of-type {\n",
       "        vertical-align: middle;\n",
       "    }\n",
       "\n",
       "    .dataframe tbody tr th {\n",
       "        vertical-align: top;\n",
       "    }\n",
       "\n",
       "    .dataframe thead th {\n",
       "        text-align: right;\n",
       "    }\n",
       "</style>\n",
       "<table border=\"1\" class=\"dataframe\">\n",
       "  <thead>\n",
       "    <tr style=\"text-align: right;\">\n",
       "      <th></th>\n",
       "      <th>2</th>\n",
       "      <th>2.1</th>\n",
       "      <th>0</th>\n",
       "      <th>0.1</th>\n",
       "      <th>6</th>\n",
       "      <th>1</th>\n",
       "      <th>1.1</th>\n",
       "      <th>2016</th>\n",
       "      <th>85</th>\n",
       "      <th>74.8</th>\n",
       "      <th>...</th>\n",
       "      <th>89.4</th>\n",
       "      <th>65</th>\n",
       "      <th>21</th>\n",
       "      <th>9.5</th>\n",
       "      <th>0.2</th>\n",
       "      <th>29.8</th>\n",
       "      <th>29.8.1</th>\n",
       "      <th>29.7</th>\n",
       "      <th>0.3</th>\n",
       "      <th>1.057</th>\n",
       "    </tr>\n",
       "  </thead>\n",
       "  <tbody>\n",
       "    <tr>\n",
       "      <th>0</th>\n",
       "      <td>2</td>\n",
       "      <td>2</td>\n",
       "      <td>1</td>\n",
       "      <td>0</td>\n",
       "      <td>6</td>\n",
       "      <td>1</td>\n",
       "      <td>1</td>\n",
       "      <td>2016</td>\n",
       "      <td>85</td>\n",
       "      <td>74.8</td>\n",
       "      <td>...</td>\n",
       "      <td>89.4</td>\n",
       "      <td>65</td>\n",
       "      <td>21</td>\n",
       "      <td>9.5</td>\n",
       "      <td>0</td>\n",
       "      <td>29.8</td>\n",
       "      <td>29.8</td>\n",
       "      <td>29.7</td>\n",
       "      <td>0.0</td>\n",
       "      <td>1.171</td>\n",
       "    </tr>\n",
       "    <tr>\n",
       "      <th>1</th>\n",
       "      <td>2</td>\n",
       "      <td>2</td>\n",
       "      <td>2</td>\n",
       "      <td>0</td>\n",
       "      <td>6</td>\n",
       "      <td>1</td>\n",
       "      <td>1</td>\n",
       "      <td>2016</td>\n",
       "      <td>85</td>\n",
       "      <td>74.8</td>\n",
       "      <td>...</td>\n",
       "      <td>89.4</td>\n",
       "      <td>65</td>\n",
       "      <td>21</td>\n",
       "      <td>9.5</td>\n",
       "      <td>0</td>\n",
       "      <td>29.8</td>\n",
       "      <td>29.8</td>\n",
       "      <td>29.7</td>\n",
       "      <td>0.0</td>\n",
       "      <td>0.560</td>\n",
       "    </tr>\n",
       "    <tr>\n",
       "      <th>2</th>\n",
       "      <td>2</td>\n",
       "      <td>2</td>\n",
       "      <td>3</td>\n",
       "      <td>0</td>\n",
       "      <td>6</td>\n",
       "      <td>1</td>\n",
       "      <td>1</td>\n",
       "      <td>2016</td>\n",
       "      <td>85</td>\n",
       "      <td>74.8</td>\n",
       "      <td>...</td>\n",
       "      <td>89.4</td>\n",
       "      <td>65</td>\n",
       "      <td>21</td>\n",
       "      <td>9.5</td>\n",
       "      <td>0</td>\n",
       "      <td>29.8</td>\n",
       "      <td>29.8</td>\n",
       "      <td>29.7</td>\n",
       "      <td>0.0</td>\n",
       "      <td>0.828</td>\n",
       "    </tr>\n",
       "    <tr>\n",
       "      <th>3</th>\n",
       "      <td>2</td>\n",
       "      <td>2</td>\n",
       "      <td>4</td>\n",
       "      <td>0</td>\n",
       "      <td>6</td>\n",
       "      <td>1</td>\n",
       "      <td>1</td>\n",
       "      <td>2016</td>\n",
       "      <td>85</td>\n",
       "      <td>74.8</td>\n",
       "      <td>...</td>\n",
       "      <td>89.4</td>\n",
       "      <td>65</td>\n",
       "      <td>21</td>\n",
       "      <td>9.5</td>\n",
       "      <td>0</td>\n",
       "      <td>29.8</td>\n",
       "      <td>29.8</td>\n",
       "      <td>29.7</td>\n",
       "      <td>0.0</td>\n",
       "      <td>0.932</td>\n",
       "    </tr>\n",
       "    <tr>\n",
       "      <th>4</th>\n",
       "      <td>2</td>\n",
       "      <td>2</td>\n",
       "      <td>5</td>\n",
       "      <td>0</td>\n",
       "      <td>6</td>\n",
       "      <td>1</td>\n",
       "      <td>1</td>\n",
       "      <td>2016</td>\n",
       "      <td>85</td>\n",
       "      <td>74.8</td>\n",
       "      <td>...</td>\n",
       "      <td>89.4</td>\n",
       "      <td>65</td>\n",
       "      <td>21</td>\n",
       "      <td>9.5</td>\n",
       "      <td>0</td>\n",
       "      <td>29.8</td>\n",
       "      <td>29.8</td>\n",
       "      <td>29.7</td>\n",
       "      <td>0.0</td>\n",
       "      <td>0.333</td>\n",
       "    </tr>\n",
       "  </tbody>\n",
       "</table>\n",
       "<p>5 rows × 25 columns</p>\n",
       "</div>"
      ],
      "text/plain": [
       "   2  2.1  0  0.1  6  1  1.1  2016  85  74.8  ...  89.4  65  21  9.5  0.2  \\\n",
       "0  2    2  1    0  6  1    1  2016  85  74.8  ...  89.4  65  21  9.5    0   \n",
       "1  2    2  2    0  6  1    1  2016  85  74.8  ...  89.4  65  21  9.5    0   \n",
       "2  2    2  3    0  6  1    1  2016  85  74.8  ...  89.4  65  21  9.5    0   \n",
       "3  2    2  4    0  6  1    1  2016  85  74.8  ...  89.4  65  21  9.5    0   \n",
       "4  2    2  5    0  6  1    1  2016  85  74.8  ...  89.4  65  21  9.5    0   \n",
       "\n",
       "   29.8  29.8.1  29.7  0.3  1.057  \n",
       "0  29.8    29.8  29.7  0.0  1.171  \n",
       "1  29.8    29.8  29.7  0.0  0.560  \n",
       "2  29.8    29.8  29.7  0.0  0.828  \n",
       "3  29.8    29.8  29.7  0.0  0.932  \n",
       "4  29.8    29.8  29.7  0.0  0.333  \n",
       "\n",
       "[5 rows x 25 columns]"
      ]
     },
     "execution_count": 4,
     "metadata": {},
     "output_type": "execute_result"
    }
   ],
   "source": [
    "dataset.head()"
   ]
  },
  {
   "cell_type": "code",
   "execution_count": 21,
   "id": "9c6b6951",
   "metadata": {},
   "outputs": [],
   "source": [
    "#get a copy of dataset exclude last column\n",
    "#slicing the data , Taking the \n",
    "#input_data = dataset.iloc[:, :-1].copy() all the columns except the last column, dropping the last columm\n",
    "input = np.array(dataset.iloc[:, 2].values) # taking the second column as input, since it is linear regression and we neeed only on input and one output \n",
    "output = np.array(dataset.iloc[:, -1].values) #droping all the columns and taking the last column as output "
   ]
  },
  {
   "cell_type": "code",
   "execution_count": 22,
   "id": "f59a4095",
   "metadata": {},
   "outputs": [
    {
     "data": {
      "text/plain": [
       "(array([ 1,  2,  3, ..., 21, 22, 23], dtype=int64),\n",
       " array([1.171, 0.56 , 0.828, ..., 2.138, 2.199, 1.809]))"
      ]
     },
     "execution_count": 22,
     "metadata": {},
     "output_type": "execute_result"
    }
   ],
   "source": [
    "input , output "
   ]
  },
  {
   "cell_type": "code",
   "execution_count": 23,
   "id": "e5d35ec9",
   "metadata": {},
   "outputs": [
    {
     "name": "stdout",
     "output_type": "stream",
     "text": [
      "training output values: \n",
      " [0.919 0.256 0.289 ... 0.492 0.338 0.25 ]\n",
      "Testing output values:\n",
      " [0.365 0.539 0.347 ... 0.181 0.759 0.231]\n"
     ]
    }
   ],
   "source": [
    "# Splitting the dataset into the Training data set and Testing data set\n",
    "from sklearn.model_selection import train_test_split\n",
    "# 30% data for testing, random state 1\n",
    "X_train, X_test, y_train, y_test = train_test_split(input, output, train_size=.7, random_state=1)\n",
    "#printing the splitted output values\n",
    "print(\"training output values: \\n\",y_train)\n",
    "print(\"Testing output values:\\n\",y_test)"
   ]
  },
  {
   "cell_type": "code",
   "execution_count": 24,
   "id": "e6d78e04",
   "metadata": {},
   "outputs": [],
   "source": [
    "X_train = X_train.reshape(-1, 1)\n",
    "X_test = X_test.reshape(-1, 1)\n"
   ]
  },
  {
   "cell_type": "code",
   "execution_count": 25,
   "id": "98393930",
   "metadata": {},
   "outputs": [
    {
     "data": {
      "text/plain": [
       "array([0.79759722, 0.75878357, 1.03047909, ..., 0.99166545, 0.56471534,\n",
       "       0.9528518 ])"
      ]
     },
     "execution_count": 25,
     "metadata": {},
     "output_type": "execute_result"
    }
   ],
   "source": [
    "# Importing linear regression form sklear\n",
    "from sklearn.linear_model import LinearRegression\n",
    "# initializing the algorithm\n",
    "regressor = LinearRegression()\n",
    "# Fitting Simple Linear Regression to the Training set\n",
    "regressor.fit(X_train, y_train)\n",
    "# Predicting the Test set results\n",
    "y_pred = regressor.predict(X_test)\n",
    "y_pred"
   ]
  },
  {
   "cell_type": "code",
   "execution_count": 26,
   "id": "913a8bee",
   "metadata": {},
   "outputs": [],
   "source": [
    "from sklearn.metrics import mean_squared_error, mean_squared_error\n",
    "from sklearn.metrics import mean_absolute_error\n",
    "# Assuming y_train and y_pred are the train and predicted labels, respectively\n",
    "MSE = mean_squared_error(y_test, y_pred)\n",
    "RMSE = mean_squared_error(y_test, y_pred, squared=False)\n",
    "MAE = mean_absolute_error(y_test, y_pred)"
   ]
  },
  {
   "cell_type": "code",
   "execution_count": 27,
   "id": "8e0a0d88",
   "metadata": {},
   "outputs": [
    {
     "data": {
      "text/plain": [
       "(0.737388192948193, 0.858713102816181, 0.6259451019704397)"
      ]
     },
     "execution_count": 27,
     "metadata": {},
     "output_type": "execute_result"
    }
   ],
   "source": [
    "MSE, RMSE , MAE"
   ]
  },
  {
   "cell_type": "markdown",
   "id": "3143f40f",
   "metadata": {},
   "source": [
    "# accuracy_score and linear regression \n",
    "Accuracy score is generally used to evaluate the performance of a classification model, where the predicted outputs are categorical. For continuous data, accuracy score might not be the most appropriate measure to use.\n",
    "\n",
    "If we have continuous data and a corresponding set of true continuous values, we can use various measures to evaluate the performance of a model that predicts continuous values. Some common measures used for regression models are:\n",
    "\n",
    "Mean Squared Error (MSE): calculates the average squared difference between the predicted and true values.\n",
    "\n",
    "Root Mean Squared Error (RMSE): calculates the square root of the MSE, which gives an estimate of the average distance between the predicted and true values.\n",
    "\n",
    "Mean Absolute Error (MAE): calculates the average absolute difference between the predicted and true values.\n",
    "\n",
    "R-squared (R²): measures the proportion of variation in the dependent variable that is explained by the independent variables.\n",
    "\n",
    "These measures can provide a better evaluation of the performance of a model that predicts continuous values than accuracy score.\n"
   ]
  },
  {
   "cell_type": "code",
   "execution_count": 28,
   "id": "8a0c2aa6",
   "metadata": {},
   "outputs": [],
   "source": [
    "# # importing the accuracy score\n",
    "# from sklearn.metrics import accuracy_score\n",
    "# # accuracy\n",
    "# print(accuracy_score(y_test, y_pred))\n",
    "# from sklearn.metrics import classification_report\n",
    "# print(classification_report(y_test, y_pred))"
   ]
  },
  {
   "cell_type": "code",
   "execution_count": null,
   "id": "eb3cc57d",
   "metadata": {},
   "outputs": [],
   "source": []
  }
 ],
 "metadata": {
  "kernelspec": {
   "display_name": "Python 3 (ipykernel)",
   "language": "python",
   "name": "python3"
  },
  "language_info": {
   "codemirror_mode": {
    "name": "ipython",
    "version": 3
   },
   "file_extension": ".py",
   "mimetype": "text/x-python",
   "name": "python",
   "nbconvert_exporter": "python",
   "pygments_lexer": "ipython3",
   "version": "3.10.9"
  }
 },
 "nbformat": 4,
 "nbformat_minor": 5
}
