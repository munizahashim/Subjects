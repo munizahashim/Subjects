{
 "cells": [
  {
   "cell_type": "code",
   "execution_count": 2,
   "id": "4aeb56b9",
   "metadata": {},
   "outputs": [],
   "source": [
    "#Importing the libraries\n",
    "import numpy as np\n",
    "import matplotlib.pyplot as plt\n",
    "import pandas as pd\n",
    "import seaborn as sns"
   ]
  },
  {
   "cell_type": "code",
   "execution_count": 3,
   "id": "50493592",
   "metadata": {},
   "outputs": [],
   "source": [
    "# Importing the dataset\n",
    "dataset = pd.read_csv('Dataset-3.csv')\n",
    "\n",
    "# storing the input values in the X variable\n",
    "# split the data into inputs and outputs\n",
    "#slicing the data \n",
    "import numpy as np\n",
    "X = dataset.iloc[: , : -1].values\n",
    "y = np.array(dataset.iloc[: , -1].values)"
   ]
  },
  {
   "cell_type": "code",
   "execution_count": 4,
   "id": "418130af",
   "metadata": {},
   "outputs": [
    {
     "data": {
      "text/html": [
       "<div>\n",
       "<style scoped>\n",
       "    .dataframe tbody tr th:only-of-type {\n",
       "        vertical-align: middle;\n",
       "    }\n",
       "\n",
       "    .dataframe tbody tr th {\n",
       "        vertical-align: top;\n",
       "    }\n",
       "\n",
       "    .dataframe thead th {\n",
       "        text-align: right;\n",
       "    }\n",
       "</style>\n",
       "<table border=\"1\" class=\"dataframe\">\n",
       "  <thead>\n",
       "    <tr style=\"text-align: right;\">\n",
       "      <th></th>\n",
       "      <th>Mean1</th>\n",
       "      <th>Variance1</th>\n",
       "      <th>Skewness1</th>\n",
       "      <th>Kurtosis1</th>\n",
       "      <th>Contrast1</th>\n",
       "      <th>Entropy1</th>\n",
       "      <th>Energy1</th>\n",
       "      <th>Homo1</th>\n",
       "      <th>Corre1</th>\n",
       "      <th>Mean2</th>\n",
       "      <th>...</th>\n",
       "      <th>Mean3</th>\n",
       "      <th>Variance3</th>\n",
       "      <th>Skewness3</th>\n",
       "      <th>Kurtosis3</th>\n",
       "      <th>Contrast3</th>\n",
       "      <th>Entropy3</th>\n",
       "      <th>Energy3</th>\n",
       "      <th>Homo13</th>\n",
       "      <th>Corre3</th>\n",
       "      <th>Class</th>\n",
       "    </tr>\n",
       "  </thead>\n",
       "  <tbody>\n",
       "    <tr>\n",
       "      <th>0</th>\n",
       "      <td>42.309998</td>\n",
       "      <td>83.484414</td>\n",
       "      <td>1.818016</td>\n",
       "      <td>1.807846</td>\n",
       "      <td>1.467045</td>\n",
       "      <td>3731.006605</td>\n",
       "      <td>0.703142</td>\n",
       "      <td>0.870627</td>\n",
       "      <td>0.732727</td>\n",
       "      <td>32.688538</td>\n",
       "      <td>...</td>\n",
       "      <td>165.165817</td>\n",
       "      <td>93.981039</td>\n",
       "      <td>-1.134481</td>\n",
       "      <td>-0.590945</td>\n",
       "      <td>1.652185</td>\n",
       "      <td>5565.156755</td>\n",
       "      <td>0.644235</td>\n",
       "      <td>0.883303</td>\n",
       "      <td>0.685422</td>\n",
       "      <td>1</td>\n",
       "    </tr>\n",
       "    <tr>\n",
       "      <th>1</th>\n",
       "      <td>39.366226</td>\n",
       "      <td>82.120006</td>\n",
       "      <td>1.939550</td>\n",
       "      <td>2.232114</td>\n",
       "      <td>1.401411</td>\n",
       "      <td>3436.584393</td>\n",
       "      <td>0.730720</td>\n",
       "      <td>0.890305</td>\n",
       "      <td>0.745583</td>\n",
       "      <td>32.111114</td>\n",
       "      <td>...</td>\n",
       "      <td>173.271973</td>\n",
       "      <td>91.703587</td>\n",
       "      <td>-1.318133</td>\n",
       "      <td>-0.169259</td>\n",
       "      <td>1.606052</td>\n",
       "      <td>4818.707161</td>\n",
       "      <td>0.676147</td>\n",
       "      <td>0.896975</td>\n",
       "      <td>0.713930</td>\n",
       "      <td>1</td>\n",
       "    </tr>\n",
       "    <tr>\n",
       "      <th>2</th>\n",
       "      <td>37.898514</td>\n",
       "      <td>84.257568</td>\n",
       "      <td>2.053724</td>\n",
       "      <td>2.472865</td>\n",
       "      <td>1.373625</td>\n",
       "      <td>10382.321200</td>\n",
       "      <td>0.666713</td>\n",
       "      <td>0.710450</td>\n",
       "      <td>0.271062</td>\n",
       "      <td>55.942551</td>\n",
       "      <td>...</td>\n",
       "      <td>162.537750</td>\n",
       "      <td>82.835883</td>\n",
       "      <td>-1.117115</td>\n",
       "      <td>-0.054858</td>\n",
       "      <td>2.162610</td>\n",
       "      <td>12243.344090</td>\n",
       "      <td>0.560580</td>\n",
       "      <td>0.695629</td>\n",
       "      <td>0.111088</td>\n",
       "      <td>1</td>\n",
       "    </tr>\n",
       "    <tr>\n",
       "      <th>3</th>\n",
       "      <td>38.373337</td>\n",
       "      <td>82.488351</td>\n",
       "      <td>2.026605</td>\n",
       "      <td>2.479962</td>\n",
       "      <td>1.485618</td>\n",
       "      <td>9399.336734</td>\n",
       "      <td>0.649457</td>\n",
       "      <td>0.695477</td>\n",
       "      <td>0.311426</td>\n",
       "      <td>54.772614</td>\n",
       "      <td>...</td>\n",
       "      <td>161.510162</td>\n",
       "      <td>82.691970</td>\n",
       "      <td>-1.137138</td>\n",
       "      <td>-0.034112</td>\n",
       "      <td>2.125591</td>\n",
       "      <td>11964.657400</td>\n",
       "      <td>0.557702</td>\n",
       "      <td>0.691261</td>\n",
       "      <td>0.128169</td>\n",
       "      <td>1</td>\n",
       "    </tr>\n",
       "    <tr>\n",
       "      <th>4</th>\n",
       "      <td>39.092346</td>\n",
       "      <td>80.643568</td>\n",
       "      <td>1.973096</td>\n",
       "      <td>2.389773</td>\n",
       "      <td>1.664926</td>\n",
       "      <td>8257.256189</td>\n",
       "      <td>0.640832</td>\n",
       "      <td>0.689191</td>\n",
       "      <td>0.367061</td>\n",
       "      <td>48.296722</td>\n",
       "      <td>...</td>\n",
       "      <td>162.340897</td>\n",
       "      <td>81.835853</td>\n",
       "      <td>-1.258373</td>\n",
       "      <td>0.122907</td>\n",
       "      <td>2.121965</td>\n",
       "      <td>11100.566650</td>\n",
       "      <td>0.573414</td>\n",
       "      <td>0.694173</td>\n",
       "      <td>0.174132</td>\n",
       "      <td>1</td>\n",
       "    </tr>\n",
       "  </tbody>\n",
       "</table>\n",
       "<p>5 rows × 28 columns</p>\n",
       "</div>"
      ],
      "text/plain": [
       "       Mean1  Variance1  Skewness1  Kurtosis1  Contrast1      Entropy1  \\\n",
       "0  42.309998  83.484414   1.818016   1.807846   1.467045   3731.006605   \n",
       "1  39.366226  82.120006   1.939550   2.232114   1.401411   3436.584393   \n",
       "2  37.898514  84.257568   2.053724   2.472865   1.373625  10382.321200   \n",
       "3  38.373337  82.488351   2.026605   2.479962   1.485618   9399.336734   \n",
       "4  39.092346  80.643568   1.973096   2.389773   1.664926   8257.256189   \n",
       "\n",
       "    Energy1     Homo1    Corre1      Mean2  ...       Mean3  Variance3  \\\n",
       "0  0.703142  0.870627  0.732727  32.688538  ...  165.165817  93.981039   \n",
       "1  0.730720  0.890305  0.745583  32.111114  ...  173.271973  91.703587   \n",
       "2  0.666713  0.710450  0.271062  55.942551  ...  162.537750  82.835883   \n",
       "3  0.649457  0.695477  0.311426  54.772614  ...  161.510162  82.691970   \n",
       "4  0.640832  0.689191  0.367061  48.296722  ...  162.340897  81.835853   \n",
       "\n",
       "   Skewness3  Kurtosis3  Contrast3      Entropy3   Energy3    Homo13  \\\n",
       "0  -1.134481  -0.590945   1.652185   5565.156755  0.644235  0.883303   \n",
       "1  -1.318133  -0.169259   1.606052   4818.707161  0.676147  0.896975   \n",
       "2  -1.117115  -0.054858   2.162610  12243.344090  0.560580  0.695629   \n",
       "3  -1.137138  -0.034112   2.125591  11964.657400  0.557702  0.691261   \n",
       "4  -1.258373   0.122907   2.121965  11100.566650  0.573414  0.694173   \n",
       "\n",
       "     Corre3  Class  \n",
       "0  0.685422      1  \n",
       "1  0.713930      1  \n",
       "2  0.111088      1  \n",
       "3  0.128169      1  \n",
       "4  0.174132      1  \n",
       "\n",
       "[5 rows x 28 columns]"
      ]
     },
     "execution_count": 4,
     "metadata": {},
     "output_type": "execute_result"
    }
   ],
   "source": [
    "dataset.head()"
   ]
  },
  {
   "cell_type": "code",
   "execution_count": 5,
   "id": "1c75c111",
   "metadata": {},
   "outputs": [],
   "source": [
    "#Training and testing data\n",
    "from sklearn.model_selection import train_test_split\n",
    "\n",
    "# assign test data size 25%\n",
    "X_train, X_test, y_train, y_test =train_test_split(X,y,test_size= 0.25, random_state = 0)"
   ]
  },
  {
   "cell_type": "code",
   "execution_count": 6,
   "id": "34996cbe",
   "metadata": {},
   "outputs": [],
   "source": [
    "# Importing standardScaler\n",
    "from sklearn.preprocessing import StandardScaler\n",
    "\n",
    "# scalling the input data\n",
    "sc_X = StandardScaler() \n",
    "X_train = sc_X.fit_transform(X_train)\n",
    "X_test = sc_X.fit_transform(X_test)"
   ]
  },
  {
   "cell_type": "code",
   "execution_count": 7,
   "id": "c03f775f",
   "metadata": {},
   "outputs": [],
   "source": [
    "# importing bernoulli NB\n",
    "from sklearn.naive_bayes import BernoulliNB\n",
    "\n",
    "# initializaing the NB\n",
    "classifer=BernoulliNB()\n",
    "\n",
    "# Training the model\n",
    "classifer.fit(X_train,y_train)\n",
    "\n",
    "# testing the model\n",
    "y_pred = classifer.predict(X_test)"
   ]
  },
  {
   "cell_type": "code",
   "execution_count": 8,
   "id": "2a4b6003",
   "metadata": {},
   "outputs": [
    {
     "name": "stdout",
     "output_type": "stream",
     "text": [
      "0.7428571428571429\n"
     ]
    }
   ],
   "source": [
    "\n",
    "# importing accuracy score\n",
    "from sklearn.metrics import accuracy_score\n",
    "\n",
    "# printing the accuracy of the model\n",
    "print(accuracy_score(y_test, y_pred))"
   ]
  },
  {
   "cell_type": "code",
   "execution_count": 9,
   "id": "756a6d22",
   "metadata": {},
   "outputs": [
    {
     "data": {
      "image/png": "[encoded data removed]",
      "text/plain": [
       "<Figure size 640x480 with 2 Axes>"
      ]
     },
     "metadata": {},
     "output_type": "display_data"
    }
   ],
   "source": [
    "# Importing the required modules\n",
    "import seaborn as sns\n",
    "from sklearn.metrics import confusion_matrix\n",
    "\n",
    "# passing actual and predicted values\n",
    "cm = confusion_matrix(y_test, y_pred, labels=classifer.classes_)\n",
    "\n",
    "# true Write data values in each cell of the matrix\n",
    "sns.heatmap(cm,annot=True)\n",
    "plt.savefig('confusion.png')"
   ]
  },
  {
   "cell_type": "code",
   "execution_count": 10,
   "id": "fc1d3a0e",
   "metadata": {},
   "outputs": [
    {
     "name": "stdout",
     "output_type": "stream",
     "text": [
      "              precision    recall  f1-score   support\n",
      "\n",
      "           0       0.95      0.69      0.80        26\n",
      "           1       0.50      0.89      0.64         9\n",
      "\n",
      "    accuracy                           0.74        35\n",
      "   macro avg       0.72      0.79      0.72        35\n",
      "weighted avg       0.83      0.74      0.76        35\n",
      "\n"
     ]
    }
   ],
   "source": [
    "# Importing classification report\n",
    "from sklearn.metrics import classification_report\n",
    "\n",
    "# printing the report\n",
    "print(classification_report(y_test, y_pred))"
   ]
  },
  {
   "cell_type": "code",
   "execution_count": 11,
   "id": "122f08b5",
   "metadata": {},
   "outputs": [],
   "source": [
    "#Import Gaussian Naive Bayes model\n",
    "from sklearn.naive_bayes import GaussianNB\n",
    "\n",
    "#Create a Gaussian Classifier\n",
    "classifer1 = GaussianNB()\n",
    "\n",
    "# Training the model\n",
    "classifer1.fit(X_train,y_train)\n",
    "\n",
    "# testing the model\n",
    "y_pred1 = classifer1.predict(X_test)"
   ]
  },
  {
   "cell_type": "code",
   "execution_count": 12,
   "id": "d5e251f4",
   "metadata": {},
   "outputs": [
    {
     "name": "stdout",
     "output_type": "stream",
     "text": [
      "0.7714285714285715\n"
     ]
    }
   ],
   "source": [
    "# importing accuracy score\n",
    "from sklearn.metrics import accuracy_score\n",
    "\n",
    "# printing the accuracy of the model\n",
    "print(accuracy_score(y_test,y_pred1))"
   ]
  },
  {
   "cell_type": "code",
   "execution_count": 13,
   "id": "b96afda0",
   "metadata": {},
   "outputs": [
    {
     "data": {
      "text/plain": [
       "(array([0, 0, 1, 0, 0, 0, 0, 1, 0, 1, 0, 1, 0, 1, 0, 0, 0, 0, 0, 0, 0, 0,\n",
       "        0, 0, 1, 0, 0, 1, 1, 1, 0, 0, 0, 0, 0], dtype=int64),\n",
       " array([1, 1, 1, 1, 0, 0, 1, 1, 1, 1, 0, 1, 0, 1, 1, 0, 0, 0, 0, 0, 0, 0,\n",
       "        0, 0, 1, 1, 0, 0, 1, 1, 0, 0, 0, 1, 0], dtype=int64))"
      ]
     },
     "execution_count": 13,
     "metadata": {},
     "output_type": "execute_result"
    }
   ],
   "source": [
    "y_test, y_pred"
   ]
  },
  {
   "cell_type": "code",
   "execution_count": 14,
   "id": "5ce8217e",
   "metadata": {},
   "outputs": [
    {
     "name": "stdout",
     "output_type": "stream",
     "text": [
      "              precision    recall  f1-score   support\n",
      "\n",
      "           0       0.91      0.77      0.83        26\n",
      "           1       0.54      0.78      0.64         9\n",
      "\n",
      "    accuracy                           0.77        35\n",
      "   macro avg       0.72      0.77      0.73        35\n",
      "weighted avg       0.81      0.77      0.78        35\n",
      "\n"
     ]
    }
   ],
   "source": [
    "# Importing classification report\n",
    "from sklearn.metrics import classification_report\n",
    "\n",
    "# printing the report\n",
    "print(classification_report(y_test, y_pred1))"
   ]
  },
  {
   "cell_type": "markdown",
   "id": "f2997dac",
   "metadata": {},
   "source": [
    "# Naive_Bayes_Classifier and RMSE and MSE\n",
    "we cannot take continuous data as output in Naive Bayes Classifier and calculate MSE and RMSE. Naive Bayes Classifier is a probabilistic model used for classification tasks, where the output is a categorical variable.\n",
    "\n",
    "MSE (Mean Squared Error) and RMSE (Root Mean Squared Error) are evaluation metrics used for regression tasks, where the output is a continuous variable. These metrics are not applicable for classification tasks.\n",
    "\n",
    "For classification tasks, we typically use metrics like accuracy, precision, recall, F1-score, ROC curve, AUC, etc. to evaluate the performance of the model."
   ]
  },
  {
   "cell_type": "code",
   "execution_count": 15,
   "id": "a86d7832",
   "metadata": {},
   "outputs": [],
   "source": [
    "# from sklearn.metrics import mean_squared_error, mean_squared_error\n",
    "# from sklearn.metrics import mean_absolute_error\n",
    "# # Assuming y_train and y_pred are the train and predicted labels, respectively\n",
    "# MSE = mean_squared_error(y_test, y_pred)\n",
    "# RMSE = mean_squared_error(y_test, y_pred, squared=False)\n",
    "# #MAE = mean_absolute_error(y, y_pred)"
   ]
  },
  {
   "cell_type": "code",
   "execution_count": null,
   "id": "2f01843b",
   "metadata": {},
   "outputs": [],
   "source": []
  }
 ],
 "metadata": {
  "kernelspec": {
   "display_name": "Python 3 (ipykernel)",
   "language": "python",
   "name": "python3"
  },
  "language_info": {
   "codemirror_mode": {
    "name": "ipython",
    "version": 3
   },
   "file_extension": ".py",
   "mimetype": "text/x-python",
   "name": "python",
   "nbconvert_exporter": "python",
   "pygments_lexer": "ipython3",
   "version": "3.10.9"
  }
 },
 "nbformat": 4,
 "nbformat_minor": 5
}
