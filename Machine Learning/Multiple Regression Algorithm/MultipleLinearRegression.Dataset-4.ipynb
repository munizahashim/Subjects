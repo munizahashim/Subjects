{
 "cells": [
  {
   "cell_type": "code",
   "execution_count": 26,
   "id": "6919bb2e",
   "metadata": {},
   "outputs": [],
   "source": [
    "import pandas as pd\n",
    "import numpy as np\n",
    "import matplotlib.pyplot as plt\n"
   ]
  },
  {
   "cell_type": "code",
   "execution_count": 27,
   "id": "10970908",
   "metadata": {},
   "outputs": [],
   "source": [
    "df = pd.read_csv('Dataset-4.csv') "
   ]
  },
  {
   "cell_type": "code",
   "execution_count": 28,
   "id": "57be1db9",
   "metadata": {},
   "outputs": [
    {
     "data": {
      "text/html": [
       "<div>\n",
       "<style scoped>\n",
       "    .dataframe tbody tr th:only-of-type {\n",
       "        vertical-align: middle;\n",
       "    }\n",
       "\n",
       "    .dataframe tbody tr th {\n",
       "        vertical-align: top;\n",
       "    }\n",
       "\n",
       "    .dataframe thead th {\n",
       "        text-align: right;\n",
       "    }\n",
       "</style>\n",
       "<table border=\"1\" class=\"dataframe\">\n",
       "  <thead>\n",
       "    <tr style=\"text-align: right;\">\n",
       "      <th></th>\n",
       "      <th>DateTime</th>\n",
       "      <th>Temperature</th>\n",
       "      <th>Humidity</th>\n",
       "      <th>Wind Speed</th>\n",
       "      <th>general diffuse flows</th>\n",
       "      <th>diffuse flows</th>\n",
       "      <th>Zone 1 Power Consumption</th>\n",
       "      <th>Zone 2  Power Consumption</th>\n",
       "      <th>Zone 3  Power Consumption</th>\n",
       "    </tr>\n",
       "  </thead>\n",
       "  <tbody>\n",
       "    <tr>\n",
       "      <th>0</th>\n",
       "      <td>01/01/2017 00:00</td>\n",
       "      <td>6.559</td>\n",
       "      <td>73.8</td>\n",
       "      <td>0.083</td>\n",
       "      <td>0.051</td>\n",
       "      <td>0.119</td>\n",
       "      <td>34055.69620</td>\n",
       "      <td>16128.87538</td>\n",
       "      <td>20240.96386</td>\n",
       "    </tr>\n",
       "    <tr>\n",
       "      <th>1</th>\n",
       "      <td>01/01/2017 00:10</td>\n",
       "      <td>6.414</td>\n",
       "      <td>74.5</td>\n",
       "      <td>0.083</td>\n",
       "      <td>0.070</td>\n",
       "      <td>0.085</td>\n",
       "      <td>29814.68354</td>\n",
       "      <td>19375.07599</td>\n",
       "      <td>20131.08434</td>\n",
       "    </tr>\n",
       "    <tr>\n",
       "      <th>2</th>\n",
       "      <td>01/01/2017 00:20</td>\n",
       "      <td>6.313</td>\n",
       "      <td>74.5</td>\n",
       "      <td>0.080</td>\n",
       "      <td>0.062</td>\n",
       "      <td>0.100</td>\n",
       "      <td>29128.10127</td>\n",
       "      <td>19006.68693</td>\n",
       "      <td>19668.43373</td>\n",
       "    </tr>\n",
       "    <tr>\n",
       "      <th>3</th>\n",
       "      <td>01/01/2017 00:30</td>\n",
       "      <td>6.121</td>\n",
       "      <td>75.0</td>\n",
       "      <td>0.083</td>\n",
       "      <td>0.091</td>\n",
       "      <td>0.096</td>\n",
       "      <td>28228.86076</td>\n",
       "      <td>18361.09422</td>\n",
       "      <td>18899.27711</td>\n",
       "    </tr>\n",
       "    <tr>\n",
       "      <th>4</th>\n",
       "      <td>01/01/2017 00:40</td>\n",
       "      <td>5.921</td>\n",
       "      <td>75.7</td>\n",
       "      <td>0.081</td>\n",
       "      <td>0.048</td>\n",
       "      <td>0.085</td>\n",
       "      <td>27335.69620</td>\n",
       "      <td>17872.34043</td>\n",
       "      <td>18442.40964</td>\n",
       "    </tr>\n",
       "    <tr>\n",
       "      <th>...</th>\n",
       "      <td>...</td>\n",
       "      <td>...</td>\n",
       "      <td>...</td>\n",
       "      <td>...</td>\n",
       "      <td>...</td>\n",
       "      <td>...</td>\n",
       "      <td>...</td>\n",
       "      <td>...</td>\n",
       "      <td>...</td>\n",
       "    </tr>\n",
       "    <tr>\n",
       "      <th>52411</th>\n",
       "      <td>12/30/2017 23:10</td>\n",
       "      <td>7.010</td>\n",
       "      <td>72.4</td>\n",
       "      <td>0.080</td>\n",
       "      <td>0.040</td>\n",
       "      <td>0.096</td>\n",
       "      <td>31160.45627</td>\n",
       "      <td>26857.31820</td>\n",
       "      <td>14780.31212</td>\n",
       "    </tr>\n",
       "    <tr>\n",
       "      <th>52412</th>\n",
       "      <td>12/30/2017 23:20</td>\n",
       "      <td>6.947</td>\n",
       "      <td>72.6</td>\n",
       "      <td>0.082</td>\n",
       "      <td>0.051</td>\n",
       "      <td>0.093</td>\n",
       "      <td>30430.41825</td>\n",
       "      <td>26124.57809</td>\n",
       "      <td>14428.81152</td>\n",
       "    </tr>\n",
       "    <tr>\n",
       "      <th>52413</th>\n",
       "      <td>12/30/2017 23:30</td>\n",
       "      <td>6.900</td>\n",
       "      <td>72.8</td>\n",
       "      <td>0.086</td>\n",
       "      <td>0.084</td>\n",
       "      <td>0.074</td>\n",
       "      <td>29590.87452</td>\n",
       "      <td>25277.69254</td>\n",
       "      <td>13806.48259</td>\n",
       "    </tr>\n",
       "    <tr>\n",
       "      <th>52414</th>\n",
       "      <td>12/30/2017 23:40</td>\n",
       "      <td>6.758</td>\n",
       "      <td>73.0</td>\n",
       "      <td>0.080</td>\n",
       "      <td>0.066</td>\n",
       "      <td>0.089</td>\n",
       "      <td>28958.17490</td>\n",
       "      <td>24692.23688</td>\n",
       "      <td>13512.60504</td>\n",
       "    </tr>\n",
       "    <tr>\n",
       "      <th>52415</th>\n",
       "      <td>12/30/2017 23:50</td>\n",
       "      <td>6.580</td>\n",
       "      <td>74.1</td>\n",
       "      <td>0.081</td>\n",
       "      <td>0.062</td>\n",
       "      <td>0.111</td>\n",
       "      <td>28349.80989</td>\n",
       "      <td>24055.23167</td>\n",
       "      <td>13345.49820</td>\n",
       "    </tr>\n",
       "  </tbody>\n",
       "</table>\n",
       "<p>52416 rows × 9 columns</p>\n",
       "</div>"
      ],
      "text/plain": [
       "               DateTime  Temperature  Humidity  Wind Speed  \\\n",
       "0      01/01/2017 00:00        6.559      73.8       0.083   \n",
       "1      01/01/2017 00:10        6.414      74.5       0.083   \n",
       "2      01/01/2017 00:20        6.313      74.5       0.080   \n",
       "3      01/01/2017 00:30        6.121      75.0       0.083   \n",
       "4      01/01/2017 00:40        5.921      75.7       0.081   \n",
       "...                 ...          ...       ...         ...   \n",
       "52411  12/30/2017 23:10        7.010      72.4       0.080   \n",
       "52412  12/30/2017 23:20        6.947      72.6       0.082   \n",
       "52413  12/30/2017 23:30        6.900      72.8       0.086   \n",
       "52414  12/30/2017 23:40        6.758      73.0       0.080   \n",
       "52415  12/30/2017 23:50        6.580      74.1       0.081   \n",
       "\n",
       "       general diffuse flows  diffuse flows  Zone 1 Power Consumption  \\\n",
       "0                      0.051          0.119               34055.69620   \n",
       "1                      0.070          0.085               29814.68354   \n",
       "2                      0.062          0.100               29128.10127   \n",
       "3                      0.091          0.096               28228.86076   \n",
       "4                      0.048          0.085               27335.69620   \n",
       "...                      ...            ...                       ...   \n",
       "52411                  0.040          0.096               31160.45627   \n",
       "52412                  0.051          0.093               30430.41825   \n",
       "52413                  0.084          0.074               29590.87452   \n",
       "52414                  0.066          0.089               28958.17490   \n",
       "52415                  0.062          0.111               28349.80989   \n",
       "\n",
       "       Zone 2  Power Consumption  Zone 3  Power Consumption  \n",
       "0                    16128.87538                20240.96386  \n",
       "1                    19375.07599                20131.08434  \n",
       "2                    19006.68693                19668.43373  \n",
       "3                    18361.09422                18899.27711  \n",
       "4                    17872.34043                18442.40964  \n",
       "...                          ...                        ...  \n",
       "52411                26857.31820                14780.31212  \n",
       "52412                26124.57809                14428.81152  \n",
       "52413                25277.69254                13806.48259  \n",
       "52414                24692.23688                13512.60504  \n",
       "52415                24055.23167                13345.49820  \n",
       "\n",
       "[52416 rows x 9 columns]"
      ]
     },
     "execution_count": 28,
     "metadata": {},
     "output_type": "execute_result"
    }
   ],
   "source": [
    "df"
   ]
  },
  {
   "cell_type": "code",
   "execution_count": 38,
   "id": "87c6edb0",
   "metadata": {},
   "outputs": [
    {
     "data": {
      "text/html": [
       "<div>\n",
       "<style scoped>\n",
       "    .dataframe tbody tr th:only-of-type {\n",
       "        vertical-align: middle;\n",
       "    }\n",
       "\n",
       "    .dataframe tbody tr th {\n",
       "        vertical-align: top;\n",
       "    }\n",
       "\n",
       "    .dataframe thead th {\n",
       "        text-align: right;\n",
       "    }\n",
       "</style>\n",
       "<table border=\"1\" class=\"dataframe\">\n",
       "  <thead>\n",
       "    <tr style=\"text-align: right;\">\n",
       "      <th></th>\n",
       "      <th>Temperature</th>\n",
       "      <th>Humidity</th>\n",
       "      <th>Wind Speed</th>\n",
       "      <th>general diffuse flows</th>\n",
       "      <th>diffuse flows</th>\n",
       "      <th>Zone 1 Power Consumption</th>\n",
       "      <th>Zone 2  Power Consumption</th>\n",
       "      <th>Zone 3  Power Consumption</th>\n",
       "    </tr>\n",
       "  </thead>\n",
       "  <tbody>\n",
       "    <tr>\n",
       "      <th>0</th>\n",
       "      <td>6.559</td>\n",
       "      <td>73.8</td>\n",
       "      <td>0.083</td>\n",
       "      <td>0.051</td>\n",
       "      <td>0.119</td>\n",
       "      <td>34055.69620</td>\n",
       "      <td>16128.87538</td>\n",
       "      <td>20240.96386</td>\n",
       "    </tr>\n",
       "    <tr>\n",
       "      <th>1</th>\n",
       "      <td>6.414</td>\n",
       "      <td>74.5</td>\n",
       "      <td>0.083</td>\n",
       "      <td>0.070</td>\n",
       "      <td>0.085</td>\n",
       "      <td>29814.68354</td>\n",
       "      <td>19375.07599</td>\n",
       "      <td>20131.08434</td>\n",
       "    </tr>\n",
       "    <tr>\n",
       "      <th>2</th>\n",
       "      <td>6.313</td>\n",
       "      <td>74.5</td>\n",
       "      <td>0.080</td>\n",
       "      <td>0.062</td>\n",
       "      <td>0.100</td>\n",
       "      <td>29128.10127</td>\n",
       "      <td>19006.68693</td>\n",
       "      <td>19668.43373</td>\n",
       "    </tr>\n",
       "    <tr>\n",
       "      <th>3</th>\n",
       "      <td>6.121</td>\n",
       "      <td>75.0</td>\n",
       "      <td>0.083</td>\n",
       "      <td>0.091</td>\n",
       "      <td>0.096</td>\n",
       "      <td>28228.86076</td>\n",
       "      <td>18361.09422</td>\n",
       "      <td>18899.27711</td>\n",
       "    </tr>\n",
       "    <tr>\n",
       "      <th>4</th>\n",
       "      <td>5.921</td>\n",
       "      <td>75.7</td>\n",
       "      <td>0.081</td>\n",
       "      <td>0.048</td>\n",
       "      <td>0.085</td>\n",
       "      <td>27335.69620</td>\n",
       "      <td>17872.34043</td>\n",
       "      <td>18442.40964</td>\n",
       "    </tr>\n",
       "    <tr>\n",
       "      <th>...</th>\n",
       "      <td>...</td>\n",
       "      <td>...</td>\n",
       "      <td>...</td>\n",
       "      <td>...</td>\n",
       "      <td>...</td>\n",
       "      <td>...</td>\n",
       "      <td>...</td>\n",
       "      <td>...</td>\n",
       "    </tr>\n",
       "    <tr>\n",
       "      <th>52411</th>\n",
       "      <td>7.010</td>\n",
       "      <td>72.4</td>\n",
       "      <td>0.080</td>\n",
       "      <td>0.040</td>\n",
       "      <td>0.096</td>\n",
       "      <td>31160.45627</td>\n",
       "      <td>26857.31820</td>\n",
       "      <td>14780.31212</td>\n",
       "    </tr>\n",
       "    <tr>\n",
       "      <th>52412</th>\n",
       "      <td>6.947</td>\n",
       "      <td>72.6</td>\n",
       "      <td>0.082</td>\n",
       "      <td>0.051</td>\n",
       "      <td>0.093</td>\n",
       "      <td>30430.41825</td>\n",
       "      <td>26124.57809</td>\n",
       "      <td>14428.81152</td>\n",
       "    </tr>\n",
       "    <tr>\n",
       "      <th>52413</th>\n",
       "      <td>6.900</td>\n",
       "      <td>72.8</td>\n",
       "      <td>0.086</td>\n",
       "      <td>0.084</td>\n",
       "      <td>0.074</td>\n",
       "      <td>29590.87452</td>\n",
       "      <td>25277.69254</td>\n",
       "      <td>13806.48259</td>\n",
       "    </tr>\n",
       "    <tr>\n",
       "      <th>52414</th>\n",
       "      <td>6.758</td>\n",
       "      <td>73.0</td>\n",
       "      <td>0.080</td>\n",
       "      <td>0.066</td>\n",
       "      <td>0.089</td>\n",
       "      <td>28958.17490</td>\n",
       "      <td>24692.23688</td>\n",
       "      <td>13512.60504</td>\n",
       "    </tr>\n",
       "    <tr>\n",
       "      <th>52415</th>\n",
       "      <td>6.580</td>\n",
       "      <td>74.1</td>\n",
       "      <td>0.081</td>\n",
       "      <td>0.062</td>\n",
       "      <td>0.111</td>\n",
       "      <td>28349.80989</td>\n",
       "      <td>24055.23167</td>\n",
       "      <td>13345.49820</td>\n",
       "    </tr>\n",
       "  </tbody>\n",
       "</table>\n",
       "<p>52416 rows × 8 columns</p>\n",
       "</div>"
      ],
      "text/plain": [
       "       Temperature  Humidity  Wind Speed  general diffuse flows  \\\n",
       "0            6.559      73.8       0.083                  0.051   \n",
       "1            6.414      74.5       0.083                  0.070   \n",
       "2            6.313      74.5       0.080                  0.062   \n",
       "3            6.121      75.0       0.083                  0.091   \n",
       "4            5.921      75.7       0.081                  0.048   \n",
       "...            ...       ...         ...                    ...   \n",
       "52411        7.010      72.4       0.080                  0.040   \n",
       "52412        6.947      72.6       0.082                  0.051   \n",
       "52413        6.900      72.8       0.086                  0.084   \n",
       "52414        6.758      73.0       0.080                  0.066   \n",
       "52415        6.580      74.1       0.081                  0.062   \n",
       "\n",
       "       diffuse flows  Zone 1 Power Consumption  Zone 2  Power Consumption  \\\n",
       "0              0.119               34055.69620                16128.87538   \n",
       "1              0.085               29814.68354                19375.07599   \n",
       "2              0.100               29128.10127                19006.68693   \n",
       "3              0.096               28228.86076                18361.09422   \n",
       "4              0.085               27335.69620                17872.34043   \n",
       "...              ...                       ...                        ...   \n",
       "52411          0.096               31160.45627                26857.31820   \n",
       "52412          0.093               30430.41825                26124.57809   \n",
       "52413          0.074               29590.87452                25277.69254   \n",
       "52414          0.089               28958.17490                24692.23688   \n",
       "52415          0.111               28349.80989                24055.23167   \n",
       "\n",
       "       Zone 3  Power Consumption  \n",
       "0                    20240.96386  \n",
       "1                    20131.08434  \n",
       "2                    19668.43373  \n",
       "3                    18899.27711  \n",
       "4                    18442.40964  \n",
       "...                          ...  \n",
       "52411                14780.31212  \n",
       "52412                14428.81152  \n",
       "52413                13806.48259  \n",
       "52414                13512.60504  \n",
       "52415                13345.49820  \n",
       "\n",
       "[52416 rows x 8 columns]"
      ]
     },
     "execution_count": 38,
     "metadata": {},
     "output_type": "execute_result"
    }
   ],
   "source": [
    "dataset = df.drop('DateTime', axis=1)\n",
    "dataset"
   ]
  },
  {
   "cell_type": "code",
   "execution_count": 39,
   "id": "0351fa0f",
   "metadata": {},
   "outputs": [
    {
     "data": {
      "text/plain": [
       "Temperature                      6.55900\n",
       "Humidity                        73.80000\n",
       "Wind Speed                       0.08300\n",
       "general diffuse flows            0.05100\n",
       "diffuse flows                    0.11900\n",
       "Zone 1 Power Consumption     34055.69620\n",
       "Zone 2  Power Consumption    16128.87538\n",
       "Zone 3  Power Consumption    20240.96386\n",
       "Name: 0, dtype: float64"
      ]
     },
     "execution_count": 39,
     "metadata": {},
     "output_type": "execute_result"
    }
   ],
   "source": [
    "columns = dataset.iloc[0]\n",
    "columns\n"
   ]
  },
  {
   "cell_type": "code",
   "execution_count": 40,
   "id": "2aaa4734",
   "metadata": {},
   "outputs": [],
   "source": [
    "# split the data into inputs and outputs\n",
    "\n",
    "X = dataset.iloc[:, : -1].values     #all the columns except the last column, dropping the last columm\n",
    "y = np.array(dataset.iloc[:, -1].values)    #droping all the columns and taking the last column as output "
   ]
  },
  {
   "cell_type": "code",
   "execution_count": 41,
   "id": "6ef45513",
   "metadata": {},
   "outputs": [],
   "source": [
    "## train test split \n",
    "from sklearn.model_selection import train_test_split\n",
    "\n",
    "X_train, X_test, y_train, y_test = train_test_split(\n",
    "    X, y, test_size=0.30, random_state=42)"
   ]
  },
  {
   "cell_type": "code",
   "execution_count": 42,
   "id": "887a3a2f",
   "metadata": {},
   "outputs": [
    {
     "data": {
      "text/plain": [
       "array([[1.84800000e+01, 7.47000000e+01, 7.30000000e-02, ...,\n",
       "        1.04000000e-01, 3.72194311e+04, 2.19958506e+04],\n",
       "       [1.55600000e+01, 5.73100000e+01, 8.40000000e-02, ...,\n",
       "        1.49800000e+02, 2.82264407e+04, 1.52425532e+04],\n",
       "       [1.23800000e+01, 8.67000000e+01, 4.91500000e+00, ...,\n",
       "        1.41000000e-01, 2.06092308e+04, 1.46082645e+04],\n",
       "       ...,\n",
       "       [2.29800000e+01, 5.00500000e+01, 4.92200000e+00, ...,\n",
       "        1.00000000e-01, 3.30945133e+04, 1.86548857e+04],\n",
       "       [1.23700000e+01, 7.64000000e+01, 8.50000000e-02, ...,\n",
       "        1.19000000e-01, 3.20020253e+04, 2.09142857e+04],\n",
       "       [1.64400000e+01, 8.46000000e+01, 7.20000000e-02, ...,\n",
       "        4.45500000e+01, 2.55200861e+04, 2.86167006e+04]])"
      ]
     },
     "execution_count": 42,
     "metadata": {},
     "output_type": "execute_result"
    }
   ],
   "source": [
    "X_train"
   ]
  },
  {
   "cell_type": "code",
   "execution_count": 43,
   "id": "64d3cee9",
   "metadata": {},
   "outputs": [],
   "source": [
    "## standardizing the dataset\n",
    "from sklearn.preprocessing import StandardScaler\n",
    "scaler = StandardScaler()"
   ]
  },
  {
   "cell_type": "code",
   "execution_count": 44,
   "id": "9ccc6b46",
   "metadata": {},
   "outputs": [],
   "source": [
    "X_train=scaler.fit_transform(X_train)\n",
    "X_test=scaler.transform(X_test)"
   ]
  },
  {
   "cell_type": "code",
   "execution_count": 45,
   "id": "a4ec8b53",
   "metadata": {},
   "outputs": [],
   "source": [
    "from sklearn.linear_model import LinearRegression\n",
    "##cross validation\n",
    "from sklearn.model_selection import cross_val_score"
   ]
  },
  {
   "cell_type": "code",
   "execution_count": 46,
   "id": "0a418439",
   "metadata": {},
   "outputs": [
    {
     "data": {
      "text/html": [
       "<style>#sk-container-id-2 {color: black;background-color: white;}#sk-container-id-2 pre{padding: 0;}#sk-container-id-2 div.sk-toggleable {background-color: white;}#sk-container-id-2 label.sk-toggleable__label {cursor: pointer;display: block;width: 100%;margin-bottom: 0;padding: 0.3em;box-sizing: border-box;text-align: center;}#sk-container-id-2 label.sk-toggleable__label-arrow:before {content: \"▸\";float: left;margin-right: 0.25em;color: #696969;}#sk-container-id-2 label.sk-toggleable__label-arrow:hover:before {color: black;}#sk-container-id-2 div.sk-estimator:hover label.sk-toggleable__label-arrow:before {color: black;}#sk-container-id-2 div.sk-toggleable__content {max-height: 0;max-width: 0;overflow: hidden;text-align: left;background-color: #f0f8ff;}#sk-container-id-2 div.sk-toggleable__content pre {margin: 0.2em;color: black;border-radius: 0.25em;background-color: #f0f8ff;}#sk-container-id-2 input.sk-toggleable__control:checked~div.sk-toggleable__content {max-height: 200px;max-width: 100%;overflow: auto;}#sk-container-id-2 input.sk-toggleable__control:checked~label.sk-toggleable__label-arrow:before {content: \"▾\";}#sk-container-id-2 div.sk-estimator input.sk-toggleable__control:checked~label.sk-toggleable__label {background-color: #d4ebff;}#sk-container-id-2 div.sk-label input.sk-toggleable__control:checked~label.sk-toggleable__label {background-color: #d4ebff;}#sk-container-id-2 input.sk-hidden--visually {border: 0;clip: rect(1px 1px 1px 1px);clip: rect(1px, 1px, 1px, 1px);height: 1px;margin: -1px;overflow: hidden;padding: 0;position: absolute;width: 1px;}#sk-container-id-2 div.sk-estimator {font-family: monospace;background-color: #f0f8ff;border: 1px dotted black;border-radius: 0.25em;box-sizing: border-box;margin-bottom: 0.5em;}#sk-container-id-2 div.sk-estimator:hover {background-color: #d4ebff;}#sk-container-id-2 div.sk-parallel-item::after {content: \"\";width: 100%;border-bottom: 1px solid gray;flex-grow: 1;}#sk-container-id-2 div.sk-label:hover label.sk-toggleable__label {background-color: #d4ebff;}#sk-container-id-2 div.sk-serial::before {content: \"\";position: absolute;border-left: 1px solid gray;box-sizing: border-box;top: 0;bottom: 0;left: 50%;z-index: 0;}#sk-container-id-2 div.sk-serial {display: flex;flex-direction: column;align-items: center;background-color: white;padding-right: 0.2em;padding-left: 0.2em;position: relative;}#sk-container-id-2 div.sk-item {position: relative;z-index: 1;}#sk-container-id-2 div.sk-parallel {display: flex;align-items: stretch;justify-content: center;background-color: white;position: relative;}#sk-container-id-2 div.sk-item::before, #sk-container-id-2 div.sk-parallel-item::before {content: \"\";position: absolute;border-left: 1px solid gray;box-sizing: border-box;top: 0;bottom: 0;left: 50%;z-index: -1;}#sk-container-id-2 div.sk-parallel-item {display: flex;flex-direction: column;z-index: 1;position: relative;background-color: white;}#sk-container-id-2 div.sk-parallel-item:first-child::after {align-self: flex-end;width: 50%;}#sk-container-id-2 div.sk-parallel-item:last-child::after {align-self: flex-start;width: 50%;}#sk-container-id-2 div.sk-parallel-item:only-child::after {width: 0;}#sk-container-id-2 div.sk-dashed-wrapped {border: 1px dashed gray;margin: 0 0.4em 0.5em 0.4em;box-sizing: border-box;padding-bottom: 0.4em;background-color: white;}#sk-container-id-2 div.sk-label label {font-family: monospace;font-weight: bold;display: inline-block;line-height: 1.2em;}#sk-container-id-2 div.sk-label-container {text-align: center;}#sk-container-id-2 div.sk-container {/* jupyter's `normalize.less` sets `[hidden] { display: none; }` but bootstrap.min.css set `[hidden] { display: none !important; }` so we also need the `!important` here to be able to override the default hidden behavior on the sphinx rendered scikit-learn.org. See: https://github.com/scikit-learn/scikit-learn/issues/21755 */display: inline-block !important;position: relative;}#sk-container-id-2 div.sk-text-repr-fallback {display: none;}</style><div id=\"sk-container-id-2\" class=\"sk-top-container\"><div class=\"sk-text-repr-fallback\"><pre>LinearRegression()</pre><b>In a Jupyter environment, please rerun this cell to show the HTML representation or trust the notebook. <br />On GitHub, the HTML representation is unable to render, please try loading this page with nbviewer.org.</b></div><div class=\"sk-container\" hidden><div class=\"sk-item\"><div class=\"sk-estimator sk-toggleable\"><input class=\"sk-toggleable__control sk-hidden--visually\" id=\"sk-estimator-id-2\" type=\"checkbox\" checked><label for=\"sk-estimator-id-2\" class=\"sk-toggleable__label sk-toggleable__label-arrow\">LinearRegression</label><div class=\"sk-toggleable__content\"><pre>LinearRegression()</pre></div></div></div></div></div>"
      ],
      "text/plain": [
       "LinearRegression()"
      ]
     },
     "execution_count": 46,
     "metadata": {},
     "output_type": "execute_result"
    }
   ],
   "source": [
    "regression=LinearRegression()\n",
    "regression.fit(X_train,y_train)"
   ]
  },
  {
   "cell_type": "code",
   "execution_count": 47,
   "id": "16b5028c",
   "metadata": {},
   "outputs": [],
   "source": [
    "mse=cross_val_score(regression,X_train,y_train,scoring='neg_mean_squared_error',cv=10)"
   ]
  },
  {
   "cell_type": "code",
   "execution_count": 48,
   "id": "1bca6dd5",
   "metadata": {},
   "outputs": [
    {
     "data": {
      "text/plain": [
       "-15671701.496522848"
      ]
     },
     "execution_count": 48,
     "metadata": {},
     "output_type": "execute_result"
    }
   ],
   "source": [
    "np.mean(mse)"
   ]
  },
  {
   "cell_type": "code",
   "execution_count": 49,
   "id": "acecebcd",
   "metadata": {},
   "outputs": [],
   "source": [
    "##prediction \n",
    "reg_pred=regression.predict(X_test)"
   ]
  },
  {
   "cell_type": "code",
   "execution_count": 50,
   "id": "2a4cab94",
   "metadata": {},
   "outputs": [
    {
     "data": {
      "text/plain": [
       "array([16151.82917337, 17177.97187917, 12399.05448381, ...,\n",
       "       15692.46061485, 19403.65631633, 12328.63341859])"
      ]
     },
     "execution_count": 50,
     "metadata": {},
     "output_type": "execute_result"
    }
   ],
   "source": [
    "reg_pred\n"
   ]
  },
  {
   "cell_type": "code",
   "execution_count": 51,
   "id": "9317d92e",
   "metadata": {},
   "outputs": [
    {
     "data": {
      "text/plain": [
       "<seaborn.axisgrid.FacetGrid at 0x1d4497df610>"
      ]
     },
     "execution_count": 51,
     "metadata": {},
     "output_type": "execute_result"
    },
    {
     "data": {
      "image/png": "[encoded data removed]",
      "text/plain": [
       "<Figure size 500x500 with 1 Axes>"
      ]
     },
     "metadata": {},
     "output_type": "display_data"
    }
   ],
   "source": [
    "import seaborn as sns\n",
    "sns.displot(reg_pred-y_test,kind='kde')"
   ]
  },
  {
   "cell_type": "code",
   "execution_count": 52,
   "id": "520e8d54",
   "metadata": {},
   "outputs": [
    {
     "data": {
      "text/plain": [
       "0.44880825468767127"
      ]
     },
     "execution_count": 52,
     "metadata": {},
     "output_type": "execute_result"
    }
   ],
   "source": [
    "from sklearn.metrics import r2_score\n",
    "score=r2_score(reg_pred,y_test)\n",
    "score"
   ]
  },
  {
   "cell_type": "code",
   "execution_count": 53,
   "id": "334f7bd8",
   "metadata": {},
   "outputs": [],
   "source": [
    "from sklearn.metrics import mean_squared_error, mean_squared_error\n",
    "from sklearn.metrics import mean_absolute_error\n",
    "# Assuming y_train and y_pred are the train and predicted labels, respectively\n",
    "MSE = mean_squared_error(y_test, reg_pred)\n",
    "RMSE = mean_squared_error(y_test, reg_pred, squared=False)\n",
    "MAE = mean_absolute_error(y_test, reg_pred)"
   ]
  },
  {
   "cell_type": "code",
   "execution_count": 54,
   "id": "3b52080c",
   "metadata": {},
   "outputs": [
    {
     "data": {
      "text/plain": [
       "(15624193.091936003, 3952.7450071989215, 3064.7109363200257)"
      ]
     },
     "execution_count": 54,
     "metadata": {},
     "output_type": "execute_result"
    }
   ],
   "source": [
    "MSE, RMSE, MAE"
   ]
  },
  {
   "cell_type": "markdown",
   "id": "4f8d8dd8",
   "metadata": {},
   "source": [
    "# accuracy_score and Multiple regrression \n",
    "Accuracy score is generally used to evaluate the performance of a classification model, where the predicted outputs are categorical. For continuous data, accuracy score might not be the most appropriate measure to use.\n",
    "\n",
    "If we have continuous data and a corresponding set of true continuous values, we can use various measures to evaluate the performance of a model that predicts continuous values. Some common measures used for regression models are:\n",
    "\n",
    "Mean Squared Error (MSE): calculates the average squared difference between the predicted and true values.\n",
    "\n",
    "Root Mean Squared Error (RMSE): calculates the square root of the MSE, which gives an estimate of the average distance between the predicted and true values.\n",
    "\n",
    "Mean Absolute Error (MAE): calculates the average absolute difference between the predicted and true values.\n",
    "\n",
    "R-squared (R²): measures the proportion of variation in the dependent variable that is explained by the independent variables.\n",
    "\n",
    "These measures can provide a better evaluation of the performance of a model that predicts continuous values than accuracy score."
   ]
  },
  {
   "cell_type": "code",
   "execution_count": 24,
   "id": "4309dde9",
   "metadata": {},
   "outputs": [],
   "source": [
    "# # importing the accuracy score\n",
    "# from sklearn.metrics import accuracy_score\n",
    "# # accuracy\n",
    "# print(accuracy_score(y_test, reg_pred))\n",
    "# from sklearn.metrics import classification_report\n",
    "# print(classification_report(y_test, reg_pred))\n"
   ]
  },
  {
   "cell_type": "code",
   "execution_count": null,
   "id": "754c2d75",
   "metadata": {},
   "outputs": [],
   "source": []
  }
 ],
 "metadata": {
  "kernelspec": {
   "display_name": "Python 3 (ipykernel)",
   "language": "python",
   "name": "python3"
  },
  "language_info": {
   "codemirror_mode": {
    "name": "ipython",
    "version": 3
   },
   "file_extension": ".py",
   "mimetype": "text/x-python",
   "name": "python",
   "nbconvert_exporter": "python",
   "pygments_lexer": "ipython3",
   "version": "3.10.9"
  }
 },
 "nbformat": 4,
 "nbformat_minor": 5
}
