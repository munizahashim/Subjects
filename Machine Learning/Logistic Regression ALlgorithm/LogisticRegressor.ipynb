{
 "cells": [
  {
   "cell_type": "code",
   "execution_count": 1,
   "id": "780bb3da",
   "metadata": {},
   "outputs": [
    {
     "name": "stdout",
     "output_type": "stream",
     "text": [
      "     radius_mean  texture_mean  perimeter_mean  area_mean  smoothness_mean  \\\n",
      "0          17.99         10.38          122.80     1001.0          0.11840   \n",
      "1          20.57         17.77          132.90     1326.0          0.08474   \n",
      "2          19.69         21.25          130.00     1203.0          0.10960   \n",
      "3          11.42         20.38           77.58      386.1          0.14250   \n",
      "4          20.29         14.34          135.10     1297.0          0.10030   \n",
      "..           ...           ...             ...        ...              ...   \n",
      "564        21.56         22.39          142.00     1479.0          0.11100   \n",
      "565        20.13         28.25          131.20     1261.0          0.09780   \n",
      "566        16.60         28.08          108.30      858.1          0.08455   \n",
      "567        20.60         29.33          140.10     1265.0          0.11780   \n",
      "568         7.76         24.54           47.92      181.0          0.05263   \n",
      "\n",
      "     compactness_mean  concavity_mean  concave points_mean  symmetry_mean  \\\n",
      "0             0.27760         0.30010              0.14710         0.2419   \n",
      "1             0.07864         0.08690              0.07017         0.1812   \n",
      "2             0.15990         0.19740              0.12790         0.2069   \n",
      "3             0.28390         0.24140              0.10520         0.2597   \n",
      "4             0.13280         0.19800              0.10430         0.1809   \n",
      "..                ...             ...                  ...            ...   \n",
      "564           0.11590         0.24390              0.13890         0.1726   \n",
      "565           0.10340         0.14400              0.09791         0.1752   \n",
      "566           0.10230         0.09251              0.05302         0.1590   \n",
      "567           0.27700         0.35140              0.15200         0.2397   \n",
      "568           0.04362         0.00000              0.00000         0.1587   \n",
      "\n",
      "     fractal_dimension_mean  ...  texture_worst  perimeter_worst  area_worst  \\\n",
      "0                   0.07871  ...          17.33           184.60      2019.0   \n",
      "1                   0.05667  ...          23.41           158.80      1956.0   \n",
      "2                   0.05999  ...          25.53           152.50      1709.0   \n",
      "3                   0.09744  ...          26.50            98.87       567.7   \n",
      "4                   0.05883  ...          16.67           152.20      1575.0   \n",
      "..                      ...  ...            ...              ...         ...   \n",
      "564                 0.05623  ...          26.40           166.10      2027.0   \n",
      "565                 0.05533  ...          38.25           155.00      1731.0   \n",
      "566                 0.05648  ...          34.12           126.70      1124.0   \n",
      "567                 0.07016  ...          39.42           184.60      1821.0   \n",
      "568                 0.05884  ...          30.37            59.16       268.6   \n",
      "\n",
      "     smoothness_worst  compactness_worst  concavity_worst  \\\n",
      "0             0.16220            0.66560           0.7119   \n",
      "1             0.12380            0.18660           0.2416   \n",
      "2             0.14440            0.42450           0.4504   \n",
      "3             0.20980            0.86630           0.6869   \n",
      "4             0.13740            0.20500           0.4000   \n",
      "..                ...                ...              ...   \n",
      "564           0.14100            0.21130           0.4107   \n",
      "565           0.11660            0.19220           0.3215   \n",
      "566           0.11390            0.30940           0.3403   \n",
      "567           0.16500            0.86810           0.9387   \n",
      "568           0.08996            0.06444           0.0000   \n",
      "\n",
      "     concave points_worst  symmetry_worst  fractal_dimension_worst  diagnosis  \n",
      "0                  0.2654          0.4601                  0.11890          M  \n",
      "1                  0.1860          0.2750                  0.08902          M  \n",
      "2                  0.2430          0.3613                  0.08758          M  \n",
      "3                  0.2575          0.6638                  0.17300          M  \n",
      "4                  0.1625          0.2364                  0.07678          M  \n",
      "..                    ...             ...                      ...        ...  \n",
      "564                0.2216          0.2060                  0.07115          M  \n",
      "565                0.1628          0.2572                  0.06637          M  \n",
      "566                0.1418          0.2218                  0.07820          M  \n",
      "567                0.2650          0.4087                  0.12400          M  \n",
      "568                0.0000          0.2871                  0.07039          B  \n",
      "\n",
      "[569 rows x 31 columns]\n"
     ]
    }
   ],
   "source": [
    "#Importing the libraries\n",
    "import pandas as pd\n",
    "# Importing the dataset\n",
    "dataset = pd.read_csv('Dataset-2.csv')\n",
    "print(dataset)"
   ]
  },
  {
   "cell_type": "code",
   "execution_count": 3,
   "id": "5fbd964c",
   "metadata": {},
   "outputs": [],
   "source": [
    "# split the data into inputs and outputs\n",
    "#slicing the data \n",
    "import numpy as np\n",
    "X = dataset.iloc[: , : -1].values\n",
    "y = np.array(dataset.iloc[: , -1].values)"
   ]
  },
  {
   "cell_type": "code",
   "execution_count": 4,
   "id": "8be2068e",
   "metadata": {},
   "outputs": [],
   "source": [
    "#Training and testing data\n",
    "from sklearn.model_selection import train_test_split\n",
    "\n",
    "# assign test data size 20%\n",
    "X_train, X_test, y_train, y_test =train_test_split(X,y,test_size= 0.2, random_state=0)"
   ]
  },
  {
   "cell_type": "code",
   "execution_count": 5,
   "id": "0ff9cffd",
   "metadata": {},
   "outputs": [
    {
     "name": "stdout",
     "output_type": "stream",
     "text": [
      "Independent class \n",
      "  [[1.005e+01 1.753e+01 6.441e+01 ... 6.499e-02 2.894e-01 7.664e-02]\n",
      " [1.080e+01 2.198e+01 6.879e+01 ... 7.485e-02 2.965e-01 7.662e-02]\n",
      " [1.614e+01 1.486e+01 1.043e+02 ... 1.129e-01 2.778e-01 7.012e-02]\n",
      " ...\n",
      " [9.436e+00 1.832e+01 5.982e+01 ... 5.052e-02 2.454e-01 8.136e-02]\n",
      " [9.720e+00 1.822e+01 6.073e+01 ... 0.000e+00 1.909e-01 6.559e-02]\n",
      " [1.151e+01 2.393e+01 7.452e+01 ... 9.653e-02 2.112e-01 8.732e-02]]\n",
      "\n",
      " Dependent class :  ['B' 'B' 'B' 'B' 'B' 'B' 'B' 'B' 'M' 'B' 'M' 'B' 'B' 'B' 'B' 'B' 'M' 'B'\n",
      " 'B' 'B' 'B' 'B' 'B' 'M' 'M' 'B' 'B' 'B' 'M' 'B' 'B' 'M' 'B' 'M' 'B' 'B'\n",
      " 'B' 'B' 'B' 'B' 'B' 'M' 'B' 'M' 'B' 'M' 'M' 'B' 'B' 'M' 'B' 'M' 'M' 'M'\n",
      " 'B' 'B' 'B' 'B' 'B' 'B' 'M' 'B' 'B' 'B' 'B' 'M' 'M' 'B' 'B' 'M' 'B' 'B'\n",
      " 'B' 'B' 'M' 'B' 'B' 'M' 'M' 'B' 'B' 'M' 'M' 'B' 'B' 'M' 'B' 'B' 'M' 'M'\n",
      " 'M' 'B' 'B' 'B' 'M' 'B' 'B' 'B' 'B' 'B' 'M' 'B' 'M' 'B' 'M' 'B' 'M' 'B'\n",
      " 'M' 'B' 'B' 'B' 'B' 'M' 'B' 'M' 'B' 'B' 'B' 'M' 'B' 'B' 'B' 'M' 'B' 'B'\n",
      " 'M' 'M' 'B' 'M' 'B' 'M' 'B' 'M' 'M' 'M' 'M' 'B' 'M' 'B' 'M' 'B' 'M' 'B'\n",
      " 'M' 'B' 'B' 'M' 'B' 'B' 'B' 'B' 'B' 'B' 'B' 'B' 'B' 'B' 'B' 'B' 'B' 'M'\n",
      " 'B' 'B' 'B' 'M' 'B' 'B' 'B' 'B' 'B' 'B' 'M' 'B' 'M' 'B' 'B' 'M' 'B' 'M'\n",
      " 'M' 'B' 'M' 'M' 'B' 'B' 'M' 'B' 'B' 'B' 'M' 'B' 'B' 'B' 'B' 'B' 'M' 'M'\n",
      " 'B' 'B' 'B' 'B' 'M' 'M' 'B' 'B' 'B' 'B' 'M' 'B' 'B' 'M' 'B' 'B' 'M' 'B'\n",
      " 'M' 'B' 'B' 'B' 'B' 'M' 'M' 'M' 'M' 'B' 'M' 'B' 'M' 'M' 'B' 'B' 'B' 'B'\n",
      " 'B' 'M' 'B' 'B' 'M' 'B' 'B' 'M' 'M' 'B' 'B' 'B' 'M' 'M' 'B' 'B' 'M' 'B'\n",
      " 'B' 'B' 'M' 'B' 'M' 'B' 'M' 'M' 'M' 'M' 'B' 'B' 'B' 'B' 'M' 'M' 'B' 'B'\n",
      " 'B' 'B' 'B' 'M' 'B' 'B' 'M' 'B' 'B' 'M' 'M' 'M' 'M' 'B' 'B' 'M' 'B' 'B'\n",
      " 'B' 'M' 'M' 'B' 'B' 'B' 'B' 'B' 'M' 'M' 'M' 'B' 'M' 'M' 'B' 'B' 'B' 'B'\n",
      " 'B' 'B' 'M' 'B' 'B' 'B' 'B' 'B' 'B' 'M' 'M' 'B' 'M' 'B' 'M' 'M' 'B' 'B'\n",
      " 'B' 'B' 'B' 'M' 'M' 'M' 'B' 'B' 'M' 'M' 'B' 'B' 'M' 'B' 'M' 'M' 'B' 'M'\n",
      " 'B' 'B' 'B' 'B' 'B' 'B' 'B' 'M' 'M' 'B' 'B' 'B' 'M' 'B' 'B' 'B' 'B' 'M'\n",
      " 'B' 'M' 'M' 'M' 'B' 'M' 'B' 'M' 'B' 'M' 'M' 'B' 'B' 'B' 'B' 'B' 'B' 'B'\n",
      " 'B' 'M' 'M' 'M' 'M' 'M' 'B' 'B' 'B' 'B' 'B' 'B' 'B' 'M' 'B' 'M' 'B' 'B'\n",
      " 'B' 'B' 'B' 'M' 'M' 'M' 'B' 'M' 'B' 'B' 'M' 'M' 'M' 'M' 'B' 'M' 'M' 'M'\n",
      " 'B' 'M' 'B' 'M' 'B' 'B' 'M' 'M' 'B' 'M' 'B' 'B' 'B' 'B' 'M' 'B' 'B' 'M'\n",
      " 'B' 'B' 'B' 'M' 'M' 'B' 'B' 'B' 'M' 'B' 'B' 'M' 'B' 'B' 'B' 'B' 'B' 'M'\n",
      " 'M' 'M' 'B' 'B' 'B']\n"
     ]
    }
   ],
   "source": [
    "print(\"Independent class \\n \" , X_train)\n",
    "print(\"\\n Dependent class : \",y_train)"
   ]
  },
  {
   "cell_type": "code",
   "execution_count": 6,
   "id": "93eda7c8",
   "metadata": {},
   "outputs": [],
   "source": [
    "# Importing standardScaler\n",
    "from sklearn.preprocessing import StandardScaler\n",
    "\n",
    "# scalling the input data\n",
    "sc_X = StandardScaler() \n",
    "X_train = sc_X.fit_transform(X_train)\n",
    "X_test = sc_X.fit_transform(X_test)"
   ]
  },
  {
   "cell_type": "code",
   "execution_count": 7,
   "id": "cb8d15c7",
   "metadata": {},
   "outputs": [
    {
     "name": "stdout",
     "output_type": "stream",
     "text": [
      "Independent class\n",
      " [[-1.15036482e+00 -3.90641961e-01 -1.12855021e+00 -9.58763579e-01\n",
      "   3.10983705e-01 -5.95994501e-01 -8.02596122e-01 -8.02490020e-01\n",
      "   2.94539062e-01  9.42514998e-02 -4.95052300e-01  1.48720153e+00\n",
      "  -5.14487822e-01 -4.91540049e-01  2.81498370e-01 -6.04512064e-01\n",
      "  -4.69007006e-01 -6.11700024e-01  5.79823740e-02 -3.57637016e-01\n",
      "  -1.04317560e+00  2.13532825e-01 -1.03604460e+00 -8.48807715e-01\n",
      "   3.42498511e-01 -7.30097434e-01 -8.12320532e-01 -7.57983665e-01\n",
      "  -1.61476064e-02 -3.85034019e-01]\n",
      " [-9.37989720e-01  6.80514051e-01 -9.48201463e-01 -8.21525481e-01\n",
      "  -6.09636037e-01 -9.09867214e-01 -6.60669050e-01 -8.98716117e-01\n",
      "   7.54934525e-01 -4.25470824e-01 -3.33817565e-01  7.59412030e-01\n",
      "  -2.87518047e-01 -4.21276948e-01 -1.62079696e-01 -2.04866932e-01\n",
      "  -5.02963232e-02 -2.03090762e-01 -2.54690052e-01 -3.91394627e-01\n",
      "  -7.15654153e-01  1.06684183e+00 -6.89922046e-01 -6.68697025e-01\n",
      "  -9.55374462e-02 -5.37866468e-01 -3.75048064e-01 -6.06870227e-01\n",
      "   9.66900369e-02 -3.86157972e-01]\n",
      " [ 5.74121002e-01 -1.03333557e+00  5.13940981e-01  4.08586269e-01\n",
      "  -1.06160780e-01 -3.63018861e-01 -4.17990484e-01 -8.84456949e-02\n",
      "  -2.71820437e-01 -5.75221324e-01 -5.76725790e-01 -1.05784511e+00\n",
      "  -5.38560374e-01 -3.87089230e-01 -1.07211882e+00 -7.20574957e-01\n",
      "  -4.23627908e-01 -4.92189878e-01 -6.74843624e-01 -8.01472877e-01\n",
      "   2.97615318e-01 -9.77817827e-01  2.62136649e-01  1.13888188e-01\n",
      "  -5.24724192e-01 -5.20866451e-01 -1.82989171e-01 -2.37194845e-02\n",
      "  -2.00502066e-01 -7.51442540e-01]\n",
      " [-5.47219534e-01 -3.16022104e-01 -5.77621852e-01 -5.66614798e-01\n",
      "   5.86661799e-01 -6.49331052e-01 -8.05298270e-01 -5.00065144e-01\n",
      "   3.31078384e-01  5.40566715e-01 -1.28225677e-01  5.56222068e-01\n",
      "  -2.04001030e-01 -3.32346934e-01 -5.52850850e-01 -7.58881429e-01\n",
      "  -6.48914209e-01  6.01565614e-01  2.04547574e-01 -1.15963211e-01\n",
      "  -7.01325090e-01 -7.57926660e-01 -7.35736730e-01 -6.58965926e-01\n",
      "  -8.16748164e-01 -1.03492082e+00 -1.09163333e+00 -8.52544508e-01\n",
      "  -1.07618575e+00 -5.46883182e-01]\n",
      " [-5.27397857e-01  7.91240290e-01 -5.61563402e-01 -5.23570669e-01\n",
      "  -1.05144646e+00 -1.01753170e+00 -9.05149048e-01 -9.35805960e-01\n",
      "  -9.69721497e-01 -4.26938966e-01 -6.28827844e-01 -1.30929441e-01\n",
      "  -6.13234413e-01 -4.66580918e-01 -6.71490380e-01 -7.44016231e-01\n",
      "  -7.10063348e-01 -1.20449751e+00 -5.42934944e-01 -5.03024908e-01\n",
      "  -4.27025879e-01  1.05863694e+00 -4.22423406e-01 -4.40955168e-01\n",
      "  -3.03493911e-01 -4.67251011e-01 -7.24565163e-01 -7.83118152e-01\n",
      "   3.11240486e-01 -8.21288161e-02]\n",
      " [-2.35736051e-01 -1.30774407e+00 -2.48217753e-01 -3.13101651e-01\n",
      "  -9.27391314e-01 -3.48346353e-01 -4.72419452e-01 -5.20036598e-01\n",
      "  -7.02984443e-01 -9.87769270e-01 -7.71756451e-01 -1.25438521e+00\n",
      "  -6.05865264e-01 -5.24888804e-01 -9.61928400e-01 -2.47747311e-01\n",
      "  -1.02755848e-01 -5.39552564e-01 -7.22477313e-01 -4.20932536e-01\n",
      "  -4.12696816e-01 -1.34047415e+00 -3.08625642e-01 -4.39589399e-01\n",
      "  -7.01708418e-01  1.08788040e-01  9.58221732e-02 -3.48168925e-01\n",
      "  -2.67251094e-01 -5.78353852e-01]\n",
      " [-6.71812926e-01 -1.23553131e+00 -7.23794921e-01 -6.33137542e-01\n",
      "  -1.32639908e+00 -1.18805004e+00 -8.36823322e-01 -5.46232921e-01\n",
      "   1.06551877e+00 -2.25803490e-01  5.61070415e-01  1.07356969e-01\n",
      "   4.38097447e-01 -5.15042705e-02  3.62821016e-01 -6.08514233e-01\n",
      "  -5.25650419e-01  1.15667666e+00  1.06073261e+00 -6.54166939e-01\n",
      "  -6.03068656e-01 -1.19442704e+00 -6.60068606e-01 -5.93238329e-01\n",
      "  -1.27690715e+00 -1.09102088e+00 -1.00362724e+00 -4.83496680e-01\n",
      "   3.12829748e-01 -9.33522848e-01]\n",
      " [-4.08467801e-01 -4.46005081e-01 -4.35154579e-01 -4.58165955e-01\n",
      "   4.63332125e-01 -5.28976828e-01 -7.14840670e-01 -7.16379335e-01\n",
      "  -3.74130540e-01 -4.15193829e-01 -6.77761529e-01 -4.79123149e-01\n",
      "  -6.18638455e-01 -4.75599763e-01 -6.84354377e-02 -8.89009085e-01\n",
      "  -5.85190370e-01 -8.78051470e-01  5.46317755e-03 -7.38944575e-01\n",
      "  -5.21188295e-01 -7.28389040e-01 -5.41837163e-01 -5.23754868e-01\n",
      "   2.62855610e-01 -8.54328331e-01 -8.29871606e-01 -8.95457046e-01\n",
      "  -3.43535698e-01 -8.21127596e-01]\n",
      " [ 3.04407424e-02  9.54922557e-01  1.05068143e-01 -1.22757161e-01\n",
      "   8.04302400e-01  2.73585456e+00  1.42332992e+00  4.53636630e-01\n",
      "   2.09958159e+00  1.87217165e+00 -4.10210442e-01  1.66268377e+00\n",
      "  -3.50401448e-01 -1.79655777e-01  3.40290066e-01  6.30837677e+00\n",
      "   2.73971360e+00  8.51110946e-01  3.73799026e+00  3.07259658e+00\n",
      "  -1.05645461e-01  1.91030497e+00 -1.86630282e-02 -2.02799327e-01\n",
      "   9.22121849e-01  4.45163864e+00  2.91502609e+00  9.61736304e-01\n",
      "   3.59465698e+00  3.43415663e+00]\n",
      " [-8.04901323e-01 -1.49068308e+00 -7.68264474e-01 -7.47735546e-01\n",
      "   1.97956164e+00  1.54286197e-01 -1.09173644e-01  1.76629968e-01\n",
      "   7.62242390e-01  9.50178377e-01 -5.15118631e-01 -4.13917643e-01\n",
      "  -4.99258249e-01 -5.08529038e-01 -1.29691456e-01 -4.16981874e-01\n",
      "  -3.36731763e-01 -1.07787466e-03  6.77533873e-02  4.10647341e-03\n",
      "  -6.99278081e-01 -8.21924835e-01 -6.53270299e-01 -6.91573643e-01\n",
      "   1.26281648e+00 -5.85967464e-02 -2.14581104e-01  2.65940148e-01\n",
      "   6.97431293e-01  4.86591158e-01]]\n"
     ]
    }
   ],
   "source": [
    "print(\"Independent class\\n\", X_train[ : 10 ])"
   ]
  },
  {
   "cell_type": "code",
   "execution_count": 8,
   "id": "ef60c853",
   "metadata": {},
   "outputs": [
    {
     "data": {
      "text/html": [
       "<style>#sk-container-id-1 {color: black;background-color: white;}#sk-container-id-1 pre{padding: 0;}#sk-container-id-1 div.sk-toggleable {background-color: white;}#sk-container-id-1 label.sk-toggleable__label {cursor: pointer;display: block;width: 100%;margin-bottom: 0;padding: 0.3em;box-sizing: border-box;text-align: center;}#sk-container-id-1 label.sk-toggleable__label-arrow:before {content: \"▸\";float: left;margin-right: 0.25em;color: #696969;}#sk-container-id-1 label.sk-toggleable__label-arrow:hover:before {color: black;}#sk-container-id-1 div.sk-estimator:hover label.sk-toggleable__label-arrow:before {color: black;}#sk-container-id-1 div.sk-toggleable__content {max-height: 0;max-width: 0;overflow: hidden;text-align: left;background-color: #f0f8ff;}#sk-container-id-1 div.sk-toggleable__content pre {margin: 0.2em;color: black;border-radius: 0.25em;background-color: #f0f8ff;}#sk-container-id-1 input.sk-toggleable__control:checked~div.sk-toggleable__content {max-height: 200px;max-width: 100%;overflow: auto;}#sk-container-id-1 input.sk-toggleable__control:checked~label.sk-toggleable__label-arrow:before {content: \"▾\";}#sk-container-id-1 div.sk-estimator input.sk-toggleable__control:checked~label.sk-toggleable__label {background-color: #d4ebff;}#sk-container-id-1 div.sk-label input.sk-toggleable__control:checked~label.sk-toggleable__label {background-color: #d4ebff;}#sk-container-id-1 input.sk-hidden--visually {border: 0;clip: rect(1px 1px 1px 1px);clip: rect(1px, 1px, 1px, 1px);height: 1px;margin: -1px;overflow: hidden;padding: 0;position: absolute;width: 1px;}#sk-container-id-1 div.sk-estimator {font-family: monospace;background-color: #f0f8ff;border: 1px dotted black;border-radius: 0.25em;box-sizing: border-box;margin-bottom: 0.5em;}#sk-container-id-1 div.sk-estimator:hover {background-color: #d4ebff;}#sk-container-id-1 div.sk-parallel-item::after {content: \"\";width: 100%;border-bottom: 1px solid gray;flex-grow: 1;}#sk-container-id-1 div.sk-label:hover label.sk-toggleable__label {background-color: #d4ebff;}#sk-container-id-1 div.sk-serial::before {content: \"\";position: absolute;border-left: 1px solid gray;box-sizing: border-box;top: 0;bottom: 0;left: 50%;z-index: 0;}#sk-container-id-1 div.sk-serial {display: flex;flex-direction: column;align-items: center;background-color: white;padding-right: 0.2em;padding-left: 0.2em;position: relative;}#sk-container-id-1 div.sk-item {position: relative;z-index: 1;}#sk-container-id-1 div.sk-parallel {display: flex;align-items: stretch;justify-content: center;background-color: white;position: relative;}#sk-container-id-1 div.sk-item::before, #sk-container-id-1 div.sk-parallel-item::before {content: \"\";position: absolute;border-left: 1px solid gray;box-sizing: border-box;top: 0;bottom: 0;left: 50%;z-index: -1;}#sk-container-id-1 div.sk-parallel-item {display: flex;flex-direction: column;z-index: 1;position: relative;background-color: white;}#sk-container-id-1 div.sk-parallel-item:first-child::after {align-self: flex-end;width: 50%;}#sk-container-id-1 div.sk-parallel-item:last-child::after {align-self: flex-start;width: 50%;}#sk-container-id-1 div.sk-parallel-item:only-child::after {width: 0;}#sk-container-id-1 div.sk-dashed-wrapped {border: 1px dashed gray;margin: 0 0.4em 0.5em 0.4em;box-sizing: border-box;padding-bottom: 0.4em;background-color: white;}#sk-container-id-1 div.sk-label label {font-family: monospace;font-weight: bold;display: inline-block;line-height: 1.2em;}#sk-container-id-1 div.sk-label-container {text-align: center;}#sk-container-id-1 div.sk-container {/* jupyter's `normalize.less` sets `[hidden] { display: none; }` but bootstrap.min.css set `[hidden] { display: none !important; }` so we also need the `!important` here to be able to override the default hidden behavior on the sphinx rendered scikit-learn.org. See: https://github.com/scikit-learn/scikit-learn/issues/21755 */display: inline-block !important;position: relative;}#sk-container-id-1 div.sk-text-repr-fallback {display: none;}</style><div id=\"sk-container-id-1\" class=\"sk-top-container\"><div class=\"sk-text-repr-fallback\"><pre>LogisticRegression()</pre><b>In a Jupyter environment, please rerun this cell to show the HTML representation or trust the notebook. <br />On GitHub, the HTML representation is unable to render, please try loading this page with nbviewer.org.</b></div><div class=\"sk-container\" hidden><div class=\"sk-item\"><div class=\"sk-estimator sk-toggleable\"><input class=\"sk-toggleable__control sk-hidden--visually\" id=\"sk-estimator-id-1\" type=\"checkbox\" checked><label for=\"sk-estimator-id-1\" class=\"sk-toggleable__label sk-toggleable__label-arrow\">LogisticRegression</label><div class=\"sk-toggleable__content\"><pre>LogisticRegression()</pre></div></div></div></div></div>"
      ],
      "text/plain": [
       "LogisticRegression()"
      ]
     },
     "execution_count": 8,
     "metadata": {},
     "output_type": "execute_result"
    }
   ],
   "source": [
    "# importing the logistic regression from sklearn module\n",
    "from sklearn.linear_model import LogisticRegression  \n",
    "\n",
    "#Fitting Logistic Regression to the training set \n",
    "classifier= LogisticRegression()  \n",
    "classifier.fit(X_train, y_train)"
   ]
  },
  {
   "cell_type": "code",
   "execution_count": 9,
   "id": "e301a08a",
   "metadata": {},
   "outputs": [
    {
     "name": "stdout",
     "output_type": "stream",
     "text": [
      "['M' 'B' 'B' 'B' 'B' 'B' 'B' 'B' 'B' 'B' 'B' 'B' 'B' 'M' 'B' 'M' 'B' 'M'\n",
      " 'M' 'M' 'M' 'M' 'B' 'B' 'M' 'B' 'B' 'M' 'B' 'M' 'B' 'M' 'B' 'M' 'B' 'M'\n",
      " 'B' 'M' 'B' 'M' 'M' 'B' 'M' 'B' 'B' 'M' 'B' 'B' 'B' 'M' 'M' 'M' 'M' 'B'\n",
      " 'B' 'B' 'B' 'B' 'B' 'M' 'M' 'M' 'B' 'B' 'M' 'B' 'M' 'M' 'M' 'B' 'B' 'M'\n",
      " 'B' 'M' 'M' 'B' 'B' 'B' 'B' 'B' 'M' 'M' 'M' 'B' 'M' 'B' 'B' 'B' 'M' 'M'\n",
      " 'B' 'B' 'M' 'M' 'B' 'B' 'M' 'B' 'B' 'B' 'B' 'B' 'B' 'B' 'M' 'B' 'M' 'B'\n",
      " 'B' 'B' 'B' 'M' 'M' 'B']\n"
     ]
    }
   ],
   "source": [
    "# Predicting a value\n",
    "predicted_value = classifier.predict(X_test)\n",
    "\n",
    "# printing the value\n",
    "print(predicted_value)"
   ]
  },
  {
   "cell_type": "code",
   "execution_count": 10,
   "id": "e2dfc41a",
   "metadata": {},
   "outputs": [
    {
     "name": "stdout",
     "output_type": "stream",
     "text": [
      "0.956140350877193\n"
     ]
    }
   ],
   "source": [
    "# testing the model\n",
    "y_pred = classifier.predict(X_test)\n",
    "\n",
    "# importing accuracy score\n",
    "from sklearn.metrics import accuracy_score\n",
    "\n",
    "# printing the accuracy of the model\n",
    "print(accuracy_score(y_test, y_pred))"
   ]
  },
  {
   "cell_type": "code",
   "execution_count": 11,
   "id": "d838c81a",
   "metadata": {},
   "outputs": [
    {
     "name": "stdout",
     "output_type": "stream",
     "text": [
      "predicted values:\n",
      " ['M' 'B' 'B' 'B' 'B' 'B' 'B' 'B' 'B' 'B' 'B' 'B' 'B' 'M' 'B' 'M' 'B' 'M'\n",
      " 'M' 'M' 'M' 'M' 'B' 'B' 'M' 'B' 'B' 'M' 'B' 'M' 'B' 'M' 'B' 'M' 'B' 'M'\n",
      " 'B' 'M' 'B' 'M' 'M' 'B' 'M' 'B' 'B' 'M' 'B' 'B' 'B' 'M' 'M' 'M' 'M' 'B'\n",
      " 'B' 'B' 'B' 'B' 'B' 'M' 'M' 'M' 'B' 'B' 'M' 'B' 'M' 'M' 'M' 'B' 'B' 'M'\n",
      " 'B' 'M' 'M' 'B' 'B' 'B' 'B' 'B' 'M' 'M' 'M' 'B' 'M' 'B' 'B' 'B' 'M' 'M'\n",
      " 'B' 'B' 'M' 'M' 'B' 'B' 'M' 'B' 'B' 'B' 'B' 'B' 'B' 'B' 'M' 'B' 'M' 'B'\n",
      " 'B' 'B' 'B' 'M' 'M' 'B']\n",
      "Actual values :\n",
      " ['M' 'B' 'B' 'B' 'B' 'B' 'B' 'B' 'B' 'B' 'B' 'B' 'B' 'B' 'B' 'M' 'B' 'M'\n",
      " 'M' 'M' 'M' 'M' 'B' 'B' 'M' 'B' 'B' 'M' 'B' 'M' 'B' 'M' 'B' 'M' 'B' 'M'\n",
      " 'B' 'M' 'B' 'M' 'M' 'B' 'M' 'B' 'B' 'M' 'B' 'B' 'B' 'M' 'M' 'M' 'M' 'B'\n",
      " 'B' 'B' 'B' 'B' 'B' 'M' 'M' 'M' 'B' 'B' 'M' 'B' 'M' 'M' 'M' 'B' 'B' 'M'\n",
      " 'B' 'M' 'M' 'B' 'B' 'B' 'B' 'B' 'M' 'M' 'M' 'B' 'M' 'B' 'B' 'B' 'M' 'M'\n",
      " 'B' 'M' 'B' 'M' 'B' 'B' 'M' 'B' 'B' 'B' 'B' 'B' 'B' 'B' 'M' 'B' 'M' 'B'\n",
      " 'M' 'M' 'B' 'M' 'M' 'B']\n"
     ]
    }
   ],
   "source": [
    "# printing\n",
    "print(\"predicted values:\\n\", y_pred)\n",
    "print(\"Actual values :\\n\", y_test)"
   ]
  },
  {
   "cell_type": "code",
   "execution_count": 12,
   "id": "c9380239",
   "metadata": {},
   "outputs": [
    {
     "data": {
      "image/png": "[encoded data removed]",
      "text/plain": [
       "<Figure size 640x480 with 2 Axes>"
      ]
     },
     "metadata": {},
     "output_type": "display_data"
    }
   ],
   "source": [
    "# Importing the required modules\n",
    "import seaborn as sns\n",
    "from sklearn.metrics import confusion_matrix\n",
    "import matplotlib.pyplot as plt\n",
    "# passing actual and predicted values\n",
    "cm = confusion_matrix(y_test, y_pred, labels=classifier.classes_)\n",
    "\n",
    "# true Write data values in each cell of the matrix\n",
    "sns.heatmap(cm,annot=True)\n",
    "plt.savefig('LG.png')"
   ]
  },
  {
   "cell_type": "code",
   "execution_count": 14,
   "id": "acb6e090",
   "metadata": {},
   "outputs": [
    {
     "name": "stdout",
     "output_type": "stream",
     "text": [
      "0.956140350877193\n",
      "              precision    recall  f1-score   support\n",
      "\n",
      "           B       0.96      0.97      0.96        67\n",
      "           M       0.96      0.94      0.95        47\n",
      "\n",
      "    accuracy                           0.96       114\n",
      "   macro avg       0.96      0.95      0.95       114\n",
      "weighted avg       0.96      0.96      0.96       114\n",
      "\n"
     ]
    }
   ],
   "source": [
    "# Importing classification report\n",
    "from sklearn.metrics import classification_report\n",
    "\n",
    "# printing the report\n",
    "print(accuracy_score(y_test, y_pred))\n",
    "print(classification_report(y_test, y_pred))\n"
   ]
  },
  {
   "cell_type": "code",
   "execution_count": 15,
   "id": "9fa5fc87",
   "metadata": {},
   "outputs": [
    {
     "name": "stdout",
     "output_type": "stream",
     "text": [
      "True Positive:  0\n",
      "False Positive: 0\n",
      "True Negative:  0\n",
      "False Negative:  0\n"
     ]
    }
   ],
   "source": [
    "\n",
    "# defining a function which takes acutal and pred values\n",
    "def confusion_values(y_actual, y_pred):\n",
    "#     initializing the values with zero value\n",
    "    TP = 0\n",
    "    FP = 0\n",
    "    TN = 0\n",
    "    FN = 0\n",
    "#     iterating through the values\n",
    "    for i in range(len(y_pred)): \n",
    "        if y_actual[i]==y_pred[i]==1:\n",
    "           TP += 1\n",
    "        if y_pred[i]==1 and y_actual[i]!=y_pred[i]:\n",
    "           FP += 1\n",
    "        if y_actual[i]==y_pred[i]==0:\n",
    "           TN += 1\n",
    "        if y_pred[i]==0 and y_actual[i]!=y_pred[i]:\n",
    "           FN += 1\n",
    "#     printing the values\n",
    "    print(\"True Positive: \", TP)\n",
    "    print(\"False Positive:\", FP)\n",
    "    print(\"True Negative: \", TN)\n",
    "    print(\"False Negative: \", FN)\n",
    "# calling the function\n",
    "confusion_values(y_test, y_pred)"
   ]
  },
  {
   "cell_type": "code",
   "execution_count": 16,
   "id": "5a254e98",
   "metadata": {},
   "outputs": [
    {
     "data": {
      "image/png": "[encoded data removed]",
      "text/plain": [
       "<Figure size 640x480 with 2 Axes>"
      ]
     },
     "metadata": {},
     "output_type": "display_data"
    }
   ],
   "source": [
    "# importing the required modules\n",
    "import matplotlib.pyplot as plt\n",
    "from sklearn.metrics import confusion_matrix, ConfusionMatrixDisplay\n",
    "\n",
    "# Plot the confusion matrix in graph\n",
    "cm = confusion_matrix(y_test,y_pred, labels=classifier.classes_)\n",
    "\n",
    "# ploting with labels\n",
    "disp = ConfusionMatrixDisplay(confusion_matrix=cm, display_labels=classifier.classes_)\n",
    "disp.plot()\n",
    "\n",
    "# showing the matrix\n",
    "plt.show()"
   ]
  },
  {
   "cell_type": "markdown",
   "id": "2a6a3447",
   "metadata": {},
   "source": [
    "# Logistic regression and MSE AND RMSE\n",
    "Logistic Regression is a binary classification algorithm that models the probability of an event occurring (i.e., the dependent variable is binary, taking values of 0 or 1). The output of a logistic regression model is a probability, not a continuous value. Therefore, it does not make sense to calculate metrics that rely on continuous output values like MSE, RMSE, or MAE.\n",
    "\n",
    "Instead, for a binary classification problem, we typically evaluate the performance of a logistic regression model using metrics like accuracy, precision, recall, and F1-score. These metrics are based on comparing the predicted binary classifications to the true binary classifications.\n"
   ]
  },
  {
   "cell_type": "code",
   "execution_count": 19,
   "id": "4ad72a5e",
   "metadata": {},
   "outputs": [],
   "source": [
    "# from sklearn.metrics import mean_squared_error, mean_squared_error\n",
    "# from sklearn.metrics import mean_absolute_error\n",
    "# # Assuming y_train and y_pred are the train and predicted labels, respectively\n",
    "# MSE = mean_squared_error(y_test, y_pred)\n",
    "# RMSE = mean_squared_error(y_test, y_pred, squared=False)\n",
    "# #MAE = mean_absolute_error(y, y_pred)"
   ]
  },
  {
   "cell_type": "markdown",
   "id": "4235080d",
   "metadata": {},
   "source": [
    "# multi-class classification problems and Classification report\n",
    "For multi-class classification problems (i.e., when the categorical output has more than two levels), we use metrics like multi-class accuracy, confusion matrix, precision, recall, F1-score, and others to evaluate the performance of the model.\n",
    "\n",
    "So, while logistic regression can be used for classification problems with categorical output, we use different metrics to evaluate the model's performance compared to regression problems with continuous output variables."
   ]
  },
  {
   "cell_type": "code",
   "execution_count": 20,
   "id": "01793b1e",
   "metadata": {
    "scrolled": true
   },
   "outputs": [
    {
     "name": "stdout",
     "output_type": "stream",
     "text": [
      "0.956140350877193\n",
      "              precision    recall  f1-score   support\n",
      "\n",
      "           B       0.96      0.97      0.96        67\n",
      "           M       0.96      0.94      0.95        47\n",
      "\n",
      "    accuracy                           0.96       114\n",
      "   macro avg       0.96      0.95      0.95       114\n",
      "weighted avg       0.96      0.96      0.96       114\n",
      "\n"
     ]
    }
   ],
   "source": [
    "# importing the accuracy score\n",
    "from sklearn.metrics import accuracy_score\n",
    "# accuracy\n",
    "print(accuracy_score(y_test, y_pred))\n",
    "from sklearn.metrics import classification_report\n",
    "print(classification_report(y_test, y_pred))"
   ]
  },
  {
   "cell_type": "code",
   "execution_count": null,
   "id": "e69fd687",
   "metadata": {},
   "outputs": [],
   "source": []
  }
 ],
 "metadata": {
  "kernelspec": {
   "display_name": "Python 3 (ipykernel)",
   "language": "python",
   "name": "python3"
  },
  "language_info": {
   "codemirror_mode": {
    "name": "ipython",
    "version": 3
   },
   "file_extension": ".py",
   "mimetype": "text/x-python",
   "name": "python",
   "nbconvert_exporter": "python",
   "pygments_lexer": "ipython3",
   "version": "3.10.9"
  }
 },
 "nbformat": 4,
 "nbformat_minor": 5
}
