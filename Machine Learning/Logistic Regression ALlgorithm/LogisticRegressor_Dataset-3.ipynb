{
 "cells": [
  {
   "cell_type": "code",
   "execution_count": 1,
   "id": "780bb3da",
   "metadata": {},
   "outputs": [
    {
     "name": "stdout",
     "output_type": "stream",
     "text": [
      "         Mean1  Variance1  Skewness1  Kurtosis1  Contrast1      Entropy1  \\\n",
      "0    42.309998  83.484414   1.818016   1.807846   1.467045   3731.006605   \n",
      "1    39.366226  82.120006   1.939550   2.232114   1.401411   3436.584393   \n",
      "2    37.898514  84.257568   2.053724   2.472865   1.373625  10382.321200   \n",
      "3    38.373337  82.488351   2.026605   2.479962   1.485618   9399.336734   \n",
      "4    39.092346  80.643568   1.973096   2.389773   1.664926   8257.256189   \n",
      "..         ...        ...        ...        ...        ...           ...   \n",
      "135  81.687546  97.748561   0.739656  -0.951030   2.319422  14209.242600   \n",
      "136  78.165543  94.717206   0.764492  -0.860131   2.317343  13375.616940   \n",
      "137  83.049271  97.563460   0.686865  -1.024983   2.320688  14019.317110   \n",
      "138  78.075241  94.862392   0.745097  -0.903701   2.250495  13210.453020   \n",
      "139  43.332596  83.373818   1.751776   1.600434   1.564990   3731.488855   \n",
      "\n",
      "      Energy1     Homo1    Corre1       Mean2  ...       Mean3  Variance3  \\\n",
      "0    0.703142  0.870627  0.732727   32.688538  ...  165.165817  93.981039   \n",
      "1    0.730720  0.890305  0.745583   32.111114  ...  173.271973  91.703587   \n",
      "2    0.666713  0.710450  0.271062   55.942551  ...  162.537750  82.835883   \n",
      "3    0.649457  0.695477  0.311426   54.772614  ...  161.510162  82.691970   \n",
      "4    0.640832  0.689191  0.367061   48.296722  ...  162.340897  81.835853   \n",
      "..        ...       ...       ...         ...  ...         ...        ...   \n",
      "135  0.358777  0.497346  0.257699  103.061813  ...  138.404709  89.171941   \n",
      "136  0.365234  0.496833  0.255787  105.869202  ...  127.442978  87.894085   \n",
      "137  0.359855  0.507396  0.264784  104.123352  ...  141.133163  88.111504   \n",
      "138  0.376334  0.511554  0.267237  104.622421  ...  129.843323  86.438719   \n",
      "139  0.692112  0.864107  0.731976   33.720551  ...  164.025238  94.139497   \n",
      "\n",
      "     Skewness3  Kurtosis3  Contrast3      Entropy3   Energy3    Homo13  \\\n",
      "0    -1.134481  -0.590945   1.652185   5565.156755  0.644235  0.883303   \n",
      "1    -1.318133  -0.169259   1.606052   4818.707161  0.676147  0.896975   \n",
      "2    -1.117115  -0.054858   2.162610  12243.344090  0.560580  0.695629   \n",
      "3    -1.137138  -0.034112   2.125591  11964.657400  0.557702  0.691261   \n",
      "4    -1.258373   0.122907   2.121965  11100.566650  0.573414  0.694173   \n",
      "..         ...        ...        ...           ...       ...       ...   \n",
      "135  -0.521869  -0.962378   2.359886  12990.185110  0.451228  0.647040   \n",
      "136  -0.102213  -1.093738   2.823260  13103.998870  0.289766  0.495331   \n",
      "137  -0.619982  -0.867804   2.310587  12274.390690  0.467482  0.664739   \n",
      "138  -0.168447  -1.032940   2.757481  12403.912680  0.301438  0.510849   \n",
      "139  -1.114830  -0.646877   1.780866   5539.885060  0.635330  0.874153   \n",
      "\n",
      "       Corre3  Class  \n",
      "0    0.685422      1  \n",
      "1    0.713930      1  \n",
      "2    0.111088      1  \n",
      "3    0.128169      1  \n",
      "4    0.174132      1  \n",
      "..        ...    ...  \n",
      "135  0.186071      1  \n",
      "136  0.154913      1  \n",
      "137  0.212339      1  \n",
      "138  0.172836      1  \n",
      "139  0.687896      1  \n",
      "\n",
      "[140 rows x 28 columns]\n"
     ]
    }
   ],
   "source": [
    "#Importing the libraries\n",
    "import pandas as pd\n",
    "# Importing the dataset\n",
    "dataset = pd.read_csv('Dataset-3.csv')\n",
    "print(dataset)"
   ]
  },
  {
   "cell_type": "code",
   "execution_count": 2,
   "id": "5fbd964c",
   "metadata": {},
   "outputs": [],
   "source": [
    "# split the data into inputs and outputs\n",
    "#slicing the data \n",
    "import numpy as np\n",
    "X = dataset.iloc[: , : -1].values\n",
    "y = np.array(dataset.iloc[: , -1].values)"
   ]
  },
  {
   "cell_type": "code",
   "execution_count": 3,
   "id": "8be2068e",
   "metadata": {},
   "outputs": [],
   "source": [
    "#Training and testing data\n",
    "from sklearn.model_selection import train_test_split\n",
    "\n",
    "# assign test data size 20%\n",
    "X_train, X_test, y_train, y_test =train_test_split(X,y,test_size= 0.2, random_state=0)"
   ]
  },
  {
   "cell_type": "code",
   "execution_count": 4,
   "id": "0ff9cffd",
   "metadata": {},
   "outputs": [
    {
     "name": "stdout",
     "output_type": "stream",
     "text": [
      "Independent class \n",
      "  [[43.23051453 89.38211194  1.83542421 ...  0.55175381  0.70662358\n",
      "   0.19410335]\n",
      " [43.64785767 86.16054323  1.81260101 ...  0.52923561  0.65849858\n",
      "   0.17397907]\n",
      " [41.65324402 82.05096089  1.81953185 ...  0.64402655  0.88035759\n",
      "   0.68796123]\n",
      " ...\n",
      " [38.38523865 80.47288814  2.00757687 ...  0.57554236  0.69621441\n",
      "   0.18621299]\n",
      " [40.73419189 83.75885779  1.89231551 ...  0.67005167  0.89512256\n",
      "   0.7131112 ]\n",
      " [89.81263733 98.38924648  0.55909343 ...  0.27825822  0.48464814\n",
      "   0.10989014]]\n",
      "\n",
      " Dependent class :  [1 1 0 0 0 0 0 1 0 0 0 1 0 0 0 0 0 1 0 1 1 1 0 0 0 0 1 1 0 0 1 1 1 0 0 0 1\n",
      " 0 1 1 1 0 0 1 0 0 0 0 1 0 0 0 1 0 1 0 1 0 0 0 1 0 0 0 1 0 0 1 0 0 0 0 1 0\n",
      " 0 1 0 0 0 0 0 0 1 1 1 1 1 1 1 0 0 1 1 1 0 0 1 0 0 0 0 0 1 1 1 0 0 1 0 1 0\n",
      " 0]\n"
     ]
    }
   ],
   "source": [
    "print(\"Independent class \\n \" , X_train)\n",
    "print(\"\\n Dependent class : \",y_train)"
   ]
  },
  {
   "cell_type": "code",
   "execution_count": 5,
   "id": "93eda7c8",
   "metadata": {},
   "outputs": [],
   "source": [
    "# Importing standardScaler\n",
    "from sklearn.preprocessing import StandardScaler\n",
    "\n",
    "# scalling the input data\n",
    "sc_X = StandardScaler() \n",
    "X_train = sc_X.fit_transform(X_train)\n",
    "X_test = sc_X.fit_transform(X_test)"
   ]
  },
  {
   "cell_type": "code",
   "execution_count": 6,
   "id": "cb8d15c7",
   "metadata": {},
   "outputs": [
    {
     "name": "stdout",
     "output_type": "stream",
     "text": [
      "Independent class\n",
      " [[-0.2883524   0.58904174  0.25566882 -0.0405837  -0.4614814   0.61141088\n",
      "   0.19603152 -0.16743701 -0.65043359 -0.08369411 -0.06111059 -0.24992118\n",
      "  -0.43372796  0.69694693 -0.16773275 -0.15283447 -0.28008845 -0.12049727\n",
      "  -0.20098936 -0.27178099  0.09397749 -0.18503822  0.2388632   0.88173345\n",
      "  -0.05576706 -0.3245105  -0.85319974]\n",
      " [-0.26574487  0.14581525  0.21393671  0.00933812  0.11433048  0.49549213\n",
      "  -0.05236946 -0.45997248 -0.73060245 -0.04250675  0.28730426 -0.15272303\n",
      "  -0.40875793  0.2643501   0.16659027 -0.18461047 -0.38164322 -0.47969095\n",
      "  -0.31442172 -0.32343868  0.11785801 -0.33317466  0.78058478  0.94522774\n",
      "  -0.25031708 -0.69513373 -0.93600778]\n",
      " [-0.37379335 -0.41958501  0.22660971  0.14190902 -0.39323061 -0.97370571\n",
      "   0.59001139  0.9305892   1.15306978 -0.83928876 -0.99522579  0.99856172\n",
      "   1.11889884 -1.0421624  -0.90565576  0.94897753  1.05882786  1.0656546\n",
      "   0.4976287   1.04629654 -0.35538415 -0.32781506 -0.89196623 -1.02978507\n",
      "   0.74143994  1.01346065  1.17894254]\n",
      " [-0.43602833 -0.69247831  0.21167362  0.15544672 -0.57420623 -1.01246072\n",
      "   0.64688736  0.95669328  1.14802668 -0.92283116 -1.14232909  1.18411068\n",
      "   1.40833389 -1.27461785 -0.90608571  1.06198274  1.10191615  0.95176093\n",
      "   0.67082919  0.97829288 -0.4828995  -0.12997295 -1.16436651 -1.04305145\n",
      "   0.84609509  1.03604974  1.1794777 ]\n",
      " [-0.33821693 -0.22236913  0.22383883  0.10748834 -0.54377531 -0.93995158\n",
      "   0.59903219  0.95072528  1.14897782 -0.82049296 -1.03801927  0.86663237\n",
      "   0.9281471  -0.9589628  -0.90448184  0.9147015   1.04624578  1.02913144\n",
      "   0.4247555   1.11290245 -0.28834491 -0.41870195 -1.04355914 -1.004341\n",
      "   0.74324094  1.03614615  1.16849216]\n",
      " [ 1.97280081  1.34713979 -1.96665131 -1.7065828   1.90619068  1.61020011\n",
      "  -2.02213134 -1.80285201 -1.42946903  2.37025591  1.8546783  -2.05145955\n",
      "  -1.58076572  1.5508146   1.89282967 -1.78585843 -1.56958006 -1.51098132\n",
      "  -1.79970873  0.09022526  2.17626196 -1.42428763  2.32260773  1.41408657\n",
      "  -2.57202783 -2.20684345 -1.19048915]\n",
      " [-0.4909432  -0.4165541   0.4489126   0.38525693 -0.6407504  -0.98406962\n",
      "   0.74409668  1.03835255  1.16948899 -0.81177434 -1.00215269  0.87773058\n",
      "   0.95226605 -0.98584696 -0.93710045  0.95697762  1.11381721  1.16619919\n",
      "   0.76809003  0.68472685 -0.62147198  0.14241622 -1.07153522 -1.13395705\n",
      "   0.91062114  1.09896478  1.2107415 ]\n",
      " [-0.48154261 -0.08562072  0.50835633  0.36836945 -0.50079424 -0.14420803\n",
      "   0.36261473  0.08884938  0.05050574 -0.04259129  0.26063948 -0.15994032\n",
      "  -0.40671591  0.21158918 -0.05236361 -0.12113758 -0.25453446 -0.05173784\n",
      "   0.4773554  -0.83284762 -0.5609385   0.6738917   0.05311614 -0.00895795\n",
      "   0.11235139 -0.05994016 -0.1952824 ]\n",
      " [ 1.86863473  1.71463947 -1.84446601 -1.69443951  1.74409208  1.5743232\n",
      "  -1.80875072 -1.55469535 -1.17936714  1.73278198  1.66710589 -1.63487017\n",
      "  -1.45905728  1.40524336  1.75898016 -1.71471797 -1.49431086 -1.54943591\n",
      "  -1.0963978   0.04267153  0.94644716 -0.88941781  0.71165681  0.94080889\n",
      "  -0.7838458  -0.64707094 -0.77816491]\n",
      " [-0.44176307 -0.59626871  0.2931852   0.24461981 -0.57970288 -1.01274732\n",
      "   0.66106549  0.97122977  1.17143319 -0.88697281 -1.10845773  1.0672721\n",
      "   1.23055303 -1.15388735 -0.9131908   1.00868385  1.08210412  1.00429719\n",
      "   0.61765367  0.97741759 -0.44445976 -0.17962369 -1.08167582 -1.07294437\n",
      "   0.82596051  1.05141426  1.20371551]]\n"
     ]
    }
   ],
   "source": [
    "print(\"Independent class\\n\", X_train[ : 10 ])"
   ]
  },
  {
   "cell_type": "code",
   "execution_count": 7,
   "id": "ef60c853",
   "metadata": {},
   "outputs": [
    {
     "data": {
      "text/html": [
       "<style>#sk-container-id-1 {color: black;background-color: white;}#sk-container-id-1 pre{padding: 0;}#sk-container-id-1 div.sk-toggleable {background-color: white;}#sk-container-id-1 label.sk-toggleable__label {cursor: pointer;display: block;width: 100%;margin-bottom: 0;padding: 0.3em;box-sizing: border-box;text-align: center;}#sk-container-id-1 label.sk-toggleable__label-arrow:before {content: \"▸\";float: left;margin-right: 0.25em;color: #696969;}#sk-container-id-1 label.sk-toggleable__label-arrow:hover:before {color: black;}#sk-container-id-1 div.sk-estimator:hover label.sk-toggleable__label-arrow:before {color: black;}#sk-container-id-1 div.sk-toggleable__content {max-height: 0;max-width: 0;overflow: hidden;text-align: left;background-color: #f0f8ff;}#sk-container-id-1 div.sk-toggleable__content pre {margin: 0.2em;color: black;border-radius: 0.25em;background-color: #f0f8ff;}#sk-container-id-1 input.sk-toggleable__control:checked~div.sk-toggleable__content {max-height: 200px;max-width: 100%;overflow: auto;}#sk-container-id-1 input.sk-toggleable__control:checked~label.sk-toggleable__label-arrow:before {content: \"▾\";}#sk-container-id-1 div.sk-estimator input.sk-toggleable__control:checked~label.sk-toggleable__label {background-color: #d4ebff;}#sk-container-id-1 div.sk-label input.sk-toggleable__control:checked~label.sk-toggleable__label {background-color: #d4ebff;}#sk-container-id-1 input.sk-hidden--visually {border: 0;clip: rect(1px 1px 1px 1px);clip: rect(1px, 1px, 1px, 1px);height: 1px;margin: -1px;overflow: hidden;padding: 0;position: absolute;width: 1px;}#sk-container-id-1 div.sk-estimator {font-family: monospace;background-color: #f0f8ff;border: 1px dotted black;border-radius: 0.25em;box-sizing: border-box;margin-bottom: 0.5em;}#sk-container-id-1 div.sk-estimator:hover {background-color: #d4ebff;}#sk-container-id-1 div.sk-parallel-item::after {content: \"\";width: 100%;border-bottom: 1px solid gray;flex-grow: 1;}#sk-container-id-1 div.sk-label:hover label.sk-toggleable__label {background-color: #d4ebff;}#sk-container-id-1 div.sk-serial::before {content: \"\";position: absolute;border-left: 1px solid gray;box-sizing: border-box;top: 0;bottom: 0;left: 50%;z-index: 0;}#sk-container-id-1 div.sk-serial {display: flex;flex-direction: column;align-items: center;background-color: white;padding-right: 0.2em;padding-left: 0.2em;position: relative;}#sk-container-id-1 div.sk-item {position: relative;z-index: 1;}#sk-container-id-1 div.sk-parallel {display: flex;align-items: stretch;justify-content: center;background-color: white;position: relative;}#sk-container-id-1 div.sk-item::before, #sk-container-id-1 div.sk-parallel-item::before {content: \"\";position: absolute;border-left: 1px solid gray;box-sizing: border-box;top: 0;bottom: 0;left: 50%;z-index: -1;}#sk-container-id-1 div.sk-parallel-item {display: flex;flex-direction: column;z-index: 1;position: relative;background-color: white;}#sk-container-id-1 div.sk-parallel-item:first-child::after {align-self: flex-end;width: 50%;}#sk-container-id-1 div.sk-parallel-item:last-child::after {align-self: flex-start;width: 50%;}#sk-container-id-1 div.sk-parallel-item:only-child::after {width: 0;}#sk-container-id-1 div.sk-dashed-wrapped {border: 1px dashed gray;margin: 0 0.4em 0.5em 0.4em;box-sizing: border-box;padding-bottom: 0.4em;background-color: white;}#sk-container-id-1 div.sk-label label {font-family: monospace;font-weight: bold;display: inline-block;line-height: 1.2em;}#sk-container-id-1 div.sk-label-container {text-align: center;}#sk-container-id-1 div.sk-container {/* jupyter's `normalize.less` sets `[hidden] { display: none; }` but bootstrap.min.css set `[hidden] { display: none !important; }` so we also need the `!important` here to be able to override the default hidden behavior on the sphinx rendered scikit-learn.org. See: https://github.com/scikit-learn/scikit-learn/issues/21755 */display: inline-block !important;position: relative;}#sk-container-id-1 div.sk-text-repr-fallback {display: none;}</style><div id=\"sk-container-id-1\" class=\"sk-top-container\"><div class=\"sk-text-repr-fallback\"><pre>LogisticRegression()</pre><b>In a Jupyter environment, please rerun this cell to show the HTML representation or trust the notebook. <br />On GitHub, the HTML representation is unable to render, please try loading this page with nbviewer.org.</b></div><div class=\"sk-container\" hidden><div class=\"sk-item\"><div class=\"sk-estimator sk-toggleable\"><input class=\"sk-toggleable__control sk-hidden--visually\" id=\"sk-estimator-id-1\" type=\"checkbox\" checked><label for=\"sk-estimator-id-1\" class=\"sk-toggleable__label sk-toggleable__label-arrow\">LogisticRegression</label><div class=\"sk-toggleable__content\"><pre>LogisticRegression()</pre></div></div></div></div></div>"
      ],
      "text/plain": [
       "LogisticRegression()"
      ]
     },
     "execution_count": 7,
     "metadata": {},
     "output_type": "execute_result"
    }
   ],
   "source": [
    "# importing the logistic regression from sklearn module\n",
    "from sklearn.linear_model import LogisticRegression  \n",
    "\n",
    "#Fitting Logistic Regression to the training set \n",
    "classifier= LogisticRegression()  \n",
    "classifier.fit(X_train, y_train)"
   ]
  },
  {
   "cell_type": "code",
   "execution_count": 8,
   "id": "e301a08a",
   "metadata": {},
   "outputs": [
    {
     "name": "stdout",
     "output_type": "stream",
     "text": [
      "[0 0 1 0 0 0 0 0 0 1 0 1 0 1 0 0 0 0 0 0 0 1 0 0 1 0 0 0]\n"
     ]
    }
   ],
   "source": [
    "# Predicting a value\n",
    "predicted_value = classifier.predict(X_test)\n",
    "\n",
    "# printing the value\n",
    "print(predicted_value)"
   ]
  },
  {
   "cell_type": "code",
   "execution_count": 9,
   "id": "e2dfc41a",
   "metadata": {},
   "outputs": [
    {
     "name": "stdout",
     "output_type": "stream",
     "text": [
      "0.8928571428571429\n"
     ]
    }
   ],
   "source": [
    "# testing the model\n",
    "y_pred = classifier.predict(X_test)\n",
    "\n",
    "# importing accuracy score\n",
    "from sklearn.metrics import accuracy_score\n",
    "\n",
    "# printing the accuracy of the model\n",
    "print(accuracy_score(y_test, y_pred))"
   ]
  },
  {
   "cell_type": "code",
   "execution_count": 10,
   "id": "d838c81a",
   "metadata": {},
   "outputs": [
    {
     "name": "stdout",
     "output_type": "stream",
     "text": [
      "predicted values:\n",
      " [0 0 1 0 0 0 0 0 0 1 0 1 0 1 0 0 0 0 0 0 0 1 0 0 1 0 0 0]\n",
      "Actual values :\n",
      " [0 0 1 0 0 0 0 1 0 1 0 1 0 1 0 0 0 0 0 0 0 0 0 0 1 0 0 1]\n"
     ]
    }
   ],
   "source": [
    "# printing\n",
    "print(\"predicted values:\\n\", y_pred)\n",
    "print(\"Actual values :\\n\", y_test)"
   ]
  },
  {
   "cell_type": "code",
   "execution_count": 11,
   "id": "c9380239",
   "metadata": {},
   "outputs": [
    {
     "data": {
      "image/png": "[encoded data removed]",
      "text/plain": [
       "<Figure size 640x480 with 2 Axes>"
      ]
     },
     "metadata": {},
     "output_type": "display_data"
    }
   ],
   "source": [
    "# Importing the required modules\n",
    "import seaborn as sns\n",
    "from sklearn.metrics import confusion_matrix\n",
    "import matplotlib.pyplot as plt\n",
    "# passing actual and predicted values\n",
    "cm = confusion_matrix(y_test, y_pred, labels=classifier.classes_)\n",
    "\n",
    "# true Write data values in each cell of the matrix\n",
    "sns.heatmap(cm,annot=True)\n",
    "plt.savefig('LG.png')"
   ]
  },
  {
   "cell_type": "code",
   "execution_count": 12,
   "id": "acb6e090",
   "metadata": {},
   "outputs": [
    {
     "name": "stdout",
     "output_type": "stream",
     "text": [
      "0.8928571428571429\n",
      "              precision    recall  f1-score   support\n",
      "\n",
      "           0       0.91      0.95      0.93        21\n",
      "           1       0.83      0.71      0.77         7\n",
      "\n",
      "    accuracy                           0.89        28\n",
      "   macro avg       0.87      0.83      0.85        28\n",
      "weighted avg       0.89      0.89      0.89        28\n",
      "\n"
     ]
    }
   ],
   "source": [
    "# Importing classification report\n",
    "from sklearn.metrics import classification_report\n",
    "\n",
    "# printing the report\n",
    "print(accuracy_score(y_test, y_pred))\n",
    "print(classification_report(y_test, y_pred))\n"
   ]
  },
  {
   "cell_type": "code",
   "execution_count": 13,
   "id": "9fa5fc87",
   "metadata": {},
   "outputs": [
    {
     "name": "stdout",
     "output_type": "stream",
     "text": [
      "True Positive:  5\n",
      "False Positive: 1\n",
      "True Negative:  20\n",
      "False Negative:  2\n"
     ]
    }
   ],
   "source": [
    "\n",
    "# defining a function which takes acutal and pred values\n",
    "def confusion_values(y_actual, y_pred):\n",
    "#     initializing the values with zero value\n",
    "    TP = 0\n",
    "    FP = 0\n",
    "    TN = 0\n",
    "    FN = 0\n",
    "#     iterating through the values\n",
    "    for i in range(len(y_pred)): \n",
    "        if y_actual[i]==y_pred[i]==1:\n",
    "           TP += 1\n",
    "        if y_pred[i]==1 and y_actual[i]!=y_pred[i]:\n",
    "           FP += 1\n",
    "        if y_actual[i]==y_pred[i]==0:\n",
    "           TN += 1\n",
    "        if y_pred[i]==0 and y_actual[i]!=y_pred[i]:\n",
    "           FN += 1\n",
    "#     printing the values\n",
    "    print(\"True Positive: \", TP)\n",
    "    print(\"False Positive:\", FP)\n",
    "    print(\"True Negative: \", TN)\n",
    "    print(\"False Negative: \", FN)\n",
    "# calling the function\n",
    "confusion_values(y_test, y_pred)"
   ]
  },
  {
   "cell_type": "code",
   "execution_count": 14,
   "id": "5a254e98",
   "metadata": {},
   "outputs": [
    {
     "data": {
      "image/png": "[encoded data removed]",
      "text/plain": [
       "<Figure size 640x480 with 2 Axes>"
      ]
     },
     "metadata": {},
     "output_type": "display_data"
    }
   ],
   "source": [
    "# importing the required modules\n",
    "import matplotlib.pyplot as plt\n",
    "from sklearn.metrics import confusion_matrix, ConfusionMatrixDisplay\n",
    "\n",
    "# Plot the confusion matrix in graph\n",
    "cm = confusion_matrix(y_test,y_pred, labels=classifier.classes_)\n",
    "\n",
    "# ploting with labels\n",
    "disp = ConfusionMatrixDisplay(confusion_matrix=cm, display_labels=classifier.classes_)\n",
    "disp.plot()\n",
    "\n",
    "# showing the matrix\n",
    "plt.show()"
   ]
  },
  {
   "cell_type": "markdown",
   "id": "2a6a3447",
   "metadata": {},
   "source": [
    "# Logistic regression and MSE AND RMSE\n",
    "Logistic Regression is a binary classification algorithm that models the probability of an event occurring (i.e., the dependent variable is binary, taking values of 0 or 1). The output of a logistic regression model is a probability, not a continuous value. Therefore, it does not make sense to calculate metrics that rely on continuous output values like MSE, RMSE, or MAE.\n",
    "\n",
    "Instead, for a binary classification problem, we typically evaluate the performance of a logistic regression model using metrics like accuracy, precision, recall, and F1-score. These metrics are based on comparing the predicted binary classifications to the true binary classifications.\n"
   ]
  },
  {
   "cell_type": "code",
   "execution_count": 15,
   "id": "4ad72a5e",
   "metadata": {},
   "outputs": [],
   "source": [
    "# from sklearn.metrics import mean_squared_error, mean_squared_error\n",
    "# from sklearn.metrics import mean_absolute_error\n",
    "# # Assuming y_train and y_pred are the train and predicted labels, respectively\n",
    "# MSE = mean_squared_error(y_test, y_pred)\n",
    "# RMSE = mean_squared_error(y_test, y_pred, squared=False)\n",
    "# #MAE = mean_absolute_error(y, y_pred)"
   ]
  },
  {
   "cell_type": "markdown",
   "id": "4235080d",
   "metadata": {},
   "source": [
    "# multi-class classification problems and Classification report\n",
    "For multi-class classification problems (i.e., when the categorical output has more than two levels), we use metrics like multi-class accuracy, confusion matrix, precision, recall, F1-score, and others to evaluate the performance of the model.\n",
    "\n",
    "So, while logistic regression can be used for classification problems with categorical output, we use different metrics to evaluate the model's performance compared to regression problems with continuous output variables."
   ]
  },
  {
   "cell_type": "code",
   "execution_count": 16,
   "id": "01793b1e",
   "metadata": {
    "scrolled": true
   },
   "outputs": [
    {
     "name": "stdout",
     "output_type": "stream",
     "text": [
      "0.8928571428571429\n",
      "              precision    recall  f1-score   support\n",
      "\n",
      "           0       0.91      0.95      0.93        21\n",
      "           1       0.83      0.71      0.77         7\n",
      "\n",
      "    accuracy                           0.89        28\n",
      "   macro avg       0.87      0.83      0.85        28\n",
      "weighted avg       0.89      0.89      0.89        28\n",
      "\n"
     ]
    }
   ],
   "source": [
    "# importing the accuracy score\n",
    "from sklearn.metrics import accuracy_score\n",
    "# accuracy\n",
    "print(accuracy_score(y_test, y_pred))\n",
    "from sklearn.metrics import classification_report\n",
    "print(classification_report(y_test, y_pred))"
   ]
  },
  {
   "cell_type": "code",
   "execution_count": null,
   "id": "e69fd687",
   "metadata": {},
   "outputs": [],
   "source": []
  }
 ],
 "metadata": {
  "kernelspec": {
   "display_name": "Python 3 (ipykernel)",
   "language": "python",
   "name": "python3"
  },
  "language_info": {
   "codemirror_mode": {
    "name": "ipython",
    "version": 3
   },
   "file_extension": ".py",
   "mimetype": "text/x-python",
   "name": "python",
   "nbconvert_exporter": "python",
   "pygments_lexer": "ipython3",
   "version": "3.10.9"
  }
 },
 "nbformat": 4,
 "nbformat_minor": 5
}
