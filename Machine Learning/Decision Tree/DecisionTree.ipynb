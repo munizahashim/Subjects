{
 "cells": [
  {
   "cell_type": "code",
   "execution_count": 1,
   "id": "5337e542",
   "metadata": {},
   "outputs": [],
   "source": [
    "# Run this program on your local python\n",
    "# interpreter, provided you have installed\n",
    "# the required libraries.\n",
    "  \n",
    "# Importing the required packages\n",
    "import numpy as np\n",
    "import pandas as pd\n",
    "from sklearn.metrics import confusion_matrix\n",
    "from sklearn.model_selection import train_test_split\n",
    "from sklearn.tree import DecisionTreeClassifier\n",
    "from sklearn.metrics import accuracy_score\n",
    "from sklearn.metrics import classification_report\n",
    "  "
   ]
  },
  {
   "cell_type": "code",
   "execution_count": 4,
   "id": "16bed336",
   "metadata": {},
   "outputs": [],
   "source": [
    "# Function importing Dataset\n",
    "balance_data = pd.read_csv('Dataset-1.csv')\n"
   ]
  },
  {
   "cell_type": "code",
   "execution_count": 5,
   "id": "f3ab1036",
   "metadata": {},
   "outputs": [
    {
     "name": "stdout",
     "output_type": "stream",
     "text": [
      "                  2           2.1             0      0.1             6  \\\n",
      "count  35951.000000  35951.000000  35951.000000  35951.0  35951.000000   \n",
      "mean       2.997358      2.096576     11.500320      0.0     15.680510   \n",
      "std        1.999045      0.731426      6.922113      0.0      8.795799   \n",
      "min        0.000000      0.000000      0.000000      0.0      1.000000   \n",
      "25%        1.000000      2.000000      6.000000      0.0      8.000000   \n",
      "50%        3.000000      2.000000     12.000000      0.0     16.000000   \n",
      "75%        5.000000      3.000000     17.500000      0.0     23.000000   \n",
      "max        6.000000      3.000000     23.000000      0.0     31.000000   \n",
      "\n",
      "                  1           1.1          2016            85          74.8  \\\n",
      "count  35951.000000  35951.000000  35951.000000  35951.000000  35951.000000   \n",
      "mean       6.504826      2.498707   2017.966677     80.786265     71.277138   \n",
      "std        3.427310      1.111449      1.249913     12.648272     12.439201   \n",
      "min        1.000000      1.000000   2016.000000     34.000000     27.600000   \n",
      "25%        4.000000      2.000000   2017.000000     73.000000     62.900000   \n",
      "50%        6.000000      2.000000   2018.000000     83.000000     73.800000   \n",
      "75%        9.000000      3.000000   2019.000000     91.000000     81.600000   \n",
      "max       12.000000      4.000000   2020.000000    101.000000     90.000000   \n",
      "\n",
      "       ...          89.4            65            21           9.5  \\\n",
      "count  ...  35951.000000  35951.000000  35951.000000  35951.000000   \n",
      "mean   ...     74.487102     51.401491     15.899725      7.768977   \n",
      "std    ...     11.806695     15.713280      4.851593      3.006976   \n",
      "min    ...     31.500000     15.000000      6.000000      1.600000   \n",
      "25%    ...     67.500000     41.000000     13.000000      5.700000   \n",
      "50%    ...     75.200000     50.000000     15.000000      7.300000   \n",
      "75%    ...     82.800000     61.000000     18.000000      9.500000   \n",
      "max    ...     99.900000     97.000000     39.000000     23.900000   \n",
      "\n",
      "                0.2          29.8        29.8.1          29.7           0.3  \\\n",
      "count  35951.000000  35951.000000  35951.000000  35951.000000  35951.000000   \n",
      "mean       1.391227     29.977308     29.906144     29.814756      0.160071   \n",
      "std        2.515268      0.167303      0.161983      0.786992      0.667915   \n",
      "min        0.000000     29.500000     28.800000      0.000000      0.000000   \n",
      "25%        0.000000     29.900000     29.800000     29.700000      0.000000   \n",
      "50%        0.000000     29.900000     29.900000     29.800000      0.000000   \n",
      "75%        3.000000     30.100000     30.000000     29.900000      0.020000   \n",
      "max       17.000000     30.600000     30.600000     30.500000     13.430000   \n",
      "\n",
      "              1.057  \n",
      "count  35951.000000  \n",
      "mean       0.891627  \n",
      "std        0.908145  \n",
      "min        0.064000  \n",
      "25%        0.323500  \n",
      "50%        0.501000  \n",
      "75%        1.072000  \n",
      "max        6.446000  \n",
      "\n",
      "[8 rows x 25 columns]\n"
     ]
    }
   ],
   "source": [
    "print(balance_data.describe())"
   ]
  },
  {
   "cell_type": "code",
   "execution_count": 6,
   "id": "15f24aa2",
   "metadata": {
    "scrolled": true
   },
   "outputs": [
    {
     "data": {
      "text/plain": [
       "<bound method NDFrame.head of        2  2.1   0  0.1  6  1  1.1  2016  85  74.8  ...  89.4  65  21  9.5  \\\n",
       "0      2    2   1    0  6  1    1  2016  85  74.8  ...  89.4  65  21  9.5   \n",
       "1      2    2   2    0  6  1    1  2016  85  74.8  ...  89.4  65  21  9.5   \n",
       "2      2    2   3    0  6  1    1  2016  85  74.8  ...  89.4  65  21  9.5   \n",
       "3      2    2   4    0  6  1    1  2016  85  74.8  ...  89.4  65  21  9.5   \n",
       "4      2    2   5    0  6  1    1  2016  85  74.8  ...  89.4  65  21  9.5   \n",
       "...   ..  ...  ..  ... .. ..  ...   ...  ..   ...  ...   ...  ..  ..  ...   \n",
       "35946  1    2  19    0  7  7    3  2020  93  84.5  ...  76.6  53  15  6.1   \n",
       "35947  1    2  20    0  7  7    3  2020  93  84.5  ...  76.6  53  15  6.1   \n",
       "35948  1    2  21    0  7  7    3  2020  93  84.5  ...  76.6  53  15  6.1   \n",
       "35949  1    2  22    0  7  7    3  2020  93  84.5  ...  76.6  53  15  6.1   \n",
       "35950  1    2  23    0  7  7    3  2020  93  84.5  ...  76.6  53  15  6.1   \n",
       "\n",
       "       0.2  29.8  29.8.1  29.7  0.3  1.057  \n",
       "0        0  29.8    29.8  29.7  0.0  1.171  \n",
       "1        0  29.8    29.8  29.7  0.0  0.560  \n",
       "2        0  29.8    29.8  29.7  0.0  0.828  \n",
       "3        0  29.8    29.8  29.7  0.0  0.932  \n",
       "4        0  29.8    29.8  29.7  0.0  0.333  \n",
       "...    ...   ...     ...   ...  ...    ...  \n",
       "35946    0  29.9    29.8  29.8  0.0  1.307  \n",
       "35947    0  29.9    29.8  29.8  0.0  2.872  \n",
       "35948    0  29.9    29.8  29.8  0.0  2.138  \n",
       "35949    0  29.9    29.8  29.8  0.0  2.199  \n",
       "35950    0  29.9    29.8  29.8  0.0  1.809  \n",
       "\n",
       "[35951 rows x 25 columns]>"
      ]
     },
     "execution_count": 6,
     "metadata": {},
     "output_type": "execute_result"
    }
   ],
   "source": [
    "balance_data.head"
   ]
  },
  {
   "cell_type": "code",
   "execution_count": 7,
   "id": "28f7bf4a",
   "metadata": {},
   "outputs": [
    {
     "name": "stdout",
     "output_type": "stream",
     "text": [
      "Dataset Length:  35951\n",
      "Dataset Shape:  (35951, 25)\n"
     ]
    }
   ],
   "source": [
    "# Printing the dataswet shape\n",
    "print(\"Dataset Length: \", len(balance_data))\n",
    "print (\"Dataset Shape: \", balance_data.shape)"
   ]
  },
  {
   "cell_type": "code",
   "execution_count": 8,
   "id": "23b45d60",
   "metadata": {},
   "outputs": [
    {
     "name": "stdout",
     "output_type": "stream",
     "text": [
      "Dataset:     2  2.1  0  0.1  6  1  1.1  2016  85  74.8  ...  89.4  65  21  9.5  0.2  \\\n",
      "0  2    2  1    0  6  1    1  2016  85  74.8  ...  89.4  65  21  9.5    0   \n",
      "1  2    2  2    0  6  1    1  2016  85  74.8  ...  89.4  65  21  9.5    0   \n",
      "2  2    2  3    0  6  1    1  2016  85  74.8  ...  89.4  65  21  9.5    0   \n",
      "3  2    2  4    0  6  1    1  2016  85  74.8  ...  89.4  65  21  9.5    0   \n",
      "4  2    2  5    0  6  1    1  2016  85  74.8  ...  89.4  65  21  9.5    0   \n",
      "\n",
      "   29.8  29.8.1  29.7  0.3  1.057  \n",
      "0  29.8    29.8  29.7  0.0  1.171  \n",
      "1  29.8    29.8  29.7  0.0  0.560  \n",
      "2  29.8    29.8  29.7  0.0  0.828  \n",
      "3  29.8    29.8  29.7  0.0  0.932  \n",
      "4  29.8    29.8  29.7  0.0  0.333  \n",
      "\n",
      "[5 rows x 25 columns]\n",
      "       2  2.1   0  0.1  6  1  1.1  2016  85  74.8  ...  89.4  65  21  9.5  \\\n",
      "0      2    2   1    0  6  1    1  2016  85  74.8  ...  89.4  65  21  9.5   \n",
      "1      2    2   2    0  6  1    1  2016  85  74.8  ...  89.4  65  21  9.5   \n",
      "2      2    2   3    0  6  1    1  2016  85  74.8  ...  89.4  65  21  9.5   \n",
      "3      2    2   4    0  6  1    1  2016  85  74.8  ...  89.4  65  21  9.5   \n",
      "4      2    2   5    0  6  1    1  2016  85  74.8  ...  89.4  65  21  9.5   \n",
      "...   ..  ...  ..  ... .. ..  ...   ...  ..   ...  ...   ...  ..  ..  ...   \n",
      "35946  1    2  19    0  7  7    3  2020  93  84.5  ...  76.6  53  15  6.1   \n",
      "35947  1    2  20    0  7  7    3  2020  93  84.5  ...  76.6  53  15  6.1   \n",
      "35948  1    2  21    0  7  7    3  2020  93  84.5  ...  76.6  53  15  6.1   \n",
      "35949  1    2  22    0  7  7    3  2020  93  84.5  ...  76.6  53  15  6.1   \n",
      "35950  1    2  23    0  7  7    3  2020  93  84.5  ...  76.6  53  15  6.1   \n",
      "\n",
      "       0.2  29.8  29.8.1  29.7  0.3  1.057  \n",
      "0        0  29.8    29.8  29.7  0.0  1.171  \n",
      "1        0  29.8    29.8  29.7  0.0  0.560  \n",
      "2        0  29.8    29.8  29.7  0.0  0.828  \n",
      "3        0  29.8    29.8  29.7  0.0  0.932  \n",
      "4        0  29.8    29.8  29.7  0.0  0.333  \n",
      "...    ...   ...     ...   ...  ...    ...  \n",
      "35946    0  29.9    29.8  29.8  0.0  1.307  \n",
      "35947    0  29.9    29.8  29.8  0.0  2.872  \n",
      "35948    0  29.9    29.8  29.8  0.0  2.138  \n",
      "35949    0  29.9    29.8  29.8  0.0  2.199  \n",
      "35950    0  29.9    29.8  29.8  0.0  1.809  \n",
      "\n",
      "[35951 rows x 25 columns]\n"
     ]
    }
   ],
   "source": [
    "# Printing the dataset obseravtions\n",
    "print (\"Dataset: \",balance_data.head())\n",
    "print(balance_data)"
   ]
  },
  {
   "cell_type": "code",
   "execution_count": 10,
   "id": "c064b2f4",
   "metadata": {},
   "outputs": [],
   "source": [
    "# Separating the target variable\n",
    "X = balance_data.values[:, :-1]\n",
    "Y = balance_data.values[:, ]"
   ]
  },
  {
   "cell_type": "code",
   "execution_count": 11,
   "id": "2fafc986",
   "metadata": {},
   "outputs": [
    {
     "data": {
      "text/plain": [
       "(array([[ 2. ,  2. ,  1. , ..., 29.8, 29.7,  0. ],\n",
       "        [ 2. ,  2. ,  2. , ..., 29.8, 29.7,  0. ],\n",
       "        [ 2. ,  2. ,  3. , ..., 29.8, 29.7,  0. ],\n",
       "        ...,\n",
       "        [ 1. ,  2. , 21. , ..., 29.8, 29.8,  0. ],\n",
       "        [ 1. ,  2. , 22. , ..., 29.8, 29.8,  0. ],\n",
       "        [ 1. ,  2. , 23. , ..., 29.8, 29.8,  0. ]]),\n",
       " array([1.171, 0.56 , 0.828, ..., 2.138, 2.199, 1.809]),\n",
       " array([[5.00e+00, 3.00e+00, 2.00e+01, ..., 3.01e+01, 3.00e+01, 0.00e+00],\n",
       "        [3.00e+00, 2.00e+00, 9.00e+00, ..., 2.98e+01, 2.98e+01, 0.00e+00],\n",
       "        [1.00e+00, 2.00e+00, 1.40e+01, ..., 2.99e+01, 2.98e+01, 0.00e+00],\n",
       "        ...,\n",
       "        [2.00e+00, 2.00e+00, 8.00e+00, ..., 2.97e+01, 2.97e+01, 2.37e+00],\n",
       "        [3.00e+00, 2.00e+00, 0.00e+00, ..., 3.00e+01, 2.99e+01, 0.00e+00],\n",
       "        [3.00e+00, 2.00e+00, 1.20e+01, ..., 2.97e+01, 2.96e+01, 1.00e-02]]),\n",
       " array([[2.00e+00, 2.00e+00, 1.70e+01, ..., 2.99e+01, 2.98e+01, 9.00e-02],\n",
       "        [5.00e+00, 3.00e+00, 6.00e+00, ..., 2.99e+01, 2.98e+01, 0.00e+00],\n",
       "        [0.00e+00, 2.00e+00, 1.00e+00, ..., 3.00e+01, 3.00e+01, 2.12e+00],\n",
       "        ...,\n",
       "        [2.00e+00, 2.00e+00, 4.00e+00, ..., 3.00e+01, 2.99e+01, 0.00e+00],\n",
       "        [5.00e+00, 3.00e+00, 0.00e+00, ..., 2.98e+01, 2.98e+01, 1.00e-02],\n",
       "        [4.00e+00, 2.00e+00, 9.00e+00, ..., 2.99e+01, 2.98e+01, 0.00e+00]]),\n",
       " array([0.59 , 0.327, 0.251, ..., 0.525, 0.84 , 0.248]),\n",
       " array([1.428, 0.34 , 0.879, ..., 0.688, 1.028, 0.251]))"
      ]
     },
     "execution_count": 11,
     "metadata": {},
     "output_type": "execute_result"
    }
   ],
   "source": [
    " # Splitting the dataset into train and test\n",
    "X_train, X_test, y_train, y_test = train_test_split( \n",
    "X, Y, test_size = 0.3, random_state = 100)\n",
    "X, Y, X_train, X_test, y_train, y_test"
   ]
  },
  {
   "cell_type": "code",
   "execution_count": 12,
   "id": "62636697",
   "metadata": {},
   "outputs": [],
   "source": [
    "# Creating the classifier object\n",
    "clf_gini = DecisionTreeClassifier(criterion = \"gini\", random_state = 100,max_depth=3, min_samples_leaf=5)"
   ]
  },
  {
   "cell_type": "code",
   "execution_count": 1,
   "id": "6d7eaeab",
   "metadata": {},
   "outputs": [
    {
     "ename": "NameError",
     "evalue": "name 'clf_gini' is not defined",
     "output_type": "error",
     "traceback": [
      "\u001b[1;31m---------------------------------------------------------------------------\u001b[0m",
      "\u001b[1;31mNameError\u001b[0m                                 Traceback (most recent call last)",
      "Cell \u001b[1;32mIn[1], line 2\u001b[0m\n\u001b[0;32m      1\u001b[0m \u001b[38;5;66;03m# Performing training\u001b[39;00m\n\u001b[1;32m----> 2\u001b[0m \u001b[43mclf_gini\u001b[49m\u001b[38;5;241m.\u001b[39mfit(X_train, y_train)\n\u001b[0;32m      3\u001b[0m clf_gini\n",
      "\u001b[1;31mNameError\u001b[0m: name 'clf_gini' is not defined"
     ]
    }
   ],
   "source": [
    "# Performing training\n",
    "clf_gini.fit(X_train, y_train)\n",
    "clf_gini"
   ]
  },
  {
   "cell_type": "code",
   "execution_count": 11,
   "id": "566819d5",
   "metadata": {},
   "outputs": [],
   "source": [
    " # Decision tree with entropy\n",
    "clf_entropy = DecisionTreeClassifier(criterion = \"entropy\", random_state = 100, max_depth = 3, min_samples_leaf = 5)\n",
    "  "
   ]
  },
  {
   "cell_type": "code",
   "execution_count": 12,
   "id": "9deaf3d8",
   "metadata": {},
   "outputs": [
    {
     "data": {
      "text/html": [
       "<style>#sk-container-id-2 {color: black;background-color: white;}#sk-container-id-2 pre{padding: 0;}#sk-container-id-2 div.sk-toggleable {background-color: white;}#sk-container-id-2 label.sk-toggleable__label {cursor: pointer;display: block;width: 100%;margin-bottom: 0;padding: 0.3em;box-sizing: border-box;text-align: center;}#sk-container-id-2 label.sk-toggleable__label-arrow:before {content: \"▸\";float: left;margin-right: 0.25em;color: #696969;}#sk-container-id-2 label.sk-toggleable__label-arrow:hover:before {color: black;}#sk-container-id-2 div.sk-estimator:hover label.sk-toggleable__label-arrow:before {color: black;}#sk-container-id-2 div.sk-toggleable__content {max-height: 0;max-width: 0;overflow: hidden;text-align: left;background-color: #f0f8ff;}#sk-container-id-2 div.sk-toggleable__content pre {margin: 0.2em;color: black;border-radius: 0.25em;background-color: #f0f8ff;}#sk-container-id-2 input.sk-toggleable__control:checked~div.sk-toggleable__content {max-height: 200px;max-width: 100%;overflow: auto;}#sk-container-id-2 input.sk-toggleable__control:checked~label.sk-toggleable__label-arrow:before {content: \"▾\";}#sk-container-id-2 div.sk-estimator input.sk-toggleable__control:checked~label.sk-toggleable__label {background-color: #d4ebff;}#sk-container-id-2 div.sk-label input.sk-toggleable__control:checked~label.sk-toggleable__label {background-color: #d4ebff;}#sk-container-id-2 input.sk-hidden--visually {border: 0;clip: rect(1px 1px 1px 1px);clip: rect(1px, 1px, 1px, 1px);height: 1px;margin: -1px;overflow: hidden;padding: 0;position: absolute;width: 1px;}#sk-container-id-2 div.sk-estimator {font-family: monospace;background-color: #f0f8ff;border: 1px dotted black;border-radius: 0.25em;box-sizing: border-box;margin-bottom: 0.5em;}#sk-container-id-2 div.sk-estimator:hover {background-color: #d4ebff;}#sk-container-id-2 div.sk-parallel-item::after {content: \"\";width: 100%;border-bottom: 1px solid gray;flex-grow: 1;}#sk-container-id-2 div.sk-label:hover label.sk-toggleable__label {background-color: #d4ebff;}#sk-container-id-2 div.sk-serial::before {content: \"\";position: absolute;border-left: 1px solid gray;box-sizing: border-box;top: 0;bottom: 0;left: 50%;z-index: 0;}#sk-container-id-2 div.sk-serial {display: flex;flex-direction: column;align-items: center;background-color: white;padding-right: 0.2em;padding-left: 0.2em;position: relative;}#sk-container-id-2 div.sk-item {position: relative;z-index: 1;}#sk-container-id-2 div.sk-parallel {display: flex;align-items: stretch;justify-content: center;background-color: white;position: relative;}#sk-container-id-2 div.sk-item::before, #sk-container-id-2 div.sk-parallel-item::before {content: \"\";position: absolute;border-left: 1px solid gray;box-sizing: border-box;top: 0;bottom: 0;left: 50%;z-index: -1;}#sk-container-id-2 div.sk-parallel-item {display: flex;flex-direction: column;z-index: 1;position: relative;background-color: white;}#sk-container-id-2 div.sk-parallel-item:first-child::after {align-self: flex-end;width: 50%;}#sk-container-id-2 div.sk-parallel-item:last-child::after {align-self: flex-start;width: 50%;}#sk-container-id-2 div.sk-parallel-item:only-child::after {width: 0;}#sk-container-id-2 div.sk-dashed-wrapped {border: 1px dashed gray;margin: 0 0.4em 0.5em 0.4em;box-sizing: border-box;padding-bottom: 0.4em;background-color: white;}#sk-container-id-2 div.sk-label label {font-family: monospace;font-weight: bold;display: inline-block;line-height: 1.2em;}#sk-container-id-2 div.sk-label-container {text-align: center;}#sk-container-id-2 div.sk-container {/* jupyter's `normalize.less` sets `[hidden] { display: none; }` but bootstrap.min.css set `[hidden] { display: none !important; }` so we also need the `!important` here to be able to override the default hidden behavior on the sphinx rendered scikit-learn.org. See: https://github.com/scikit-learn/scikit-learn/issues/21755 */display: inline-block !important;position: relative;}#sk-container-id-2 div.sk-text-repr-fallback {display: none;}</style><div id=\"sk-container-id-2\" class=\"sk-top-container\"><div class=\"sk-text-repr-fallback\"><pre>DecisionTreeClassifier(criterion=&#x27;entropy&#x27;, max_depth=3, min_samples_leaf=5,\n",
       "                       random_state=100)</pre><b>In a Jupyter environment, please rerun this cell to show the HTML representation or trust the notebook. <br />On GitHub, the HTML representation is unable to render, please try loading this page with nbviewer.org.</b></div><div class=\"sk-container\" hidden><div class=\"sk-item\"><div class=\"sk-estimator sk-toggleable\"><input class=\"sk-toggleable__control sk-hidden--visually\" id=\"sk-estimator-id-2\" type=\"checkbox\" checked><label for=\"sk-estimator-id-2\" class=\"sk-toggleable__label sk-toggleable__label-arrow\">DecisionTreeClassifier</label><div class=\"sk-toggleable__content\"><pre>DecisionTreeClassifier(criterion=&#x27;entropy&#x27;, max_depth=3, min_samples_leaf=5,\n",
       "                       random_state=100)</pre></div></div></div></div></div>"
      ],
      "text/plain": [
       "DecisionTreeClassifier(criterion='entropy', max_depth=3, min_samples_leaf=5,\n",
       "                       random_state=100)"
      ]
     },
     "execution_count": 12,
     "metadata": {},
     "output_type": "execute_result"
    }
   ],
   "source": [
    " # Performing training\n",
    "clf_entropy.fit(X_train, y_train)\n",
    "clf_entropy"
   ]
  },
  {
   "cell_type": "code",
   "execution_count": 13,
   "id": "1ee08eec",
   "metadata": {},
   "outputs": [
    {
     "name": "stdout",
     "output_type": "stream",
     "text": [
      "Predicted values:\n",
      "['R' 'L' 'R' 'L' 'L' 'L' 'L' 'L' 'R' 'R' 'R' 'L' 'L' 'R' 'R' 'R' 'L' 'L'\n",
      " 'R' 'R' 'L' 'R' 'R' 'L' 'R' 'R' 'R' 'R' 'R' 'L' 'L' 'L' 'R' 'L' 'R' 'R'\n",
      " 'R' 'L' 'R' 'L' 'L' 'L' 'R' 'L' 'R' 'R' 'R' 'R' 'R' 'L' 'R' 'R' 'R' 'R'\n",
      " 'R' 'R' 'R' 'R' 'L' 'L' 'R' 'L' 'R' 'L' 'L' 'R' 'R' 'R' 'R' 'L' 'R' 'L'\n",
      " 'R' 'L' 'L' 'R' 'L' 'R' 'R' 'R' 'R' 'R' 'L' 'L' 'R' 'R' 'R' 'L' 'R' 'L'\n",
      " 'R' 'R' 'L' 'L' 'R' 'R' 'R' 'L' 'L' 'R' 'L' 'L' 'L' 'R' 'L' 'R' 'R' 'R'\n",
      " 'L' 'L' 'R' 'R' 'R' 'R' 'L' 'R' 'R' 'R' 'R' 'R' 'L' 'L' 'R' 'R' 'L' 'L'\n",
      " 'R' 'L' 'R' 'R' 'L' 'R' 'L' 'L' 'R' 'R' 'R' 'R' 'R' 'R' 'L' 'R' 'R' 'R'\n",
      " 'R' 'L' 'R' 'L' 'L' 'R' 'R' 'R' 'L' 'R' 'L' 'R' 'L' 'R' 'L' 'R' 'R' 'L'\n",
      " 'R' 'L' 'R' 'R' 'R' 'R' 'R' 'R' 'R' 'L' 'R' 'R' 'R' 'L' 'L' 'R' 'R' 'R'\n",
      " 'R' 'R' 'R' 'L' 'R' 'L' 'R' 'R']\n"
     ]
    },
    {
     "data": {
      "text/plain": [
       "array(['R', 'L', 'R', 'L', 'L', 'L', 'L', 'L', 'R', 'R', 'R', 'L', 'L',\n",
       "       'R', 'R', 'R', 'L', 'L', 'R', 'R', 'L', 'R', 'R', 'L', 'R', 'R',\n",
       "       'R', 'R', 'R', 'L', 'L', 'L', 'R', 'L', 'R', 'R', 'R', 'L', 'R',\n",
       "       'L', 'L', 'L', 'R', 'L', 'R', 'R', 'R', 'R', 'R', 'L', 'R', 'R',\n",
       "       'R', 'R', 'R', 'R', 'R', 'R', 'L', 'L', 'R', 'L', 'R', 'L', 'L',\n",
       "       'R', 'R', 'R', 'R', 'L', 'R', 'L', 'R', 'L', 'L', 'R', 'L', 'R',\n",
       "       'R', 'R', 'R', 'R', 'L', 'L', 'R', 'R', 'R', 'L', 'R', 'L', 'R',\n",
       "       'R', 'L', 'L', 'R', 'R', 'R', 'L', 'L', 'R', 'L', 'L', 'L', 'R',\n",
       "       'L', 'R', 'R', 'R', 'L', 'L', 'R', 'R', 'R', 'R', 'L', 'R', 'R',\n",
       "       'R', 'R', 'R', 'L', 'L', 'R', 'R', 'L', 'L', 'R', 'L', 'R', 'R',\n",
       "       'L', 'R', 'L', 'L', 'R', 'R', 'R', 'R', 'R', 'R', 'L', 'R', 'R',\n",
       "       'R', 'R', 'L', 'R', 'L', 'L', 'R', 'R', 'R', 'L', 'R', 'L', 'R',\n",
       "       'L', 'R', 'L', 'R', 'R', 'L', 'R', 'L', 'R', 'R', 'R', 'R', 'R',\n",
       "       'R', 'R', 'L', 'R', 'R', 'R', 'L', 'L', 'R', 'R', 'R', 'R', 'R',\n",
       "       'R', 'L', 'R', 'L', 'R', 'R'], dtype=object)"
      ]
     },
     "execution_count": 13,
     "metadata": {},
     "output_type": "execute_result"
    }
   ],
   "source": [
    "# Predicton on test with giniIndex\n",
    "y_pred = clf_entropy.predict(X_test)\n",
    "print(\"Predicted values:\")\n",
    "print(y_pred)\n",
    "y_pred"
   ]
  },
  {
   "cell_type": "code",
   "execution_count": 14,
   "id": "52473bd4",
   "metadata": {},
   "outputs": [
    {
     "name": "stdout",
     "output_type": "stream",
     "text": [
      "Confusion Matrix:  [[ 0  6  8]\n",
      " [ 0 53 38]\n",
      " [ 0 11 72]]\n"
     ]
    }
   ],
   "source": [
    "print(\"Confusion Matrix: \", confusion_matrix(y_test, y_pred))"
   ]
  },
  {
   "cell_type": "code",
   "execution_count": 15,
   "id": "dd8657cf",
   "metadata": {},
   "outputs": [
    {
     "name": "stdout",
     "output_type": "stream",
     "text": [
      "Accuracy :  66.48936170212765\n"
     ]
    }
   ],
   "source": [
    "print (\"Accuracy : \",accuracy_score(y_test,y_pred)*100)"
   ]
  },
  {
   "cell_type": "code",
   "execution_count": 16,
   "id": "80e8782d",
   "metadata": {},
   "outputs": [
    {
     "name": "stdout",
     "output_type": "stream",
     "text": [
      "Report :                precision    recall  f1-score   support\n",
      "\n",
      "           B       0.00      0.00      0.00        14\n",
      "           L       0.76      0.58      0.66        91\n",
      "           R       0.61      0.87      0.72        83\n",
      "\n",
      "    accuracy                           0.66       188\n",
      "   macro avg       0.46      0.48      0.46       188\n",
      "weighted avg       0.64      0.66      0.63       188\n",
      "\n"
     ]
    },
    {
     "name": "stderr",
     "output_type": "stream",
     "text": [
      "C:\\Users\\UCA\\AppData\\Local\\Programs\\Python\\Python310\\lib\\site-packages\\sklearn\\metrics\\_classification.py:1344: UndefinedMetricWarning: Precision and F-score are ill-defined and being set to 0.0 in labels with no predicted samples. Use `zero_division` parameter to control this behavior.\n",
      "  _warn_prf(average, modifier, msg_start, len(result))\n",
      "C:\\Users\\UCA\\AppData\\Local\\Programs\\Python\\Python310\\lib\\site-packages\\sklearn\\metrics\\_classification.py:1344: UndefinedMetricWarning: Precision and F-score are ill-defined and being set to 0.0 in labels with no predicted samples. Use `zero_division` parameter to control this behavior.\n",
      "  _warn_prf(average, modifier, msg_start, len(result))\n",
      "C:\\Users\\UCA\\AppData\\Local\\Programs\\Python\\Python310\\lib\\site-packages\\sklearn\\metrics\\_classification.py:1344: UndefinedMetricWarning: Precision and F-score are ill-defined and being set to 0.0 in labels with no predicted samples. Use `zero_division` parameter to control this behavior.\n",
      "  _warn_prf(average, modifier, msg_start, len(result))\n"
     ]
    }
   ],
   "source": [
    "print(\"Report : \",classification_report(y_test, y_pred))"
   ]
  },
  {
   "cell_type": "code",
   "execution_count": 17,
   "id": "4b044d5f",
   "metadata": {},
   "outputs": [
    {
     "ename": "NameError",
     "evalue": "name 'importdata' is not defined",
     "output_type": "error",
     "traceback": [
      "\u001b[1;31m---------------------------------------------------------------------------\u001b[0m",
      "\u001b[1;31mNameError\u001b[0m                                 Traceback (most recent call last)",
      "Cell \u001b[1;32mIn[17], line 2\u001b[0m\n\u001b[0;32m      1\u001b[0m \u001b[38;5;66;03m# Building Phase\u001b[39;00m\n\u001b[1;32m----> 2\u001b[0m data \u001b[38;5;241m=\u001b[39m \u001b[43mimportdata\u001b[49m()\n\u001b[0;32m      3\u001b[0m \u001b[38;5;66;03m#X, Y, X_train, X_test, y_train, y_test = split_dataset(data)\u001b[39;00m\n\u001b[0;32m      4\u001b[0m clf_gini \u001b[38;5;241m=\u001b[39m train_using_gini(X_train, X_test, y_train)\n",
      "\u001b[1;31mNameError\u001b[0m: name 'importdata' is not defined"
     ]
    }
   ],
   "source": [
    "# Building Phase\n",
    "data = importdata()\n",
    "#X, Y, X_train, X_test, y_train, y_test = split_dataset(data)\n",
    "clf_gini = train_using_gini(X_train, X_test, y_train)\n",
    "clf_entropy = tarin_using_entropy(X_train, X_test, y_train)"
   ]
  },
  {
   "cell_type": "code",
   "execution_count": 1,
   "id": "98fcfaae",
   "metadata": {},
   "outputs": [
    {
     "name": "stdout",
     "output_type": "stream",
     "text": [
      "Dataset Length:  625\n",
      "Dataset Shape:  (625, 5)\n",
      "Dataset:     0  1  2  3  4\n",
      "0  B  1  1  1  1\n",
      "1  R  1  1  1  2\n",
      "2  R  1  1  1  3\n",
      "3  R  1  1  1  4\n",
      "4  R  1  1  1  5\n",
      "Results Using Gini Index:\n",
      "Predicted values:\n",
      "['R' 'L' 'R' 'R' 'R' 'L' 'R' 'L' 'L' 'L' 'R' 'L' 'L' 'L' 'R' 'L' 'R' 'L'\n",
      " 'L' 'R' 'L' 'R' 'L' 'L' 'R' 'L' 'L' 'L' 'R' 'L' 'L' 'L' 'R' 'L' 'L' 'L'\n",
      " 'L' 'R' 'L' 'L' 'R' 'L' 'R' 'L' 'R' 'R' 'L' 'L' 'R' 'L' 'R' 'R' 'L' 'R'\n",
      " 'R' 'L' 'R' 'R' 'L' 'L' 'R' 'R' 'L' 'L' 'L' 'L' 'L' 'R' 'R' 'L' 'L' 'R'\n",
      " 'R' 'L' 'R' 'L' 'R' 'R' 'R' 'L' 'R' 'L' 'L' 'L' 'L' 'R' 'R' 'L' 'R' 'L'\n",
      " 'R' 'R' 'L' 'L' 'L' 'R' 'R' 'L' 'L' 'L' 'R' 'L' 'R' 'R' 'R' 'R' 'R' 'R'\n",
      " 'R' 'L' 'R' 'L' 'R' 'R' 'L' 'R' 'R' 'R' 'R' 'R' 'L' 'R' 'L' 'L' 'L' 'L'\n",
      " 'L' 'L' 'L' 'R' 'R' 'R' 'R' 'L' 'R' 'R' 'R' 'L' 'L' 'R' 'L' 'R' 'L' 'R'\n",
      " 'L' 'L' 'R' 'L' 'L' 'R' 'L' 'R' 'L' 'R' 'R' 'R' 'L' 'R' 'R' 'R' 'R' 'R'\n",
      " 'L' 'L' 'R' 'R' 'R' 'R' 'L' 'R' 'R' 'R' 'L' 'R' 'L' 'L' 'L' 'L' 'R' 'R'\n",
      " 'L' 'R' 'R' 'L' 'L' 'R' 'R' 'R']\n",
      "Confusion Matrix:  [[ 0  6  7]\n",
      " [ 0 67 18]\n",
      " [ 0 19 71]]\n",
      "Accuracy :  73.40425531914893\n",
      "Report :                precision    recall  f1-score   support\n",
      "\n",
      "           B       0.00      0.00      0.00        13\n",
      "           L       0.73      0.79      0.76        85\n",
      "           R       0.74      0.79      0.76        90\n",
      "\n",
      "    accuracy                           0.73       188\n",
      "   macro avg       0.49      0.53      0.51       188\n",
      "weighted avg       0.68      0.73      0.71       188\n",
      "\n",
      "Results Using Entropy:\n",
      "Predicted values:\n",
      "['R' 'L' 'R' 'L' 'R' 'L' 'R' 'L' 'R' 'R' 'R' 'R' 'L' 'L' 'R' 'L' 'R' 'L'\n",
      " 'L' 'R' 'L' 'R' 'L' 'L' 'R' 'L' 'R' 'L' 'R' 'L' 'R' 'L' 'R' 'L' 'L' 'L'\n",
      " 'L' 'L' 'R' 'L' 'R' 'L' 'R' 'L' 'R' 'R' 'L' 'L' 'R' 'L' 'L' 'R' 'L' 'L'\n",
      " 'R' 'L' 'R' 'R' 'L' 'R' 'R' 'R' 'L' 'L' 'R' 'L' 'L' 'R' 'L' 'L' 'L' 'R'\n",
      " 'R' 'L' 'R' 'L' 'R' 'R' 'R' 'L' 'R' 'L' 'L' 'L' 'L' 'R' 'R' 'L' 'R' 'L'\n",
      " 'R' 'R' 'L' 'L' 'L' 'R' 'R' 'L' 'L' 'L' 'R' 'L' 'L' 'R' 'R' 'R' 'R' 'R'\n",
      " 'R' 'L' 'R' 'L' 'R' 'R' 'L' 'R' 'R' 'L' 'R' 'R' 'L' 'R' 'R' 'R' 'L' 'L'\n",
      " 'L' 'L' 'L' 'R' 'R' 'R' 'R' 'L' 'R' 'R' 'R' 'L' 'L' 'R' 'L' 'R' 'L' 'R'\n",
      " 'L' 'R' 'R' 'L' 'L' 'R' 'L' 'R' 'R' 'R' 'R' 'R' 'L' 'R' 'R' 'R' 'R' 'R'\n",
      " 'R' 'L' 'R' 'L' 'R' 'R' 'L' 'R' 'L' 'R' 'L' 'R' 'L' 'L' 'L' 'L' 'L' 'R'\n",
      " 'R' 'R' 'L' 'L' 'L' 'R' 'R' 'R']\n",
      "Confusion Matrix:  [[ 0  6  7]\n",
      " [ 0 63 22]\n",
      " [ 0 20 70]]\n",
      "Accuracy :  70.74468085106383\n",
      "Report :                precision    recall  f1-score   support\n",
      "\n",
      "           B       0.00      0.00      0.00        13\n",
      "           L       0.71      0.74      0.72        85\n",
      "           R       0.71      0.78      0.74        90\n",
      "\n",
      "    accuracy                           0.71       188\n",
      "   macro avg       0.47      0.51      0.49       188\n",
      "weighted avg       0.66      0.71      0.68       188\n",
      "\n"
     ]
    },
    {
     "name": "stderr",
     "output_type": "stream",
     "text": [
      "C:\\Users\\UCA\\AppData\\Local\\Programs\\Python\\Python310\\lib\\site-packages\\sklearn\\metrics\\_classification.py:1344: UndefinedMetricWarning: Precision and F-score are ill-defined and being set to 0.0 in labels with no predicted samples. Use `zero_division` parameter to control this behavior.\n",
      "  _warn_prf(average, modifier, msg_start, len(result))\n",
      "C:\\Users\\UCA\\AppData\\Local\\Programs\\Python\\Python310\\lib\\site-packages\\sklearn\\metrics\\_classification.py:1344: UndefinedMetricWarning: Precision and F-score are ill-defined and being set to 0.0 in labels with no predicted samples. Use `zero_division` parameter to control this behavior.\n",
      "  _warn_prf(average, modifier, msg_start, len(result))\n",
      "C:\\Users\\UCA\\AppData\\Local\\Programs\\Python\\Python310\\lib\\site-packages\\sklearn\\metrics\\_classification.py:1344: UndefinedMetricWarning: Precision and F-score are ill-defined and being set to 0.0 in labels with no predicted samples. Use `zero_division` parameter to control this behavior.\n",
      "  _warn_prf(average, modifier, msg_start, len(result))\n",
      "C:\\Users\\UCA\\AppData\\Local\\Programs\\Python\\Python310\\lib\\site-packages\\sklearn\\metrics\\_classification.py:1344: UndefinedMetricWarning: Precision and F-score are ill-defined and being set to 0.0 in labels with no predicted samples. Use `zero_division` parameter to control this behavior.\n",
      "  _warn_prf(average, modifier, msg_start, len(result))\n",
      "C:\\Users\\UCA\\AppData\\Local\\Programs\\Python\\Python310\\lib\\site-packages\\sklearn\\metrics\\_classification.py:1344: UndefinedMetricWarning: Precision and F-score are ill-defined and being set to 0.0 in labels with no predicted samples. Use `zero_division` parameter to control this behavior.\n",
      "  _warn_prf(average, modifier, msg_start, len(result))\n",
      "C:\\Users\\UCA\\AppData\\Local\\Programs\\Python\\Python310\\lib\\site-packages\\sklearn\\metrics\\_classification.py:1344: UndefinedMetricWarning: Precision and F-score are ill-defined and being set to 0.0 in labels with no predicted samples. Use `zero_division` parameter to control this behavior.\n",
      "  _warn_prf(average, modifier, msg_start, len(result))\n"
     ]
    }
   ],
   "source": [
    "# Run this program on your local python\n",
    "# interpreter, provided you have installed\n",
    "# the required libraries.\n",
    "\n",
    "# Importing the required packages\n",
    "import numpy as np\n",
    "import pandas as pd\n",
    "from sklearn.metrics import confusion_matrix\n",
    "from sklearn.model_selection import train_test_split\n",
    "from sklearn.tree import DecisionTreeClassifier\n",
    "from sklearn.metrics import accuracy_score\n",
    "from sklearn.metrics import classification_report\n",
    "\n",
    "# Function importing Dataset\n",
    "def importdata():\n",
    "\tbalance_data = pd.read_csv(\n",
    "'https://archive.ics.uci.edu/ml/machine-learning-'+\n",
    "'databases/balance-scale/balance-scale.data',\n",
    "\tsep= ',', header = None)\n",
    "\t\n",
    "\t# Printing the dataswet shape\n",
    "\tprint (\"Dataset Length: \", len(balance_data))\n",
    "\tprint (\"Dataset Shape: \", balance_data.shape)\n",
    "\t\n",
    "\t# Printing the dataset obseravtions\n",
    "\tprint (\"Dataset: \",balance_data.head())\n",
    "\treturn balance_data\n",
    "\n",
    "# Function to split the dataset\n",
    "def splitdataset(balance_data):\n",
    "\n",
    "\t# Separating the target variable\n",
    "\tX = balance_data.values[:, 1:5]\n",
    "\tY = balance_data.values[:, 0]\n",
    "\n",
    "\t# Splitting the dataset into train and test\n",
    "\tX_train, X_test, y_train, y_test = train_test_split(\n",
    "\tX, Y, test_size = 0.3, random_state = 100)\n",
    "\t\n",
    "\treturn X, Y, X_train, X_test, y_train, y_test\n",
    "\t\n",
    "# Function to perform training with giniIndex.\n",
    "def train_using_gini(X_train, X_test, y_train):\n",
    "\n",
    "\t# Creating the classifier object\n",
    "\tclf_gini = DecisionTreeClassifier(criterion = \"gini\",\n",
    "\t\t\trandom_state = 100,max_depth=3, min_samples_leaf=5)\n",
    "\n",
    "\t# Performing training\n",
    "\tclf_gini.fit(X_train, y_train)\n",
    "\treturn clf_gini\n",
    "\t\n",
    "# Function to perform training with entropy.\n",
    "def tarin_using_entropy(X_train, X_test, y_train):\n",
    "\n",
    "\t# Decision tree with entropy\n",
    "\tclf_entropy = DecisionTreeClassifier(\n",
    "\t\t\tcriterion = \"entropy\", random_state = 100,\n",
    "\t\t\tmax_depth = 3, min_samples_leaf = 5)\n",
    "\n",
    "\t# Performing training\n",
    "\tclf_entropy.fit(X_train, y_train)\n",
    "\treturn clf_entropy\n",
    "\n",
    "\n",
    "# Function to make predictions\n",
    "def prediction(X_test, clf_object):\n",
    "\n",
    "\t# Predicton on test with giniIndex\n",
    "\ty_pred = clf_object.predict(X_test)\n",
    "\tprint(\"Predicted values:\")\n",
    "\tprint(y_pred)\n",
    "\treturn y_pred\n",
    "\t\n",
    "# Function to calculate accuracy\n",
    "def cal_accuracy(y_test, y_pred):\n",
    "\t\n",
    "\tprint(\"Confusion Matrix: \",\n",
    "\t\tconfusion_matrix(y_test, y_pred))\n",
    "\t\n",
    "\tprint (\"Accuracy : \",\n",
    "\taccuracy_score(y_test,y_pred)*100)\n",
    "\t\n",
    "\tprint(\"Report : \",\n",
    "\tclassification_report(y_test, y_pred))\n",
    "\n",
    "# Driver code\n",
    "def main():\n",
    "\t\n",
    "\t# Building Phase\n",
    "\tdata = importdata()\n",
    "\tX, Y, X_train, X_test, y_train, y_test = splitdataset(data)\n",
    "\tclf_gini = train_using_gini(X_train, X_test, y_train)\n",
    "\tclf_entropy = tarin_using_entropy(X_train, X_test, y_train)\n",
    "\t\n",
    "\t# Operational Phase\n",
    "\tprint(\"Results Using Gini Index:\")\n",
    "\t\n",
    "\t# Prediction using gini\n",
    "\ty_pred_gini = prediction(X_test, clf_gini)\n",
    "\tcal_accuracy(y_test, y_pred_gini)\n",
    "\t\n",
    "\tprint(\"Results Using Entropy:\")\n",
    "\t# Prediction using entropy\n",
    "\ty_pred_entropy = prediction(X_test, clf_entropy)\n",
    "\tcal_accuracy(y_test, y_pred_entropy)\n",
    "\t\n",
    "\t\n",
    "# Calling main function\n",
    "if __name__==\"__main__\":\n",
    "\tmain()\n"
   ]
  },
  {
   "cell_type": "code",
   "execution_count": null,
   "id": "3a64a9ba",
   "metadata": {},
   "outputs": [],
   "source": []
  }
 ],
 "metadata": {
  "kernelspec": {
   "display_name": "Python 3 (ipykernel)",
   "language": "python",
   "name": "python3"
  },
  "language_info": {
   "codemirror_mode": {
    "name": "ipython",
    "version": 3
   },
   "file_extension": ".py",
   "mimetype": "text/x-python",
   "name": "python",
   "nbconvert_exporter": "python",
   "pygments_lexer": "ipython3",
   "version": "3.10.9"
  }
 },
 "nbformat": 4,
 "nbformat_minor": 5
}
