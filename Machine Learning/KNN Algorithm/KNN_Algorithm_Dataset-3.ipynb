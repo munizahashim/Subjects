{
 "cells": [
  {
   "cell_type": "code",
   "execution_count": 2,
   "id": "e2075d8d",
   "metadata": {},
   "outputs": [],
   "source": [
    "# importing the required modules\n",
    "import matplotlib.pyplot as plt\n",
    "import pandas as pd"
   ]
  },
  {
   "cell_type": "code",
   "execution_count": 3,
   "id": "a8d2734c",
   "metadata": {},
   "outputs": [],
   "source": [
    "#Import the data set for KNN algorithm\n",
    "dataset = pd.read_csv('Dataset-3.csv')\n",
    "# storing the input values in the X variable\n",
    "# split the data into inputs and outputs\n",
    "#slicing the data \n",
    "import numpy as np\n",
    "X = dataset.iloc[: , : -1].values\n",
    "y = np.array(dataset.iloc[: , -1].values)"
   ]
  },
  {
   "cell_type": "code",
   "execution_count": 4,
   "id": "3f781aed",
   "metadata": {},
   "outputs": [
    {
     "data": {
      "text/html": [
       "<div>\n",
       "<style scoped>\n",
       "    .dataframe tbody tr th:only-of-type {\n",
       "        vertical-align: middle;\n",
       "    }\n",
       "\n",
       "    .dataframe tbody tr th {\n",
       "        vertical-align: top;\n",
       "    }\n",
       "\n",
       "    .dataframe thead th {\n",
       "        text-align: right;\n",
       "    }\n",
       "</style>\n",
       "<table border=\"1\" class=\"dataframe\">\n",
       "  <thead>\n",
       "    <tr style=\"text-align: right;\">\n",
       "      <th></th>\n",
       "      <th>Mean1</th>\n",
       "      <th>Variance1</th>\n",
       "      <th>Skewness1</th>\n",
       "      <th>Kurtosis1</th>\n",
       "      <th>Contrast1</th>\n",
       "      <th>Entropy1</th>\n",
       "      <th>Energy1</th>\n",
       "      <th>Homo1</th>\n",
       "      <th>Corre1</th>\n",
       "      <th>Mean2</th>\n",
       "      <th>...</th>\n",
       "      <th>Mean3</th>\n",
       "      <th>Variance3</th>\n",
       "      <th>Skewness3</th>\n",
       "      <th>Kurtosis3</th>\n",
       "      <th>Contrast3</th>\n",
       "      <th>Entropy3</th>\n",
       "      <th>Energy3</th>\n",
       "      <th>Homo13</th>\n",
       "      <th>Corre3</th>\n",
       "      <th>Class</th>\n",
       "    </tr>\n",
       "  </thead>\n",
       "  <tbody>\n",
       "    <tr>\n",
       "      <th>0</th>\n",
       "      <td>42.309998</td>\n",
       "      <td>83.484414</td>\n",
       "      <td>1.818016</td>\n",
       "      <td>1.807846</td>\n",
       "      <td>1.467045</td>\n",
       "      <td>3731.006605</td>\n",
       "      <td>0.703142</td>\n",
       "      <td>0.870627</td>\n",
       "      <td>0.732727</td>\n",
       "      <td>32.688538</td>\n",
       "      <td>...</td>\n",
       "      <td>165.165817</td>\n",
       "      <td>93.981039</td>\n",
       "      <td>-1.134481</td>\n",
       "      <td>-0.590945</td>\n",
       "      <td>1.652185</td>\n",
       "      <td>5565.156755</td>\n",
       "      <td>0.644235</td>\n",
       "      <td>0.883303</td>\n",
       "      <td>0.685422</td>\n",
       "      <td>1</td>\n",
       "    </tr>\n",
       "    <tr>\n",
       "      <th>1</th>\n",
       "      <td>39.366226</td>\n",
       "      <td>82.120006</td>\n",
       "      <td>1.939550</td>\n",
       "      <td>2.232114</td>\n",
       "      <td>1.401411</td>\n",
       "      <td>3436.584393</td>\n",
       "      <td>0.730720</td>\n",
       "      <td>0.890305</td>\n",
       "      <td>0.745583</td>\n",
       "      <td>32.111114</td>\n",
       "      <td>...</td>\n",
       "      <td>173.271973</td>\n",
       "      <td>91.703587</td>\n",
       "      <td>-1.318133</td>\n",
       "      <td>-0.169259</td>\n",
       "      <td>1.606052</td>\n",
       "      <td>4818.707161</td>\n",
       "      <td>0.676147</td>\n",
       "      <td>0.896975</td>\n",
       "      <td>0.713930</td>\n",
       "      <td>1</td>\n",
       "    </tr>\n",
       "    <tr>\n",
       "      <th>2</th>\n",
       "      <td>37.898514</td>\n",
       "      <td>84.257568</td>\n",
       "      <td>2.053724</td>\n",
       "      <td>2.472865</td>\n",
       "      <td>1.373625</td>\n",
       "      <td>10382.321200</td>\n",
       "      <td>0.666713</td>\n",
       "      <td>0.710450</td>\n",
       "      <td>0.271062</td>\n",
       "      <td>55.942551</td>\n",
       "      <td>...</td>\n",
       "      <td>162.537750</td>\n",
       "      <td>82.835883</td>\n",
       "      <td>-1.117115</td>\n",
       "      <td>-0.054858</td>\n",
       "      <td>2.162610</td>\n",
       "      <td>12243.344090</td>\n",
       "      <td>0.560580</td>\n",
       "      <td>0.695629</td>\n",
       "      <td>0.111088</td>\n",
       "      <td>1</td>\n",
       "    </tr>\n",
       "    <tr>\n",
       "      <th>3</th>\n",
       "      <td>38.373337</td>\n",
       "      <td>82.488351</td>\n",
       "      <td>2.026605</td>\n",
       "      <td>2.479962</td>\n",
       "      <td>1.485618</td>\n",
       "      <td>9399.336734</td>\n",
       "      <td>0.649457</td>\n",
       "      <td>0.695477</td>\n",
       "      <td>0.311426</td>\n",
       "      <td>54.772614</td>\n",
       "      <td>...</td>\n",
       "      <td>161.510162</td>\n",
       "      <td>82.691970</td>\n",
       "      <td>-1.137138</td>\n",
       "      <td>-0.034112</td>\n",
       "      <td>2.125591</td>\n",
       "      <td>11964.657400</td>\n",
       "      <td>0.557702</td>\n",
       "      <td>0.691261</td>\n",
       "      <td>0.128169</td>\n",
       "      <td>1</td>\n",
       "    </tr>\n",
       "    <tr>\n",
       "      <th>4</th>\n",
       "      <td>39.092346</td>\n",
       "      <td>80.643568</td>\n",
       "      <td>1.973096</td>\n",
       "      <td>2.389773</td>\n",
       "      <td>1.664926</td>\n",
       "      <td>8257.256189</td>\n",
       "      <td>0.640832</td>\n",
       "      <td>0.689191</td>\n",
       "      <td>0.367061</td>\n",
       "      <td>48.296722</td>\n",
       "      <td>...</td>\n",
       "      <td>162.340897</td>\n",
       "      <td>81.835853</td>\n",
       "      <td>-1.258373</td>\n",
       "      <td>0.122907</td>\n",
       "      <td>2.121965</td>\n",
       "      <td>11100.566650</td>\n",
       "      <td>0.573414</td>\n",
       "      <td>0.694173</td>\n",
       "      <td>0.174132</td>\n",
       "      <td>1</td>\n",
       "    </tr>\n",
       "  </tbody>\n",
       "</table>\n",
       "<p>5 rows × 28 columns</p>\n",
       "</div>"
      ],
      "text/plain": [
       "       Mean1  Variance1  Skewness1  Kurtosis1  Contrast1      Entropy1  \\\n",
       "0  42.309998  83.484414   1.818016   1.807846   1.467045   3731.006605   \n",
       "1  39.366226  82.120006   1.939550   2.232114   1.401411   3436.584393   \n",
       "2  37.898514  84.257568   2.053724   2.472865   1.373625  10382.321200   \n",
       "3  38.373337  82.488351   2.026605   2.479962   1.485618   9399.336734   \n",
       "4  39.092346  80.643568   1.973096   2.389773   1.664926   8257.256189   \n",
       "\n",
       "    Energy1     Homo1    Corre1      Mean2  ...       Mean3  Variance3  \\\n",
       "0  0.703142  0.870627  0.732727  32.688538  ...  165.165817  93.981039   \n",
       "1  0.730720  0.890305  0.745583  32.111114  ...  173.271973  91.703587   \n",
       "2  0.666713  0.710450  0.271062  55.942551  ...  162.537750  82.835883   \n",
       "3  0.649457  0.695477  0.311426  54.772614  ...  161.510162  82.691970   \n",
       "4  0.640832  0.689191  0.367061  48.296722  ...  162.340897  81.835853   \n",
       "\n",
       "   Skewness3  Kurtosis3  Contrast3      Entropy3   Energy3    Homo13  \\\n",
       "0  -1.134481  -0.590945   1.652185   5565.156755  0.644235  0.883303   \n",
       "1  -1.318133  -0.169259   1.606052   4818.707161  0.676147  0.896975   \n",
       "2  -1.117115  -0.054858   2.162610  12243.344090  0.560580  0.695629   \n",
       "3  -1.137138  -0.034112   2.125591  11964.657400  0.557702  0.691261   \n",
       "4  -1.258373   0.122907   2.121965  11100.566650  0.573414  0.694173   \n",
       "\n",
       "     Corre3  Class  \n",
       "0  0.685422      1  \n",
       "1  0.713930      1  \n",
       "2  0.111088      1  \n",
       "3  0.128169      1  \n",
       "4  0.174132      1  \n",
       "\n",
       "[5 rows x 28 columns]"
      ]
     },
     "execution_count": 4,
     "metadata": {},
     "output_type": "execute_result"
    }
   ],
   "source": [
    "dataset.head()"
   ]
  },
  {
   "cell_type": "code",
   "execution_count": 5,
   "id": "1fd164bf",
   "metadata": {},
   "outputs": [],
   "source": [
    "# importing the train_test_split method from sklearn\n",
    "from sklearn.model_selection import train_test_split\n",
    "# splitting the data \n",
    "X_train, X_test, y_train, y_test =train_test_split(X,y,test_size=0.30, random_state=0)"
   ]
  },
  {
   "cell_type": "code",
   "execution_count": 6,
   "id": "6ed334b0",
   "metadata": {},
   "outputs": [],
   "source": [
    "# applying standard scale method\n",
    "from sklearn.preprocessing import StandardScaler\n",
    "sc = StandardScaler()\n",
    "# scaling training and testing data set\n",
    "X_train = sc.fit_transform(X_train)\n",
    "X_test = sc.transform(X_test)"
   ]
  },
  {
   "cell_type": "code",
   "execution_count": 7,
   "id": "f38f60c0",
   "metadata": {},
   "outputs": [],
   "source": [
    "# importing KNN algorithm\n",
    "from sklearn.neighbors import KNeighborsClassifier\n",
    "# K value set to be 3\n",
    "classifer = KNeighborsClassifier(n_neighbors=4 )\n",
    "# model training\n",
    "classifer.fit(X_train,y_train)\n",
    "# testing the model\n",
    "y_pred= classifer.predict(X_test)"
   ]
  },
  {
   "cell_type": "code",
   "execution_count": 8,
   "id": "94a20270",
   "metadata": {},
   "outputs": [
    {
     "name": "stdout",
     "output_type": "stream",
     "text": [
      "0.9285714285714286\n"
     ]
    }
   ],
   "source": [
    "# importing accuracy_score\n",
    "from sklearn.metrics import accuracy_score\n",
    "# printing accuracy\n",
    "print(accuracy_score(y_test,y_pred))"
   ]
  },
  {
   "cell_type": "code",
   "execution_count": 9,
   "id": "11655710",
   "metadata": {},
   "outputs": [
    {
     "data": {
      "text/plain": [
       "<matplotlib.legend.Legend at 0x168f0366dd0>"
      ]
     },
     "execution_count": 9,
     "metadata": {},
     "output_type": "execute_result"
    },
    {
     "data": {
      "image/png": "[encoded data removed]",
      "text/plain": [
       "<Figure size 640x480 with 1 Axes>"
      ]
     },
     "metadata": {},
     "output_type": "display_data"
    }
   ],
   "source": [
    "# Importing the numpy modlule\n",
    "import numpy as np\n",
    "# creating sets for errors\n",
    "error1= []\n",
    "error2= []\n",
    "# for loop \n",
    "for k in range(1,15):\n",
    "#     using KNN algorithm\n",
    "    knn= KNeighborsClassifier(n_neighbors=k)\n",
    "    knn.fit(X_train,y_train)\n",
    "    y_pred1= knn.predict(X_train)\n",
    "#     stroring the errors\n",
    "    error1.append(np.mean(y_train!= y_pred1))\n",
    "    y_pred2= knn.predict(X_test)\n",
    "    error2.append(np.mean(y_test!= y_pred2))\n",
    "# ploting the graphs for testing and training \n",
    "plt.plot(range(1,15),error1,label=\"train\")\n",
    "plt.plot(range(1,15),error2,label=\"test\")\n",
    "plt.xlabel('k Value')\n",
    "plt.ylabel('Error')\n",
    "plt.legend()"
   ]
  },
  {
   "cell_type": "markdown",
   "id": "f580b915",
   "metadata": {},
   "source": [
    "# KNN Algorithm\n",
    "KNN can be used for both binary classification and regression problems, which means the output can be either categorical or continuous.\n",
    "\n",
    "In binary classification, the output is categorical and can take one of two possible values. For example, it could be a classification of \"positive\" or \"negative\" sentiment, or \"spam\" or \"not spam\".\n",
    "\n",
    "In regression, the output is continuous and can take on any numerical value. For example, it could be used to predict the price of a house or the height of a person.\n",
    "\n",
    "In both cases, KNN outputs a predicted value for a new observation based on the values of the k nearest neighbors in the training data. The difference is in how the predicted value is calculated. In binary classification, it is usually determined by a majority vote among the k nearest neighbors, while in regression, it is typically based on the mean or median value of the k nearest neighbors' target variable values.\n",
    "\n",
    "So, KNN can be used for both categorical and continuous output variables depending on the nature of the problem being solved.\n",
    "\n",
    "Thus we should be able to use the KNN (K-Nearest Neighbors) algorithm to find the Mean Squared Error (MSE) and Root Mean Squared Error (RMSE)."
   ]
  },
  {
   "cell_type": "code",
   "execution_count": 10,
   "id": "3df6f93c",
   "metadata": {
    "scrolled": true
   },
   "outputs": [],
   "source": [
    "# from sklearn.metrics import mean_squared_error, mean_squared_error\n",
    "# from sklearn.metrics import mean_absolute_error\n",
    "# # Assuming y_train and y_pred are the train and predicted labels, respectively\n",
    "# MSE = mean_squared_error(y_test, y_pred)\n",
    "# RMSE = mean_squared_error(y_test, y_pred, squared=False)\n",
    "# MAE = mean_absolute_error(y_test, y_pred)"
   ]
  },
  {
   "cell_type": "code",
   "execution_count": 11,
   "id": "054a7136",
   "metadata": {},
   "outputs": [
    {
     "name": "stdout",
     "output_type": "stream",
     "text": [
      "0.9285714285714286\n",
      "              precision    recall  f1-score   support\n",
      "\n",
      "           0       0.91      1.00      0.95        31\n",
      "           1       1.00      0.73      0.84        11\n",
      "\n",
      "    accuracy                           0.93        42\n",
      "   macro avg       0.96      0.86      0.90        42\n",
      "weighted avg       0.93      0.93      0.92        42\n",
      "\n"
     ]
    }
   ],
   "source": [
    "# importing the accuracy score\n",
    "from sklearn.metrics import accuracy_score\n",
    "# accuracy\n",
    "print(accuracy_score(y_test, y_pred))\n",
    "from sklearn.metrics import classification_report\n",
    "print(classification_report(y_test, y_pred))"
   ]
  },
  {
   "cell_type": "code",
   "execution_count": null,
   "id": "eb5a6132",
   "metadata": {},
   "outputs": [],
   "source": []
  },
  {
   "cell_type": "code",
   "execution_count": null,
   "id": "fb81fc6b",
   "metadata": {},
   "outputs": [],
   "source": []
  }
 ],
 "metadata": {
  "kernelspec": {
   "display_name": "Python 3 (ipykernel)",
   "language": "python",
   "name": "python3"
  },
  "language_info": {
   "codemirror_mode": {
    "name": "ipython",
    "version": 3
   },
   "file_extension": ".py",
   "mimetype": "text/x-python",
   "name": "python",
   "nbconvert_exporter": "python",
   "pygments_lexer": "ipython3",
   "version": "3.10.9"
  }
 },
 "nbformat": 4,
 "nbformat_minor": 5
}
