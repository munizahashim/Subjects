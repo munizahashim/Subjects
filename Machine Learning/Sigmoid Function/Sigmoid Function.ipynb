{
 "cells": [
  {
   "cell_type": "markdown",
   "id": "523960ef",
   "metadata": {},
   "source": [
    "# Formula for Sigmoid function\n",
    "The formula for a sigmoid function is as follows -\n",
    "\n",
    "𝑔(𝑧)=11+𝑒−𝑧(1)\n",
    "In the case of logistic regression, z (the input to the sigmoid function), is the output of a linear regression model.\n",
    "\n",
    "In the case of a single example,  𝑧\n",
    "  is scalar.\n",
    "in the case of multiple examples,  𝑧\n",
    "  may be a vector consisting of  𝑚\n",
    "  values, one for each example.\n",
    "The implementation of the sigmoid function should cover both of these potential input formats. Let's implement this in Python.\n",
    "NumPy has a function called exp(), which offers a convenient way to calculate the exponential ( 𝑒𝑧\n",
    ") of all elements in the input array (z).\n",
    "\n",
    "It also works with a single number as an input, as shown below."
   ]
  },
  {
   "cell_type": "code",
   "execution_count": 2,
   "id": "8276626f",
   "metadata": {},
   "outputs": [
    {
     "name": "stdout",
     "output_type": "stream",
     "text": [
      "Input to exp: [1 2 3]\n",
      "Output of exp: [ 2.71828183  7.3890561  20.08553692]\n",
      "Input to exp: 1\n",
      "Output of exp: 2.718281828459045\n"
     ]
    }
   ],
   "source": [
    "import numpy as np\n",
    "# Input is an array. \n",
    "input_array = np.array([1,2,3])\n",
    "exp_array = np.exp(input_array)\n",
    "\n",
    "print(\"Input to exp:\", input_array)\n",
    "print(\"Output of exp:\", exp_array)\n",
    "\n",
    "# Input is a single number\n",
    "input_val = 1  \n",
    "exp_val = np.exp(input_val)\n",
    "\n",
    "print(\"Input to exp:\", input_val)\n",
    "print(\"Output of exp:\", exp_val)"
   ]
  },
  {
   "cell_type": "markdown",
   "id": "9cfdee90",
   "metadata": {},
   "source": [
    "The sigmoid function is implemented in python as shown in the cell below."
   ]
  },
  {
   "cell_type": "code",
   "execution_count": 5,
   "id": "b0f2a917",
   "metadata": {},
   "outputs": [],
   "source": [
    "def sigmoid(z):\n",
    "    \"\"\"\n",
    "    Compute the sigmoid of z\n",
    "\n",
    "    Args:\n",
    "        z (ndarray): A scalar, numpy array of any size.\n",
    "\n",
    "    Returns:\n",
    "        g (ndarray): sigmoid(z), with the same shape as z\n",
    "         \n",
    "    \"\"\"\n",
    "\n",
    "    g = 1/(1+np.exp(-z))\n",
    "   \n",
    "    return g"
   ]
  },
  {
   "cell_type": "code",
   "execution_count": 6,
   "id": "502851ab",
   "metadata": {},
   "outputs": [
    {
     "name": "stdout",
     "output_type": "stream",
     "text": [
      "Input (z), Output (sigmoid(z))\n",
      "[[-1.000e+01  4.540e-05]\n",
      " [-9.000e+00  1.234e-04]\n",
      " [-8.000e+00  3.354e-04]\n",
      " [-7.000e+00  9.111e-04]\n",
      " [-6.000e+00  2.473e-03]\n",
      " [-5.000e+00  6.693e-03]\n",
      " [-4.000e+00  1.799e-02]\n",
      " [-3.000e+00  4.743e-02]\n",
      " [-2.000e+00  1.192e-01]\n",
      " [-1.000e+00  2.689e-01]\n",
      " [ 0.000e+00  5.000e-01]\n",
      " [ 1.000e+00  7.311e-01]\n",
      " [ 2.000e+00  8.808e-01]\n",
      " [ 3.000e+00  9.526e-01]\n",
      " [ 4.000e+00  9.820e-01]\n",
      " [ 5.000e+00  9.933e-01]\n",
      " [ 6.000e+00  9.975e-01]\n",
      " [ 7.000e+00  9.991e-01]\n",
      " [ 8.000e+00  9.997e-01]\n",
      " [ 9.000e+00  9.999e-01]\n",
      " [ 1.000e+01  1.000e+00]]\n"
     ]
    }
   ],
   "source": [
    "# Generate an array of evenly spaced values between -10 and 10\n",
    "z_tmp = np.arange(-10,11)\n",
    "\n",
    "# Use the function implemented above to get the sigmoid values\n",
    "y = sigmoid(z_tmp)\n",
    "\n",
    "# Code for pretty printing the two arrays next to each other\n",
    "np.set_printoptions(precision=3) \n",
    "print(\"Input (z), Output (sigmoid(z))\")\n",
    "print(np.c_[z_tmp, y])"
   ]
  },
  {
   "cell_type": "markdown",
   "id": "18d35b5c",
   "metadata": {},
   "source": [
    "The values in the left column are z, and the values in the right column are sigmoid(z). As you can see, the input values to the sigmoid range from -10 to 10, and the output values range from 0 to 1.\n",
    "\n",
    "Now, let's try to plot this function using the matplotlib library"
   ]
  },
  {
   "cell_type": "code",
   "execution_count": 10,
   "id": "95b1fc6f",
   "metadata": {},
   "outputs": [
    {
     "data": {
      "text/plain": [
       "Text(0.5, 0, 'z')"
      ]
     },
     "execution_count": 10,
     "metadata": {},
     "output_type": "execute_result"
    },
    {
     "data": {
      "image/png": "[encoded data removed]",
      "text/plain": [
       "<Figure size 500x300 with 1 Axes>"
      ]
     },
     "metadata": {},
     "output_type": "display_data"
    }
   ],
   "source": [
    "import matplotlib.pyplot as plt\n",
    "# Plot z vs sigmoid(z)\n",
    "fig,ax = plt.subplots(1,1,figsize=(5,3))\n",
    "ax.plot(z_tmp, y, c=\"b\")\n",
    "\n",
    "ax.set_title(\"Sigmoid function\")\n",
    "ax.set_ylabel('sigmoid(z)')\n",
    "ax.set_xlabel('z')\n",
    "# draw_vthresh(ax,0)"
   ]
  },
  {
   "cell_type": "markdown",
   "id": "2de51411",
   "metadata": {},
   "source": [
    "# Logistic Regression\n",
    "A logistic regression model applies the sigmoid to the familiar linear regression model as shown below:\n",
    "\n",
    "𝑓𝐰,𝑏(𝐱(𝑖))=𝑔(𝐰⋅𝐱(𝑖)+𝑏)= 1 /  1+𝑒^−(𝐰⋅𝐱(𝑖)+𝑏) \n",
    "where\n",
    "\n",
    "𝑔(𝑧)=1 /  1+𝑒^−𝑧(3)\n",
    "Let's apply logistic regression to the categorical data example of tumor classification.\n",
    "First, load the examples and initial values for the parameters."
   ]
  },
  {
   "cell_type": "markdown",
   "id": "7e58a059",
   "metadata": {},
   "source": [
    "Let's apply logistic regression to the categorical data example of tumor classification.\n",
    "First, load the examples and initial values for the parameters."
   ]
  },
  {
   "cell_type": "code",
   "execution_count": 11,
   "id": "28108ce8",
   "metadata": {},
   "outputs": [],
   "source": [
    "x_train = np.array([0., 1, 2, 3, 4, 5])\n",
    "y_train = np.array([0,  0, 0, 1, 1, 1])\n",
    "\n",
    "w_in = np.zeros((1))\n",
    "b_in = 0"
   ]
  },
  {
   "cell_type": "markdown",
   "id": "54b796ec",
   "metadata": {},
   "source": [
    "Try the following steps:\n",
    "\n",
    "Click on 'Run Logistic Regression' to find the best logistic regression model for the given training data\n",
    "1. Note the resulting model fits the data quite well.\n",
    "2. Note, the orange line is ' 𝑧  ' or  𝐰⋅𝐱(𝑖)+𝑏 above. It does not match the line in a linear regression model. Further improve these results by applying a threshold.\n",
    "\n",
    "\n",
    "Tick the box on the 'Toggle 0.5 threshold' to show the predictions if a threshold is applied.\n",
    "1. These predictions look good. The predictions match the data\n",
    "2. Now, add further data points in the large tumor size range (near 10), and re-run logistic regression.\n",
    "3. unlike the linear regression model, this model continues to make correct predictions"
   ]
  },
  {
   "cell_type": "code",
   "execution_count": 15,
   "id": "603ebad0",
   "metadata": {},
   "outputs": [
    {
     "ename": "ModuleNotFoundError",
     "evalue": "No module named 'plt_one_addpt_onclick'",
     "output_type": "error",
     "traceback": [
      "\u001b[1;31m---------------------------------------------------------------------------\u001b[0m",
      "\u001b[1;31mModuleNotFoundError\u001b[0m                       Traceback (most recent call last)",
      "Cell \u001b[1;32mIn[15], line 1\u001b[0m\n\u001b[1;32m----> 1\u001b[0m \u001b[38;5;28;01mfrom\u001b[39;00m \u001b[38;5;21;01mplt_one_addpt_onclick\u001b[39;00m \u001b[38;5;28;01mimport\u001b[39;00m plt_one_addpt_onclick\n\u001b[0;32m      2\u001b[0m plt\u001b[38;5;241m.\u001b[39mclose(\u001b[38;5;124m'\u001b[39m\u001b[38;5;124mall\u001b[39m\u001b[38;5;124m'\u001b[39m) \n\u001b[0;32m      3\u001b[0m addpt \u001b[38;5;241m=\u001b[39m plt_one_addpt_onclick( x_train,y_train, w_in, b_in, logistic\u001b[38;5;241m=\u001b[39m\u001b[38;5;28;01mTrue\u001b[39;00m)\n",
      "\u001b[1;31mModuleNotFoundError\u001b[0m: No module named 'plt_one_addpt_onclick'"
     ]
    }
   ],
   "source": [
    "from plt_one_addpt_onclick import plt_one_addpt_onclick\n",
    "plt.close('all') \n",
    "addpt = plt_one_addpt_onclick( x_train,y_train, w_in, b_in, logistic=True)"
   ]
  },
  {
   "cell_type": "code",
   "execution_count": 19,
   "id": "fd557dbf",
   "metadata": {},
   "outputs": [
    {
     "data": {
      "text/plain": [
       "[<matplotlib.lines.Line2D at 0x2380cc90b80>,\n",
       " <matplotlib.lines.Line2D at 0x2380cc91300>]"
      ]
     },
     "execution_count": 19,
     "metadata": {},
     "output_type": "execute_result"
    },
    {
     "data": {
      "image/png": "[encoded data removed]",
      "text/plain": [
       "<Figure size 640x480 with 1 Axes>"
      ]
     },
     "metadata": {},
     "output_type": "display_data"
    }
   ],
   "source": [
    "import matplotlib.pyplot as plt\n",
    "plt.plot(x_train, y_train, w_in, b_in)"
   ]
  },
  {
   "cell_type": "code",
   "execution_count": null,
   "id": "814e69eb",
   "metadata": {},
   "outputs": [],
   "source": []
  }
 ],
 "metadata": {
  "kernelspec": {
   "display_name": "Python 3 (ipykernel)",
   "language": "python",
   "name": "python3"
  },
  "language_info": {
   "codemirror_mode": {
    "name": "ipython",
    "version": 3
   },
   "file_extension": ".py",
   "mimetype": "text/x-python",
   "name": "python",
   "nbconvert_exporter": "python",
   "pygments_lexer": "ipython3",
   "version": "3.10.9"
  }
 },
 "nbformat": 4,
 "nbformat_minor": 5
}
